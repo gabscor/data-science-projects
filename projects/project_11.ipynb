{
 "cells": [
  {
   "cell_type": "markdown",
   "metadata": {},
   "source": [
    "# Determinando o Valor de um Carro Usando Dados Históricos\n",
    "Rusty Bargain é um serviço de venda de carros usados que está desenvolvendo um aplicativo para atrair novos clientes. Nesse aplicativo, você pode descobrir rapidamente o valor de mercado do seu carro. Você tem acesso a dados históricos, especificações técnicas, versões de acabamento e preços. Precisamos construir o modelo para determinar o valor.\n",
    "\n",
    "Rusty Bargain está interessado em:\n",
    "\n",
    "- qualidade da predição\n",
    "- velocidade da predição\n",
    "- tempo necessário para o treinamento"
   ]
  },
  {
   "cell_type": "markdown",
   "metadata": {},
   "source": [
    "# Sumário\n",
    "1. [Iniciação](#1)\n",
    "2. [Pré-processamento de Dados](#2)\n",
    "3. [Treinamento de Modelos](#3)\n",
    "  - [Linear Regression](#31)\n",
    "  - [Decision Tree](#32)\n",
    "  - [Random Forest](#33)\n",
    "  - [CatBoost](#34)\n",
    "  - [LightGBM](#35)\n",
    "4. [Análise dos Modelos](#4)\n",
    "5. [Conclusão](#5)"
   ]
  },
  {
   "cell_type": "markdown",
   "metadata": {},
   "source": [
    "# Iniciação <a name='1'></a>"
   ]
  },
  {
   "cell_type": "markdown",
   "metadata": {},
   "source": [
    "Importando as bibliotecas necessárias"
   ]
  },
  {
   "cell_type": "code",
   "execution_count": 1,
   "metadata": {},
   "outputs": [],
   "source": [
    "import pandas as pd\n",
    "import numpy as np\n",
    "from sklearn.linear_model import LinearRegression\n",
    "from sklearn.tree import DecisionTreeRegressor\n",
    "from sklearn.ensemble import RandomForestRegressor\n",
    "from sklearn.model_selection import GridSearchCV\n",
    "from sklearn.model_selection import train_test_split\n",
    "from sklearn.model_selection import cross_val_score\n",
    "from sklearn.model_selection import RepeatedKFold\n",
    "from sklearn.preprocessing import OrdinalEncoder\n",
    "from sklearn.metrics import mean_squared_error\n",
    "from sklearn.metrics import make_scorer\n",
    "import time\n",
    "from lightgbm import LGBMRegressor\n",
    "from catboost import CatBoostRegressor\n",
    "random_state=12345"
   ]
  },
  {
   "cell_type": "code",
   "execution_count": 2,
   "metadata": {},
   "outputs": [],
   "source": [
    "try:\n",
    "    data = pd.read_csv('autos.csv')\n",
    "except:\n",
    "    data = pd.read_csv('/datasets/autos.csv')"
   ]
  },
  {
   "cell_type": "code",
   "execution_count": 3,
   "metadata": {},
   "outputs": [
    {
     "name": "stdout",
     "output_type": "stream",
     "text": [
      "<class 'pandas.core.frame.DataFrame'>\n",
      "RangeIndex: 354369 entries, 0 to 354368\n",
      "Data columns (total 16 columns):\n",
      " #   Column             Non-Null Count   Dtype \n",
      "---  ------             --------------   ----- \n",
      " 0   DateCrawled        354369 non-null  object\n",
      " 1   Price              354369 non-null  int64 \n",
      " 2   VehicleType        316879 non-null  object\n",
      " 3   RegistrationYear   354369 non-null  int64 \n",
      " 4   Gearbox            334536 non-null  object\n",
      " 5   Power              354369 non-null  int64 \n",
      " 6   Model              334664 non-null  object\n",
      " 7   Kilometer          354369 non-null  int64 \n",
      " 8   RegistrationMonth  354369 non-null  int64 \n",
      " 9   FuelType           321474 non-null  object\n",
      " 10  Brand              354369 non-null  object\n",
      " 11  Repaired           283215 non-null  object\n",
      " 12  DateCreated        354369 non-null  object\n",
      " 13  NumberOfPictures   354369 non-null  int64 \n",
      " 14  PostalCode         354369 non-null  int64 \n",
      " 15  LastSeen           354369 non-null  object\n",
      "dtypes: int64(7), object(9)\n",
      "memory usage: 43.3+ MB\n"
     ]
    },
    {
     "data": {
      "text/html": [
       "<div>\n",
       "<style scoped>\n",
       "    .dataframe tbody tr th:only-of-type {\n",
       "        vertical-align: middle;\n",
       "    }\n",
       "\n",
       "    .dataframe tbody tr th {\n",
       "        vertical-align: top;\n",
       "    }\n",
       "\n",
       "    .dataframe thead th {\n",
       "        text-align: right;\n",
       "    }\n",
       "</style>\n",
       "<table border=\"1\" class=\"dataframe\">\n",
       "  <thead>\n",
       "    <tr style=\"text-align: right;\">\n",
       "      <th></th>\n",
       "      <th>DateCrawled</th>\n",
       "      <th>Price</th>\n",
       "      <th>VehicleType</th>\n",
       "      <th>RegistrationYear</th>\n",
       "      <th>Gearbox</th>\n",
       "      <th>Power</th>\n",
       "      <th>Model</th>\n",
       "      <th>Kilometer</th>\n",
       "      <th>RegistrationMonth</th>\n",
       "      <th>FuelType</th>\n",
       "      <th>Brand</th>\n",
       "      <th>Repaired</th>\n",
       "      <th>DateCreated</th>\n",
       "      <th>NumberOfPictures</th>\n",
       "      <th>PostalCode</th>\n",
       "      <th>LastSeen</th>\n",
       "    </tr>\n",
       "  </thead>\n",
       "  <tbody>\n",
       "    <tr>\n",
       "      <th>0</th>\n",
       "      <td>2016-03-24 11:52:17</td>\n",
       "      <td>480</td>\n",
       "      <td>NaN</td>\n",
       "      <td>1993</td>\n",
       "      <td>manual</td>\n",
       "      <td>0</td>\n",
       "      <td>golf</td>\n",
       "      <td>150000</td>\n",
       "      <td>0</td>\n",
       "      <td>petrol</td>\n",
       "      <td>volkswagen</td>\n",
       "      <td>NaN</td>\n",
       "      <td>2016-03-24 00:00:00</td>\n",
       "      <td>0</td>\n",
       "      <td>70435</td>\n",
       "      <td>2016-04-07 03:16:57</td>\n",
       "    </tr>\n",
       "    <tr>\n",
       "      <th>1</th>\n",
       "      <td>2016-03-24 10:58:45</td>\n",
       "      <td>18300</td>\n",
       "      <td>coupe</td>\n",
       "      <td>2011</td>\n",
       "      <td>manual</td>\n",
       "      <td>190</td>\n",
       "      <td>NaN</td>\n",
       "      <td>125000</td>\n",
       "      <td>5</td>\n",
       "      <td>gasoline</td>\n",
       "      <td>audi</td>\n",
       "      <td>yes</td>\n",
       "      <td>2016-03-24 00:00:00</td>\n",
       "      <td>0</td>\n",
       "      <td>66954</td>\n",
       "      <td>2016-04-07 01:46:50</td>\n",
       "    </tr>\n",
       "    <tr>\n",
       "      <th>2</th>\n",
       "      <td>2016-03-14 12:52:21</td>\n",
       "      <td>9800</td>\n",
       "      <td>suv</td>\n",
       "      <td>2004</td>\n",
       "      <td>auto</td>\n",
       "      <td>163</td>\n",
       "      <td>grand</td>\n",
       "      <td>125000</td>\n",
       "      <td>8</td>\n",
       "      <td>gasoline</td>\n",
       "      <td>jeep</td>\n",
       "      <td>NaN</td>\n",
       "      <td>2016-03-14 00:00:00</td>\n",
       "      <td>0</td>\n",
       "      <td>90480</td>\n",
       "      <td>2016-04-05 12:47:46</td>\n",
       "    </tr>\n",
       "    <tr>\n",
       "      <th>3</th>\n",
       "      <td>2016-03-17 16:54:04</td>\n",
       "      <td>1500</td>\n",
       "      <td>small</td>\n",
       "      <td>2001</td>\n",
       "      <td>manual</td>\n",
       "      <td>75</td>\n",
       "      <td>golf</td>\n",
       "      <td>150000</td>\n",
       "      <td>6</td>\n",
       "      <td>petrol</td>\n",
       "      <td>volkswagen</td>\n",
       "      <td>no</td>\n",
       "      <td>2016-03-17 00:00:00</td>\n",
       "      <td>0</td>\n",
       "      <td>91074</td>\n",
       "      <td>2016-03-17 17:40:17</td>\n",
       "    </tr>\n",
       "    <tr>\n",
       "      <th>4</th>\n",
       "      <td>2016-03-31 17:25:20</td>\n",
       "      <td>3600</td>\n",
       "      <td>small</td>\n",
       "      <td>2008</td>\n",
       "      <td>manual</td>\n",
       "      <td>69</td>\n",
       "      <td>fabia</td>\n",
       "      <td>90000</td>\n",
       "      <td>7</td>\n",
       "      <td>gasoline</td>\n",
       "      <td>skoda</td>\n",
       "      <td>no</td>\n",
       "      <td>2016-03-31 00:00:00</td>\n",
       "      <td>0</td>\n",
       "      <td>60437</td>\n",
       "      <td>2016-04-06 10:17:21</td>\n",
       "    </tr>\n",
       "  </tbody>\n",
       "</table>\n",
       "</div>"
      ],
      "text/plain": [
       "           DateCrawled  Price VehicleType  RegistrationYear Gearbox  Power  \\\n",
       "0  2016-03-24 11:52:17    480         NaN              1993  manual      0   \n",
       "1  2016-03-24 10:58:45  18300       coupe              2011  manual    190   \n",
       "2  2016-03-14 12:52:21   9800         suv              2004    auto    163   \n",
       "3  2016-03-17 16:54:04   1500       small              2001  manual     75   \n",
       "4  2016-03-31 17:25:20   3600       small              2008  manual     69   \n",
       "\n",
       "   Model  Kilometer  RegistrationMonth  FuelType       Brand Repaired  \\\n",
       "0   golf     150000                  0    petrol  volkswagen      NaN   \n",
       "1    NaN     125000                  5  gasoline        audi      yes   \n",
       "2  grand     125000                  8  gasoline        jeep      NaN   \n",
       "3   golf     150000                  6    petrol  volkswagen       no   \n",
       "4  fabia      90000                  7  gasoline       skoda       no   \n",
       "\n",
       "           DateCreated  NumberOfPictures  PostalCode             LastSeen  \n",
       "0  2016-03-24 00:00:00                 0       70435  2016-04-07 03:16:57  \n",
       "1  2016-03-24 00:00:00                 0       66954  2016-04-07 01:46:50  \n",
       "2  2016-03-14 00:00:00                 0       90480  2016-04-05 12:47:46  \n",
       "3  2016-03-17 00:00:00                 0       91074  2016-03-17 17:40:17  \n",
       "4  2016-03-31 00:00:00                 0       60437  2016-04-06 10:17:21  "
      ]
     },
     "execution_count": 3,
     "metadata": {},
     "output_type": "execute_result"
    }
   ],
   "source": [
    "data.info()\n",
    "data.head()"
   ]
  },
  {
   "cell_type": "markdown",
   "metadata": {},
   "source": [
    "Notamos algumas linhas com valores ausentes. Observemos a descrição das colunas numéricas:"
   ]
  },
  {
   "cell_type": "code",
   "execution_count": 4,
   "metadata": {},
   "outputs": [
    {
     "data": {
      "text/html": [
       "<div>\n",
       "<style scoped>\n",
       "    .dataframe tbody tr th:only-of-type {\n",
       "        vertical-align: middle;\n",
       "    }\n",
       "\n",
       "    .dataframe tbody tr th {\n",
       "        vertical-align: top;\n",
       "    }\n",
       "\n",
       "    .dataframe thead th {\n",
       "        text-align: right;\n",
       "    }\n",
       "</style>\n",
       "<table border=\"1\" class=\"dataframe\">\n",
       "  <thead>\n",
       "    <tr style=\"text-align: right;\">\n",
       "      <th></th>\n",
       "      <th>Price</th>\n",
       "      <th>RegistrationYear</th>\n",
       "      <th>Power</th>\n",
       "      <th>Kilometer</th>\n",
       "      <th>RegistrationMonth</th>\n",
       "      <th>NumberOfPictures</th>\n",
       "      <th>PostalCode</th>\n",
       "    </tr>\n",
       "  </thead>\n",
       "  <tbody>\n",
       "    <tr>\n",
       "      <th>count</th>\n",
       "      <td>354369.000000</td>\n",
       "      <td>354369.000000</td>\n",
       "      <td>354369.000000</td>\n",
       "      <td>354369.000000</td>\n",
       "      <td>354369.000000</td>\n",
       "      <td>354369.0</td>\n",
       "      <td>354369.000000</td>\n",
       "    </tr>\n",
       "    <tr>\n",
       "      <th>mean</th>\n",
       "      <td>4416.656776</td>\n",
       "      <td>2004.234448</td>\n",
       "      <td>110.094337</td>\n",
       "      <td>128211.172535</td>\n",
       "      <td>5.714645</td>\n",
       "      <td>0.0</td>\n",
       "      <td>50508.689087</td>\n",
       "    </tr>\n",
       "    <tr>\n",
       "      <th>std</th>\n",
       "      <td>4514.158514</td>\n",
       "      <td>90.227958</td>\n",
       "      <td>189.850405</td>\n",
       "      <td>37905.341530</td>\n",
       "      <td>3.726421</td>\n",
       "      <td>0.0</td>\n",
       "      <td>25783.096248</td>\n",
       "    </tr>\n",
       "    <tr>\n",
       "      <th>min</th>\n",
       "      <td>0.000000</td>\n",
       "      <td>1000.000000</td>\n",
       "      <td>0.000000</td>\n",
       "      <td>5000.000000</td>\n",
       "      <td>0.000000</td>\n",
       "      <td>0.0</td>\n",
       "      <td>1067.000000</td>\n",
       "    </tr>\n",
       "    <tr>\n",
       "      <th>25%</th>\n",
       "      <td>1050.000000</td>\n",
       "      <td>1999.000000</td>\n",
       "      <td>69.000000</td>\n",
       "      <td>125000.000000</td>\n",
       "      <td>3.000000</td>\n",
       "      <td>0.0</td>\n",
       "      <td>30165.000000</td>\n",
       "    </tr>\n",
       "    <tr>\n",
       "      <th>50%</th>\n",
       "      <td>2700.000000</td>\n",
       "      <td>2003.000000</td>\n",
       "      <td>105.000000</td>\n",
       "      <td>150000.000000</td>\n",
       "      <td>6.000000</td>\n",
       "      <td>0.0</td>\n",
       "      <td>49413.000000</td>\n",
       "    </tr>\n",
       "    <tr>\n",
       "      <th>75%</th>\n",
       "      <td>6400.000000</td>\n",
       "      <td>2008.000000</td>\n",
       "      <td>143.000000</td>\n",
       "      <td>150000.000000</td>\n",
       "      <td>9.000000</td>\n",
       "      <td>0.0</td>\n",
       "      <td>71083.000000</td>\n",
       "    </tr>\n",
       "    <tr>\n",
       "      <th>max</th>\n",
       "      <td>20000.000000</td>\n",
       "      <td>9999.000000</td>\n",
       "      <td>20000.000000</td>\n",
       "      <td>150000.000000</td>\n",
       "      <td>12.000000</td>\n",
       "      <td>0.0</td>\n",
       "      <td>99998.000000</td>\n",
       "    </tr>\n",
       "  </tbody>\n",
       "</table>\n",
       "</div>"
      ],
      "text/plain": [
       "               Price  RegistrationYear          Power      Kilometer  \\\n",
       "count  354369.000000     354369.000000  354369.000000  354369.000000   \n",
       "mean     4416.656776       2004.234448     110.094337  128211.172535   \n",
       "std      4514.158514         90.227958     189.850405   37905.341530   \n",
       "min         0.000000       1000.000000       0.000000    5000.000000   \n",
       "25%      1050.000000       1999.000000      69.000000  125000.000000   \n",
       "50%      2700.000000       2003.000000     105.000000  150000.000000   \n",
       "75%      6400.000000       2008.000000     143.000000  150000.000000   \n",
       "max     20000.000000       9999.000000   20000.000000  150000.000000   \n",
       "\n",
       "       RegistrationMonth  NumberOfPictures     PostalCode  \n",
       "count      354369.000000          354369.0  354369.000000  \n",
       "mean            5.714645               0.0   50508.689087  \n",
       "std             3.726421               0.0   25783.096248  \n",
       "min             0.000000               0.0    1067.000000  \n",
       "25%             3.000000               0.0   30165.000000  \n",
       "50%             6.000000               0.0   49413.000000  \n",
       "75%             9.000000               0.0   71083.000000  \n",
       "max            12.000000               0.0   99998.000000  "
      ]
     },
     "execution_count": 4,
     "metadata": {},
     "output_type": "execute_result"
    }
   ],
   "source": [
    "data.describe()"
   ]
  },
  {
   "cell_type": "markdown",
   "metadata": {},
   "source": [
    "Observa-se que:\n",
    "1. Há valores 0 em `Price`. Isso não faz sentido, portanto filtraremos.\n",
    "2. Há valores de anos que de acordo com a história são impossíveis de estarem lá, já que o automóvel foi inventado em 1886 e estamos em 2023. A filtragem é necessária novamente.\n",
    "3. `Power` 0. Isso não faz sentido em um carro. Novamente filtragem.\n",
    "4. Os meses vão de 1 a 12, mas temos valores de 0 na coluna `RegistrationMonth`. Filtragem.\n",
    "5. A coluna `NumberOfPictures` é completa de zeros. Descartaremos a coluna inteira, pois isso não é útil nesse contexto."
   ]
  },
  {
   "cell_type": "markdown",
   "metadata": {},
   "source": [
    "# Pré-processamento de Dados <a name='2'></a>"
   ]
  },
  {
   "cell_type": "markdown",
   "metadata": {},
   "source": [
    "Verificaremos se há linhas duplicadas, caso haja alguma, iremos excluí-las."
   ]
  },
  {
   "cell_type": "code",
   "execution_count": 5,
   "metadata": {},
   "outputs": [
    {
     "data": {
      "text/plain": [
       "4"
      ]
     },
     "execution_count": 5,
     "metadata": {},
     "output_type": "execute_result"
    }
   ],
   "source": [
    "data.duplicated().sum()"
   ]
  },
  {
   "cell_type": "markdown",
   "metadata": {},
   "source": [
    "Processando os dados:"
   ]
  },
  {
   "cell_type": "code",
   "execution_count": 6,
   "metadata": {},
   "outputs": [
    {
     "name": "stdout",
     "output_type": "stream",
     "text": [
      "<class 'pandas.core.frame.DataFrame'>\n",
      "Int64Index: 253811 entries, 2 to 354368\n",
      "Data columns (total 15 columns):\n",
      " #   Column             Non-Null Count   Dtype \n",
      "---  ------             --------------   ----- \n",
      " 0   DateCrawled        253811 non-null  object\n",
      " 1   Price              253811 non-null  int64 \n",
      " 2   VehicleType        253811 non-null  object\n",
      " 3   RegistrationYear   253811 non-null  int64 \n",
      " 4   Gearbox            253811 non-null  object\n",
      " 5   Power              253811 non-null  int64 \n",
      " 6   Model              253811 non-null  object\n",
      " 7   Kilometer          253811 non-null  int64 \n",
      " 8   RegistrationMonth  253811 non-null  int64 \n",
      " 9   FuelType           253811 non-null  object\n",
      " 10  Brand              253811 non-null  object\n",
      " 11  Repaired           253811 non-null  object\n",
      " 12  DateCreated        253811 non-null  object\n",
      " 13  PostalCode         253811 non-null  int64 \n",
      " 14  LastSeen           253811 non-null  object\n",
      "dtypes: int64(6), object(9)\n",
      "memory usage: 31.0+ MB\n"
     ]
    }
   ],
   "source": [
    "data = data[data['Price']!=0]\n",
    "data = data[data['Power']!=0]\n",
    "data = data[data['RegistrationMonth']!=0]\n",
    "data = data[(1886 <= data['RegistrationYear']) & (data['RegistrationYear'] <= 2021)]\n",
    "data = data.drop('NumberOfPictures', axis=1)\n",
    "data['Repaired'].fillna(value='unknown', inplace=True)\n",
    "data.dropna(inplace=True)\n",
    "data.drop_duplicates(inplace=True)\n",
    "data.info()"
   ]
  },
  {
   "cell_type": "markdown",
   "metadata": {},
   "source": [
    "Processamento finalizado. Agora prepararemos os conjuntos de dados. Treinaremos os modelos Linear Regression (modelo fraco), Decision Tree Regressor, Random Forest Regressor, CatBoost Regressor e LightGBM Regressor. Os três primeiros modelos exigirão que codifiquemos as características categóricas antes do treinamento. Os 2 últimos não precisam de codificação prévia, pois possuem codificadores integrados, portanto faremos 2 cópias dos dados limpos: 1 que não está codificada (que será usada com CatBoost e LightGBM), e outra que será codificada para os outros modelos. Primeiro, os dados que permanecerão não codificados:"
   ]
  },
  {
   "cell_type": "code",
   "execution_count": 7,
   "metadata": {},
   "outputs": [
    {
     "name": "stdout",
     "output_type": "stream",
     "text": [
      "(203048, 11)\n",
      "(203048,)\n",
      "(50763, 11)\n",
      "(50763,)\n"
     ]
    }
   ],
   "source": [
    "data_gbm = data.copy()\n",
    "data_gbm.drop(['DateCrawled', 'DateCreated', 'LastSeen'], axis=1, inplace=True) #colunas com formato data-hora\n",
    "data_gbm.reset_index(drop=True, inplace=True)\n",
    "\n",
    "f_gbm = data_gbm.drop('Price', axis=1)\n",
    "t_gbm = data_gbm['Price']\n",
    "\n",
    "f_train_gbm, f_test_gbm, t_train_gbm, t_test_gbm=train_test_split(f_gbm, t_gbm, test_size=0.2,\n",
    "                                                                  random_state=random_state)\n",
    "\n",
    "print(f_train_gbm.shape)\n",
    "print(t_train_gbm.shape)\n",
    "print(f_test_gbm.shape)\n",
    "print(t_test_gbm.shape)"
   ]
  },
  {
   "cell_type": "markdown",
   "metadata": {},
   "source": [
    "Criaremos uma lista com as colunas que queremos codificar:"
   ]
  },
  {
   "cell_type": "code",
   "execution_count": 8,
   "metadata": {},
   "outputs": [],
   "source": [
    "cat_feat = ['VehicleType', 'RegistrationYear', 'Gearbox', 'Model', 'RegistrationMonth',\n",
    "           'FuelType', 'Brand', 'Repaired', 'PostalCode']"
   ]
  },
  {
   "cell_type": "code",
   "execution_count": 9,
   "metadata": {},
   "outputs": [],
   "source": [
    "data_enc = data.copy()\n",
    "encoder = OrdinalEncoder()\n",
    "data_enc[cat_feat] = encoder.fit_transform(data_enc[cat_feat])"
   ]
  },
  {
   "cell_type": "markdown",
   "metadata": {},
   "source": [
    "Preparando e dividindo os dados codificados"
   ]
  },
  {
   "cell_type": "code",
   "execution_count": 10,
   "metadata": {},
   "outputs": [
    {
     "name": "stdout",
     "output_type": "stream",
     "text": [
      "(203048, 11)\n",
      "(203048,)\n",
      "(50763, 11)\n",
      "(50763,)\n"
     ]
    }
   ],
   "source": [
    "data_enc.drop(['DateCrawled', 'DateCreated', 'LastSeen'], axis=1, inplace=True)\n",
    "data_enc.reset_index(drop=True, inplace=True)\n",
    "f_enc = data_enc.drop('Price', axis=1)\n",
    "t_enc = data_enc['Price']\n",
    "f_train_enc, f_test_enc, t_train_enc, t_test_enc = train_test_split(f_enc, t_enc, test_size=0.2,\n",
    "                                                                    random_state=random_state)\n",
    "print(f_train_enc.shape)\n",
    "print(t_train_enc.shape)\n",
    "print(f_test_enc.shape)\n",
    "print(t_test_enc.shape)"
   ]
  },
  {
   "cell_type": "markdown",
   "metadata": {},
   "source": [
    "Pré-processamento terminado. Preparamos, portanto, os dados codificados e não codificados para o treinamento do modelo"
   ]
  },
  {
   "cell_type": "markdown",
   "metadata": {},
   "source": [
    "# Treinamento dos Modelos <a name='3'></a>"
   ]
  },
  {
   "cell_type": "markdown",
   "metadata": {},
   "source": [
    "Primeiro criaremos uma função que calcule o RMSE para torná-la nossa métrica de avaliação para os modelos."
   ]
  },
  {
   "cell_type": "code",
   "execution_count": 11,
   "metadata": {},
   "outputs": [],
   "source": [
    "def rmse(pred, target):\n",
    "    pred = np.array(pred)\n",
    "    target = np.array(target)\n",
    "    error = pred - target\n",
    "    sq_error = error ** 2\n",
    "    msq_error = sq_error.mean()\n",
    "    score = msq_error ** 0.5\n",
    "    return score\n",
    "scorer = make_scorer(rmse, greater_is_better=False)"
   ]
  },
  {
   "cell_type": "markdown",
   "metadata": {},
   "source": [
    "## Linear Regression<a name='31'></a>"
   ]
  },
  {
   "cell_type": "markdown",
   "metadata": {},
   "source": [
    "Treinaremos um modelo de Regressão Linear como o modelo base, ou seja, o valor da métrica de avaliação (RMSE) que obteremos dele será aquele que os outros modelos devem se esforçar para superar. Usaremos os dados codificados. Obtendo uma pontuação de validação cruzada:"
   ]
  },
  {
   "cell_type": "code",
   "execution_count": 12,
   "metadata": {},
   "outputs": [
    {
     "name": "stdout",
     "output_type": "stream",
     "text": [
      "-3336.4188026671195\n"
     ]
    }
   ],
   "source": [
    "LR = LinearRegression()\n",
    "LR_score = cross_val_score(LR, f_train_enc, t_train_enc, scoring=scorer, cv=5)\n",
    "print(LR_score.mean())"
   ]
  },
  {
   "cell_type": "markdown",
   "metadata": {},
   "source": [
    "Treinando o modelo e temporizando o tempo para o mesmo."
   ]
  },
  {
   "cell_type": "code",
   "execution_count": 13,
   "metadata": {},
   "outputs": [
    {
     "name": "stdout",
     "output_type": "stream",
     "text": [
      "Wall time: 67.8 ms\n"
     ]
    },
    {
     "data": {
      "text/plain": [
       "LinearRegression()"
      ]
     },
     "execution_count": 13,
     "metadata": {},
     "output_type": "execute_result"
    }
   ],
   "source": [
    "LR = LinearRegression()\n",
    "%time LR.fit(f_train_enc, t_train_enc)"
   ]
  },
  {
   "cell_type": "markdown",
   "metadata": {},
   "source": [
    "Predições:"
   ]
  },
  {
   "cell_type": "code",
   "execution_count": 14,
   "metadata": {},
   "outputs": [
    {
     "name": "stdout",
     "output_type": "stream",
     "text": [
      "Wall time: 4.99 ms\n"
     ]
    }
   ],
   "source": [
    "%time lr_pred = LR.predict(f_test_enc)"
   ]
  },
  {
   "cell_type": "markdown",
   "metadata": {},
   "source": [
    "RMSE:"
   ]
  },
  {
   "cell_type": "code",
   "execution_count": 15,
   "metadata": {},
   "outputs": [
    {
     "data": {
      "text/plain": [
       "3340.919561096338"
      ]
     },
     "execution_count": 15,
     "metadata": {},
     "output_type": "execute_result"
    }
   ],
   "source": [
    "lr_rmse = rmse(t_test_enc, lr_pred)\n",
    "lr_rmse"
   ]
  },
  {
   "cell_type": "markdown",
   "metadata": {},
   "source": [
    "O valor a ser superado será o RMSE de `3340.91`"
   ]
  },
  {
   "cell_type": "markdown",
   "metadata": {},
   "source": [
    "## Decision Tree Regressor<a name='32'></a>"
   ]
  },
  {
   "cell_type": "markdown",
   "metadata": {},
   "source": [
    "Em seguida, realizaremos o ajuste de hiperparâmetro (com o hiperparâmetro max_depth) para encontrar o melhor valor para defini-lo no momento de treinar. Escolheremos o hiperparâmetro que obtém a melhor pontuação de validação cruzada"
   ]
  },
  {
   "cell_type": "code",
   "execution_count": 16,
   "metadata": {},
   "outputs": [
    {
     "name": "stdout",
     "output_type": "stream",
     "text": [
      "Max_depth 1 score: -3591.779208179859\n",
      "Max_depth 2 score: -3144.1767270742685\n",
      "Max_depth 3 score: -2787.5732866460216\n",
      "Max_depth 4 score: -2537.915451395532\n",
      "Max_depth 5 score: -2367.5365634955133\n",
      "Max_depth 6 score: -2257.4949498165524\n",
      "Max_depth 7 score: -2159.6167183099237\n",
      "Max_depth 8 score: -2078.937395240203\n",
      "Max_depth 9 score: -2010.3866104451256\n",
      "Max_depth 10 score: -1950.8771669216178\n",
      "Max_depth 11 score: -1910.414754693075\n",
      "Max_depth 12 score: -1883.759903175952\n",
      "Max_depth 13 score: -1879.836681144283\n",
      "Max_depth 14 score: -1891.4998381214039\n",
      "Max_depth 15 score: -1906.1482830792634\n"
     ]
    }
   ],
   "source": [
    "for depth in range(1, 16):\n",
    "    DTR = DecisionTreeRegressor(max_depth=depth, random_state=random_state)\n",
    "    DTR_score = cross_val_score(DTR, f_train_enc, t_train_enc, scoring=scorer, cv=5)\n",
    "    print('Max_depth', depth, 'score:', DTR_score.mean())"
   ]
  },
  {
   "cell_type": "markdown",
   "metadata": {},
   "source": [
    "A melhor pontuação foi com `max_depth=13`. Treinaremos o modelo e obteremos previsões com o mesmo juntamente com os processos cronometrados"
   ]
  },
  {
   "cell_type": "code",
   "execution_count": 17,
   "metadata": {
    "scrolled": true
   },
   "outputs": [
    {
     "name": "stdout",
     "output_type": "stream",
     "text": [
      "Wall time: 1.01 s\n"
     ]
    },
    {
     "data": {
      "text/plain": [
       "DecisionTreeRegressor(max_depth=13, random_state=12345)"
      ]
     },
     "execution_count": 17,
     "metadata": {},
     "output_type": "execute_result"
    }
   ],
   "source": [
    "DTR = DecisionTreeRegressor(max_depth=13, random_state=random_state)\n",
    "%time DTR.fit(f_train_enc, t_train_enc)"
   ]
  },
  {
   "cell_type": "code",
   "execution_count": 18,
   "metadata": {},
   "outputs": [
    {
     "name": "stdout",
     "output_type": "stream",
     "text": [
      "Wall time: 17.9 ms\n"
     ]
    }
   ],
   "source": [
    "%time DTR_pred = DTR.predict(f_test_enc)"
   ]
  },
  {
   "cell_type": "markdown",
   "metadata": {},
   "source": [
    "RMSE:"
   ]
  },
  {
   "cell_type": "code",
   "execution_count": 19,
   "metadata": {},
   "outputs": [
    {
     "data": {
      "text/plain": [
       "1861.0578704978764"
      ]
     },
     "execution_count": 19,
     "metadata": {},
     "output_type": "execute_result"
    }
   ],
   "source": [
    "DTR_rmse = rmse(t_test_enc, DTR_pred)\n",
    "DTR_rmse"
   ]
  },
  {
   "cell_type": "markdown",
   "metadata": {},
   "source": [
    "O RMSE é `1861.05`, muito melhor que o anterior."
   ]
  },
  {
   "cell_type": "markdown",
   "metadata": {},
   "source": [
    "## Random Forest Regressor<a name='33'></a>"
   ]
  },
  {
   "cell_type": "markdown",
   "metadata": {},
   "source": [
    "Realizaremos o ajuste de hiperparâmetros com 2 deles: `max_depth` e `n_estimators`. Depois de realizá-lo, o melhor modelo obteu `n_estimators=70` e `max_depth=24`"
   ]
  },
  {
   "cell_type": "code",
   "execution_count": 20,
   "metadata": {},
   "outputs": [
    {
     "name": "stdout",
     "output_type": "stream",
     "text": [
      "Max_depth 20 score: -1551.6923307505144\n",
      "Max_depth 21 score: -1549.4629438418308\n",
      "Max_depth 22 score: -1548.566238415244\n",
      "Max_depth 23 score: -1548.8232450598139\n",
      "Max_depth 24 score: -1547.8265334168775\n",
      "Max_depth 25 score: -1547.9100710431164\n"
     ]
    }
   ],
   "source": [
    "for depth in range(20, 26):\n",
    "    RFR = RandomForestRegressor(n_estimators=70, max_depth=depth, random_state=random_state)\n",
    "    RFR_score = cross_val_score(RFR, f_train_enc, t_train_enc, scoring=scorer, cv=5)\n",
    "    print('Max_depth', depth, 'score:', RFR_score.mean())"
   ]
  },
  {
   "cell_type": "markdown",
   "metadata": {},
   "source": [
    "Treinando e testando o modelo com o tempo."
   ]
  },
  {
   "cell_type": "code",
   "execution_count": 21,
   "metadata": {},
   "outputs": [
    {
     "name": "stdout",
     "output_type": "stream",
     "text": [
      "Wall time: 1min 4s\n"
     ]
    },
    {
     "data": {
      "text/plain": [
       "RandomForestRegressor(max_depth=24, n_estimators=70, random_state=12345)"
      ]
     },
     "execution_count": 21,
     "metadata": {},
     "output_type": "execute_result"
    }
   ],
   "source": [
    "RFR = RandomForestRegressor(n_estimators=70, max_depth=24, random_state=random_state)\n",
    "%time RFR.fit(f_train_enc, t_train_enc)"
   ]
  },
  {
   "cell_type": "code",
   "execution_count": 22,
   "metadata": {},
   "outputs": [
    {
     "name": "stdout",
     "output_type": "stream",
     "text": [
      "Wall time: 1.69 s\n"
     ]
    }
   ],
   "source": [
    "%time RFR_pred = RFR.predict(f_test_enc)"
   ]
  },
  {
   "cell_type": "markdown",
   "metadata": {},
   "source": [
    "RMSE:"
   ]
  },
  {
   "cell_type": "code",
   "execution_count": 23,
   "metadata": {},
   "outputs": [
    {
     "data": {
      "text/plain": [
       "1523.7475976086446"
      ]
     },
     "execution_count": 23,
     "metadata": {},
     "output_type": "execute_result"
    }
   ],
   "source": [
    "RFR_rmse = rmse(t_test_enc, RFR_pred)\n",
    "RFR_rmse"
   ]
  },
  {
   "cell_type": "markdown",
   "metadata": {},
   "source": [
    "RMSE de `1523.74`, uma melhora significativa."
   ]
  },
  {
   "cell_type": "markdown",
   "metadata": {},
   "source": [
    "## CatBoost Regressor<a name='34'></a>"
   ]
  },
  {
   "cell_type": "markdown",
   "metadata": {},
   "source": [
    "Para o CatBoost Regressor, não é necessário uma codificação prévia. Agora, ajustaremos usando diferentes hiperparâmetros e encontraremos os melhores usando GridSearchCV."
   ]
  },
  {
   "cell_type": "code",
   "execution_count": 24,
   "metadata": {},
   "outputs": [
    {
     "name": "stdout",
     "output_type": "stream",
     "text": [
      "0:\tlearn: 3045.4364562\ttotal: 304ms\tremaining: 14.9s\n",
      "1:\tlearn: 2317.9833730\ttotal: 421ms\tremaining: 10.1s\n",
      "2:\tlearn: 2018.5864758\ttotal: 567ms\tremaining: 8.88s\n",
      "3:\tlearn: 1881.5349365\ttotal: 709ms\tremaining: 8.15s\n",
      "4:\tlearn: 1825.1594403\ttotal: 847ms\tremaining: 7.62s\n",
      "5:\tlearn: 1778.3627126\ttotal: 967ms\tremaining: 7.09s\n",
      "6:\tlearn: 1749.1081322\ttotal: 1.09s\tremaining: 6.68s\n",
      "7:\tlearn: 1725.8749630\ttotal: 1.2s\tremaining: 6.28s\n",
      "8:\tlearn: 1698.6889417\ttotal: 1.3s\tremaining: 5.93s\n",
      "9:\tlearn: 1681.6086935\ttotal: 1.41s\tremaining: 5.66s\n",
      "10:\tlearn: 1664.9021222\ttotal: 1.52s\tremaining: 5.39s\n",
      "11:\tlearn: 1655.8441379\ttotal: 1.63s\tremaining: 5.17s\n",
      "12:\tlearn: 1642.8163726\ttotal: 1.74s\tremaining: 4.96s\n",
      "13:\tlearn: 1628.3678863\ttotal: 1.85s\tremaining: 4.76s\n",
      "14:\tlearn: 1621.4065612\ttotal: 1.96s\tremaining: 4.57s\n",
      "15:\tlearn: 1614.0514458\ttotal: 2.07s\tremaining: 4.4s\n",
      "16:\tlearn: 1609.8892278\ttotal: 2.17s\tremaining: 4.22s\n",
      "17:\tlearn: 1604.4348659\ttotal: 2.28s\tremaining: 4.06s\n",
      "18:\tlearn: 1599.0858178\ttotal: 2.38s\tremaining: 3.89s\n",
      "19:\tlearn: 1592.5904596\ttotal: 2.49s\tremaining: 3.74s\n",
      "20:\tlearn: 1586.4724311\ttotal: 2.59s\tremaining: 3.58s\n",
      "21:\tlearn: 1578.0874886\ttotal: 2.7s\tremaining: 3.44s\n",
      "22:\tlearn: 1574.2555863\ttotal: 2.81s\tremaining: 3.29s\n",
      "23:\tlearn: 1568.2308431\ttotal: 2.92s\tremaining: 3.16s\n",
      "24:\tlearn: 1563.6645994\ttotal: 3.02s\tremaining: 3.02s\n",
      "25:\tlearn: 1555.0373080\ttotal: 3.13s\tremaining: 2.89s\n",
      "26:\tlearn: 1550.6693683\ttotal: 3.24s\tremaining: 2.76s\n",
      "27:\tlearn: 1546.9711162\ttotal: 3.36s\tremaining: 2.64s\n",
      "28:\tlearn: 1544.7169438\ttotal: 3.47s\tremaining: 2.51s\n",
      "29:\tlearn: 1540.2119647\ttotal: 3.58s\tremaining: 2.38s\n",
      "30:\tlearn: 1536.8397511\ttotal: 3.68s\tremaining: 2.26s\n",
      "31:\tlearn: 1533.4438066\ttotal: 3.79s\tremaining: 2.13s\n",
      "32:\tlearn: 1530.7371862\ttotal: 3.9s\tremaining: 2.01s\n",
      "33:\tlearn: 1527.4509338\ttotal: 4s\tremaining: 1.88s\n",
      "34:\tlearn: 1524.7007838\ttotal: 4.11s\tremaining: 1.76s\n",
      "35:\tlearn: 1521.5862602\ttotal: 4.22s\tremaining: 1.64s\n",
      "36:\tlearn: 1513.8624243\ttotal: 4.34s\tremaining: 1.53s\n",
      "37:\tlearn: 1508.3949971\ttotal: 4.45s\tremaining: 1.4s\n",
      "38:\tlearn: 1505.6241215\ttotal: 4.55s\tremaining: 1.28s\n",
      "39:\tlearn: 1502.0346765\ttotal: 4.66s\tremaining: 1.17s\n",
      "40:\tlearn: 1498.7330893\ttotal: 4.77s\tremaining: 1.05s\n",
      "41:\tlearn: 1494.9370579\ttotal: 4.88s\tremaining: 929ms\n",
      "42:\tlearn: 1491.0405741\ttotal: 4.99s\tremaining: 812ms\n",
      "43:\tlearn: 1487.9475520\ttotal: 5.1s\tremaining: 695ms\n",
      "44:\tlearn: 1486.4110043\ttotal: 5.2s\tremaining: 578ms\n",
      "45:\tlearn: 1485.0469529\ttotal: 5.3s\tremaining: 461ms\n",
      "46:\tlearn: 1481.8818963\ttotal: 5.42s\tremaining: 346ms\n",
      "47:\tlearn: 1480.1077418\ttotal: 5.52s\tremaining: 230ms\n",
      "48:\tlearn: 1477.7301434\ttotal: 5.63s\tremaining: 115ms\n",
      "49:\tlearn: 1475.4270519\ttotal: 5.74s\tremaining: 0us\n"
     ]
    }
   ],
   "source": [
    "CBR = CatBoostRegressor()\n",
    "parameters = {'depth': [6, 8, 10],\n",
    "             'learning_rate': [0.5, 0.1],\n",
    "             'l2_leaf_reg': [2, 4],\n",
    "             'iterations': [10, 50],\n",
    "             'loss_function': ['RMSE'],\n",
    "             'random_seed': [random_state]}\n",
    "#o dicionário de hiperparâmetros que será percorrido no GridSearch\n",
    "grid = GridSearchCV(estimator=CBR, param_grid=parameters, scoring=scorer, cv=3, n_jobs=-1, verbose=0)\n",
    "#percorre os parâmetros para obter os melhores hiperparâmetros para o treinamento do modelo\n",
    "grid.fit(f_train_gbm, t_train_gbm, cat_features=cat_feat)\n",
    "best_param = grid.best_params_"
   ]
  },
  {
   "cell_type": "markdown",
   "metadata": {},
   "source": [
    "Melhor conjunto de hiperparâmetros para o modelo:"
   ]
  },
  {
   "cell_type": "code",
   "execution_count": 25,
   "metadata": {},
   "outputs": [
    {
     "name": "stdout",
     "output_type": "stream",
     "text": [
      "Melhor pontuação de todos os parâmetros pesquisados -1602.8797091324839\n",
      "Melhores parâmetros: {'depth': 10, 'iterations': 50, 'l2_leaf_reg': 2, 'learning_rate': 0.5, 'loss_function': 'RMSE', 'random_seed': 12345}\n"
     ]
    }
   ],
   "source": [
    "print('Melhor pontuação de todos os parâmetros pesquisados', grid.best_score_)\n",
    "print('Melhores parâmetros:', best_param)"
   ]
  },
  {
   "cell_type": "markdown",
   "metadata": {},
   "source": [
    "Treinando CatBoost Regressor usando as melhores configurações de hiperparâmetros obtidas cronometrando o processo:"
   ]
  },
  {
   "cell_type": "code",
   "execution_count": 26,
   "metadata": {
    "scrolled": true
   },
   "outputs": [
    {
     "name": "stdout",
     "output_type": "stream",
     "text": [
      "Wall time: 7 s\n"
     ]
    },
    {
     "data": {
      "text/plain": [
       "<catboost.core.CatBoostRegressor at 0x21f8294ec70>"
      ]
     },
     "execution_count": 26,
     "metadata": {},
     "output_type": "execute_result"
    }
   ],
   "source": [
    "CBR = CatBoostRegressor(depth=best_param['depth'],\n",
    "                       iterations=best_param['iterations'],\n",
    "                       l2_leaf_reg=best_param['l2_leaf_reg'],\n",
    "                       learning_rate=best_param['learning_rate'],\n",
    "                       loss_function='RMSE', random_seed=random_state)\n",
    "%time CBR.fit(f_train_gbm, t_train_gbm, cat_features=cat_feat, verbose=False, plot=False)"
   ]
  },
  {
   "cell_type": "markdown",
   "metadata": {},
   "source": [
    "Predições:"
   ]
  },
  {
   "cell_type": "code",
   "execution_count": 27,
   "metadata": {},
   "outputs": [
    {
     "name": "stdout",
     "output_type": "stream",
     "text": [
      "Wall time: 204 ms\n"
     ]
    }
   ],
   "source": [
    "%time CBR_pred = CBR.predict(f_test_gbm)"
   ]
  },
  {
   "cell_type": "markdown",
   "metadata": {},
   "source": [
    "RMSE:"
   ]
  },
  {
   "cell_type": "code",
   "execution_count": 28,
   "metadata": {},
   "outputs": [
    {
     "data": {
      "text/plain": [
       "1608.753392842063"
      ]
     },
     "execution_count": 28,
     "metadata": {},
     "output_type": "execute_result"
    }
   ],
   "source": [
    "CBR_rmse = rmse(t_test_gbm, CBR_pred)\n",
    "CBR_rmse"
   ]
  },
  {
   "cell_type": "markdown",
   "metadata": {},
   "source": [
    "RMSE de `1608.75`. Uma leve decaída em relação ao precedente."
   ]
  },
  {
   "cell_type": "markdown",
   "metadata": {},
   "source": [
    "## LightGBM Regressor<a name='35'></a>"
   ]
  },
  {
   "cell_type": "markdown",
   "metadata": {},
   "source": [
    "Este também não requer codificação prévia, logo, estaremos realizando o ajuste de hiperparâmetros semelhante ao feito para o CatBoost, exceto pelo fato que estaremos lidando com diferentes hiperparâmetros. No LightGBM as características categóricas devem ser do tipo `category` antes de colocá-las no LightGBM. Dessarte, precisaremos fazer isso tanto para o conjunto de treinamento quanto para o conjunto de teste"
   ]
  },
  {
   "cell_type": "code",
   "execution_count": 29,
   "metadata": {},
   "outputs": [],
   "source": [
    "for c in cat_feat:\n",
    "    f_train_gbm[c] = f_train_gbm[c].astype('category')\n",
    "\n",
    "model = LGBMRegressor()\n",
    "parameters = {'num_leaves': [10, 20, 30],\n",
    "             'learning_rate': [0.5, 0.1],\n",
    "             'n_estimators': [10, 20],\n",
    "             'random_state': [random_state],\n",
    "            'objective': ['rmse']}\n",
    "grid = GridSearchCV(estimator=model, param_grid=parameters, scoring=scorer, cv=3, n_jobs=-1)\n",
    "grid.fit(f_train_gbm, t_train_gbm)\n",
    "best_param = grid.best_params_"
   ]
  },
  {
   "cell_type": "markdown",
   "metadata": {},
   "source": [
    "Buscando a melhor configuração de hiperparâmetros:"
   ]
  },
  {
   "cell_type": "code",
   "execution_count": 30,
   "metadata": {},
   "outputs": [
    {
     "name": "stdout",
     "output_type": "stream",
     "text": [
      "Melhor pontuação de todos os parâmetros pesquisados -1678.5078420435445\n",
      "Melhores parâmetros: {'learning_rate': 0.5, 'n_estimators': 20, 'num_leaves': 30, 'objective': 'rmse', 'random_state': 12345}\n"
     ]
    }
   ],
   "source": [
    "print('Melhor pontuação de todos os parâmetros pesquisados', grid.best_score_)\n",
    "print('Melhores parâmetros:', best_param)"
   ]
  },
  {
   "cell_type": "markdown",
   "metadata": {},
   "source": [
    "Treinando e testando o modelo LightGBM usando as melhores configurações, enquanto o processo é cronometrado"
   ]
  },
  {
   "cell_type": "code",
   "execution_count": 31,
   "metadata": {},
   "outputs": [
    {
     "name": "stdout",
     "output_type": "stream",
     "text": [
      "Wall time: 621 ms\n"
     ]
    },
    {
     "data": {
      "text/plain": [
       "LGBMRegressor(learning_rate=0.5, n_estimators=20, num_leaves=30,\n",
       "              objective='rmse', random_state=12345)"
      ]
     },
     "execution_count": 31,
     "metadata": {},
     "output_type": "execute_result"
    }
   ],
   "source": [
    "lgbm = LGBMRegressor(learning_rate=0.5,\n",
    "                    n_estimators=20,\n",
    "                    num_leaves=30,\n",
    "                    objective='rmse', random_state=random_state)\n",
    "%time lgbm.fit(f_train_gbm, t_train_gbm)"
   ]
  },
  {
   "cell_type": "code",
   "execution_count": 32,
   "metadata": {},
   "outputs": [
    {
     "name": "stdout",
     "output_type": "stream",
     "text": [
      "Wall time: 69.8 ms\n"
     ]
    }
   ],
   "source": [
    "for c in cat_feat:\n",
    "    f_test_gbm[c] = f_test_gbm[c].astype('category')\n",
    "\n",
    "%time lgbm_pred = lgbm.predict(f_test_gbm)"
   ]
  },
  {
   "cell_type": "markdown",
   "metadata": {},
   "source": [
    "RMSE:"
   ]
  },
  {
   "cell_type": "code",
   "execution_count": 33,
   "metadata": {},
   "outputs": [
    {
     "data": {
      "text/plain": [
       "1674.8093282242774"
      ]
     },
     "execution_count": 33,
     "metadata": {},
     "output_type": "execute_result"
    }
   ],
   "source": [
    "lgbm_rmse = rmse(t_test_gbm, lgbm_pred)\n",
    "lgbm_rmse"
   ]
  },
  {
   "cell_type": "markdown",
   "metadata": {},
   "source": [
    "RMSE de `1674.80`"
   ]
  },
  {
   "cell_type": "markdown",
   "metadata": {},
   "source": [
    "# Análise de Modelos <a name='4'></a>"
   ]
  },
  {
   "cell_type": "markdown",
   "metadata": {},
   "source": [
    "Preparação de uma tabela mostrando os diferentes modelos e seus tempos de treinamento e previsão (em milissegundos) e RMSEs:"
   ]
  },
  {
   "cell_type": "code",
   "execution_count": 35,
   "metadata": {},
   "outputs": [
    {
     "data": {
      "text/html": [
       "<div>\n",
       "<style scoped>\n",
       "    .dataframe tbody tr th:only-of-type {\n",
       "        vertical-align: middle;\n",
       "    }\n",
       "\n",
       "    .dataframe tbody tr th {\n",
       "        vertical-align: top;\n",
       "    }\n",
       "\n",
       "    .dataframe thead th {\n",
       "        text-align: right;\n",
       "    }\n",
       "</style>\n",
       "<table border=\"1\" class=\"dataframe\">\n",
       "  <thead>\n",
       "    <tr style=\"text-align: right;\">\n",
       "      <th></th>\n",
       "      <th>training_time(ms)</th>\n",
       "      <th>prediction_time(ms)</th>\n",
       "      <th>RMSE</th>\n",
       "    </tr>\n",
       "  </thead>\n",
       "  <tbody>\n",
       "    <tr>\n",
       "      <th>LR</th>\n",
       "      <td>68</td>\n",
       "      <td>5</td>\n",
       "      <td>3340</td>\n",
       "    </tr>\n",
       "    <tr>\n",
       "      <th>DTR</th>\n",
       "      <td>1010</td>\n",
       "      <td>18</td>\n",
       "      <td>1861</td>\n",
       "    </tr>\n",
       "    <tr>\n",
       "      <th>RFR</th>\n",
       "      <td>64000</td>\n",
       "      <td>1690</td>\n",
       "      <td>1523</td>\n",
       "    </tr>\n",
       "    <tr>\n",
       "      <th>CB</th>\n",
       "      <td>7000</td>\n",
       "      <td>204</td>\n",
       "      <td>1608</td>\n",
       "    </tr>\n",
       "    <tr>\n",
       "      <th>LGBM</th>\n",
       "      <td>621</td>\n",
       "      <td>70</td>\n",
       "      <td>1674</td>\n",
       "    </tr>\n",
       "  </tbody>\n",
       "</table>\n",
       "</div>"
      ],
      "text/plain": [
       "      training_time(ms)  prediction_time(ms)  RMSE\n",
       "LR                   68                    5  3340\n",
       "DTR                1010                   18  1861\n",
       "RFR               64000                 1690  1523\n",
       "CB                 7000                  204  1608\n",
       "LGBM                621                   70  1674"
      ]
     },
     "execution_count": 35,
     "metadata": {},
     "output_type": "execute_result"
    }
   ],
   "source": [
    "index = ['LR', 'DTR', 'RFR', 'CB', 'LGBM']\n",
    "summary = pd.DataFrame(data={'training_time(ms)': [68, 1010, 64000, 7000, 621],\n",
    "                             'prediction_time(ms)': [5, 18, 1690, 204, 70],\n",
    "                             'RMSE': [3340, 1861, 1523, 1608, 1674]},\n",
    "                      index=index)\n",
    "summary"
   ]
  },
  {
   "cell_type": "markdown",
   "metadata": {},
   "source": [
    "Observações:\n",
    "1. Linear Regression teve o melhor tempo de treinamento (68 ms), enquanto o pior vai para Random Forest (64000 ms)\n",
    "2. Linear Regression teve o melhor tempo de previsão (5 ms), enquanto o pior vai para a Random Forest (1690 ms)\n",
    "3. Random Forest teve o melhor RMSE (1523), enquanto o pior vai para a Regressão Linear (3340)"
   ]
  },
  {
   "cell_type": "markdown",
   "metadata": {},
   "source": [
    "# Conclusão <a name='5'></a>"
   ]
  },
  {
   "cell_type": "markdown",
   "metadata": {},
   "source": [
    "Processamos e preparamos os dados com sucesso e os usamos para treinar modelos. Embora o modelo Random Forest tenha o maior RMSE (1523), o custo em termos de treinamento e tempo de previsão é muito grande. O CatBoost Regressor demora menos da metade desse tempo e obtém um RMSE de 1608, uma diferença de apenas 85. Porém, considerando o tempo de treinamento, a melhor escolha é o LightGBM dado que possui um ótimo balanço entre ambos, perdendo apenas 66 pontos no RMSE (1674). Portanto, a recomendação final é o modelo `LightGBM`."
   ]
  }
 ],
 "metadata": {
  "kernelspec": {
   "display_name": "Python 3 (ipykernel)",
   "language": "python",
   "name": "python3"
  },
  "language_info": {
   "codemirror_mode": {
    "name": "ipython",
    "version": 3
   },
   "file_extension": ".py",
   "mimetype": "text/x-python",
   "name": "python",
   "nbconvert_exporter": "python",
   "pygments_lexer": "ipython3",
   "version": "3.9.13"
  },
  "toc": {
   "base_numbering": 1,
   "nav_menu": {},
   "number_sections": true,
   "sideBar": true,
   "skip_h1_title": true,
   "title_cell": "Table of Contents",
   "title_sidebar": "Contents",
   "toc_cell": false,
   "toc_position": {},
   "toc_section_display": true,
   "toc_window_display": false
  }
 },
 "nbformat": 4,
 "nbformat_minor": 2
}
