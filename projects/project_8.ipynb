{
 "cells": [
  {
   "cell_type": "markdown",
   "id": "457eab52",
   "metadata": {},
   "source": [
    "## Seleção de Regiões com Maior Margem de Lucro"
   ]
  },
  {
   "cell_type": "markdown",
   "id": "84ef5679",
   "metadata": {},
   "source": [
    "Possuímos informações sobre as reservas de petróleo em três regiões distintas, sendo que para cada região temos um conjunto de dados específico. O objetivo é utilizar modelos de Regressão Linear para treinar cada um desses conjuntos de dados, a fim de prever o volume de petróleo que cada região conterá. Com base nessas previsões, iremos calcular as receitas geradas em cada região e, por fim, decidir qual delas possui a maior margem de lucro."
   ]
  },
  {
   "cell_type": "markdown",
   "id": "72cc3dbe",
   "metadata": {},
   "source": [
    "## Sumário\n"
   ]
  },
  {
   "cell_type": "markdown",
   "id": "9f0931e3",
   "metadata": {},
   "source": [
    "1. [Iniciação](#inic)\n",
    "\n",
    "2. [Separação de Dados e Treinamento de Modelos](#sdtm)\n",
    "\n",
    "3. [Volume de Equilíbrio por Poço](#vepp)\n",
    "\n",
    "4. [Lucro de Poços Selecionados e Previsões de Modelos](#lppm)\n",
    "\n",
    "5. [Risco e Lucro por Região](#rlr)\n",
    "\n",
    "6. [Conclusão](#co)"
   ]
  },
  {
   "cell_type": "markdown",
   "id": "edb2ffe7",
   "metadata": {},
   "source": [
    "## Iniciação <a id=\"inic\"></a>"
   ]
  },
  {
   "cell_type": "code",
   "execution_count": 1,
   "id": "fc6bba89",
   "metadata": {},
   "outputs": [],
   "source": [
    "import pandas as pd\n",
    "from sklearn.linear_model import LinearRegression\n",
    "from sklearn.model_selection import train_test_split\n",
    "from sklearn.metrics import mean_squared_error\n",
    "from scipy import stats as st\n",
    "import numpy as np\n",
    "import matplotlib.pyplot as plt"
   ]
  },
  {
   "cell_type": "code",
   "execution_count": 2,
   "id": "98db714c",
   "metadata": {},
   "outputs": [],
   "source": [
    "try:\n",
    "    data_0 = pd.read_csv('geo_data_0.csv')\n",
    "    data_1 = pd.read_csv('geo_data_1.csv')\n",
    "    data_2 = pd.read_csv('geo_data_2.csv')\n",
    "except:\n",
    "    data_0 = pd.read_csv('/datasets/geo_data_0.csv')\n",
    "    data_1 = pd.read_csv('/datasets/geo_data_1.csv')\n",
    "    data_2 = pd.read_csv('/datasets/geo_data_2.csv')"
   ]
  },
  {
   "cell_type": "code",
   "execution_count": 3,
   "id": "f79f6eb7",
   "metadata": {},
   "outputs": [
    {
     "name": "stdout",
     "output_type": "stream",
     "text": [
      "<class 'pandas.core.frame.DataFrame'>\n",
      "RangeIndex: 100000 entries, 0 to 99999\n",
      "Data columns (total 5 columns):\n",
      " #   Column   Non-Null Count   Dtype  \n",
      "---  ------   --------------   -----  \n",
      " 0   id       100000 non-null  object \n",
      " 1   f0       100000 non-null  float64\n",
      " 2   f1       100000 non-null  float64\n",
      " 3   f2       100000 non-null  float64\n",
      " 4   product  100000 non-null  float64\n",
      "dtypes: float64(4), object(1)\n",
      "memory usage: 3.8+ MB\n"
     ]
    },
    {
     "data": {
      "text/html": [
       "<div>\n",
       "<style scoped>\n",
       "    .dataframe tbody tr th:only-of-type {\n",
       "        vertical-align: middle;\n",
       "    }\n",
       "\n",
       "    .dataframe tbody tr th {\n",
       "        vertical-align: top;\n",
       "    }\n",
       "\n",
       "    .dataframe thead th {\n",
       "        text-align: right;\n",
       "    }\n",
       "</style>\n",
       "<table border=\"1\" class=\"dataframe\">\n",
       "  <thead>\n",
       "    <tr style=\"text-align: right;\">\n",
       "      <th></th>\n",
       "      <th>id</th>\n",
       "      <th>f0</th>\n",
       "      <th>f1</th>\n",
       "      <th>f2</th>\n",
       "      <th>product</th>\n",
       "    </tr>\n",
       "  </thead>\n",
       "  <tbody>\n",
       "    <tr>\n",
       "      <th>0</th>\n",
       "      <td>txEyH</td>\n",
       "      <td>0.705745</td>\n",
       "      <td>-0.497823</td>\n",
       "      <td>1.221170</td>\n",
       "      <td>105.280062</td>\n",
       "    </tr>\n",
       "    <tr>\n",
       "      <th>1</th>\n",
       "      <td>2acmU</td>\n",
       "      <td>1.334711</td>\n",
       "      <td>-0.340164</td>\n",
       "      <td>4.365080</td>\n",
       "      <td>73.037750</td>\n",
       "    </tr>\n",
       "    <tr>\n",
       "      <th>2</th>\n",
       "      <td>409Wp</td>\n",
       "      <td>1.022732</td>\n",
       "      <td>0.151990</td>\n",
       "      <td>1.419926</td>\n",
       "      <td>85.265647</td>\n",
       "    </tr>\n",
       "    <tr>\n",
       "      <th>3</th>\n",
       "      <td>iJLyR</td>\n",
       "      <td>-0.032172</td>\n",
       "      <td>0.139033</td>\n",
       "      <td>2.978566</td>\n",
       "      <td>168.620776</td>\n",
       "    </tr>\n",
       "    <tr>\n",
       "      <th>4</th>\n",
       "      <td>Xdl7t</td>\n",
       "      <td>1.988431</td>\n",
       "      <td>0.155413</td>\n",
       "      <td>4.751769</td>\n",
       "      <td>154.036647</td>\n",
       "    </tr>\n",
       "  </tbody>\n",
       "</table>\n",
       "</div>"
      ],
      "text/plain": [
       "      id        f0        f1        f2     product\n",
       "0  txEyH  0.705745 -0.497823  1.221170  105.280062\n",
       "1  2acmU  1.334711 -0.340164  4.365080   73.037750\n",
       "2  409Wp  1.022732  0.151990  1.419926   85.265647\n",
       "3  iJLyR -0.032172  0.139033  2.978566  168.620776\n",
       "4  Xdl7t  1.988431  0.155413  4.751769  154.036647"
      ]
     },
     "execution_count": 3,
     "metadata": {},
     "output_type": "execute_result"
    }
   ],
   "source": [
    "data_0.info()\n",
    "data_0.head()"
   ]
  },
  {
   "cell_type": "code",
   "execution_count": 4,
   "id": "83e945fe",
   "metadata": {},
   "outputs": [
    {
     "name": "stdout",
     "output_type": "stream",
     "text": [
      "<class 'pandas.core.frame.DataFrame'>\n",
      "RangeIndex: 100000 entries, 0 to 99999\n",
      "Data columns (total 5 columns):\n",
      " #   Column   Non-Null Count   Dtype  \n",
      "---  ------   --------------   -----  \n",
      " 0   id       100000 non-null  object \n",
      " 1   f0       100000 non-null  float64\n",
      " 2   f1       100000 non-null  float64\n",
      " 3   f2       100000 non-null  float64\n",
      " 4   product  100000 non-null  float64\n",
      "dtypes: float64(4), object(1)\n",
      "memory usage: 3.8+ MB\n"
     ]
    },
    {
     "data": {
      "text/html": [
       "<div>\n",
       "<style scoped>\n",
       "    .dataframe tbody tr th:only-of-type {\n",
       "        vertical-align: middle;\n",
       "    }\n",
       "\n",
       "    .dataframe tbody tr th {\n",
       "        vertical-align: top;\n",
       "    }\n",
       "\n",
       "    .dataframe thead th {\n",
       "        text-align: right;\n",
       "    }\n",
       "</style>\n",
       "<table border=\"1\" class=\"dataframe\">\n",
       "  <thead>\n",
       "    <tr style=\"text-align: right;\">\n",
       "      <th></th>\n",
       "      <th>id</th>\n",
       "      <th>f0</th>\n",
       "      <th>f1</th>\n",
       "      <th>f2</th>\n",
       "      <th>product</th>\n",
       "    </tr>\n",
       "  </thead>\n",
       "  <tbody>\n",
       "    <tr>\n",
       "      <th>0</th>\n",
       "      <td>kBEdx</td>\n",
       "      <td>-15.001348</td>\n",
       "      <td>-8.276000</td>\n",
       "      <td>-0.005876</td>\n",
       "      <td>3.179103</td>\n",
       "    </tr>\n",
       "    <tr>\n",
       "      <th>1</th>\n",
       "      <td>62mP7</td>\n",
       "      <td>14.272088</td>\n",
       "      <td>-3.475083</td>\n",
       "      <td>0.999183</td>\n",
       "      <td>26.953261</td>\n",
       "    </tr>\n",
       "    <tr>\n",
       "      <th>2</th>\n",
       "      <td>vyE1P</td>\n",
       "      <td>6.263187</td>\n",
       "      <td>-5.948386</td>\n",
       "      <td>5.001160</td>\n",
       "      <td>134.766305</td>\n",
       "    </tr>\n",
       "    <tr>\n",
       "      <th>3</th>\n",
       "      <td>KcrkZ</td>\n",
       "      <td>-13.081196</td>\n",
       "      <td>-11.506057</td>\n",
       "      <td>4.999415</td>\n",
       "      <td>137.945408</td>\n",
       "    </tr>\n",
       "    <tr>\n",
       "      <th>4</th>\n",
       "      <td>AHL4O</td>\n",
       "      <td>12.702195</td>\n",
       "      <td>-8.147433</td>\n",
       "      <td>5.004363</td>\n",
       "      <td>134.766305</td>\n",
       "    </tr>\n",
       "  </tbody>\n",
       "</table>\n",
       "</div>"
      ],
      "text/plain": [
       "      id         f0         f1        f2     product\n",
       "0  kBEdx -15.001348  -8.276000 -0.005876    3.179103\n",
       "1  62mP7  14.272088  -3.475083  0.999183   26.953261\n",
       "2  vyE1P   6.263187  -5.948386  5.001160  134.766305\n",
       "3  KcrkZ -13.081196 -11.506057  4.999415  137.945408\n",
       "4  AHL4O  12.702195  -8.147433  5.004363  134.766305"
      ]
     },
     "execution_count": 4,
     "metadata": {},
     "output_type": "execute_result"
    }
   ],
   "source": [
    "data_1.info()\n",
    "data_1.head()"
   ]
  },
  {
   "cell_type": "code",
   "execution_count": 5,
   "id": "b1453f8b",
   "metadata": {},
   "outputs": [
    {
     "name": "stdout",
     "output_type": "stream",
     "text": [
      "<class 'pandas.core.frame.DataFrame'>\n",
      "RangeIndex: 100000 entries, 0 to 99999\n",
      "Data columns (total 5 columns):\n",
      " #   Column   Non-Null Count   Dtype  \n",
      "---  ------   --------------   -----  \n",
      " 0   id       100000 non-null  object \n",
      " 1   f0       100000 non-null  float64\n",
      " 2   f1       100000 non-null  float64\n",
      " 3   f2       100000 non-null  float64\n",
      " 4   product  100000 non-null  float64\n",
      "dtypes: float64(4), object(1)\n",
      "memory usage: 3.8+ MB\n"
     ]
    },
    {
     "data": {
      "text/html": [
       "<div>\n",
       "<style scoped>\n",
       "    .dataframe tbody tr th:only-of-type {\n",
       "        vertical-align: middle;\n",
       "    }\n",
       "\n",
       "    .dataframe tbody tr th {\n",
       "        vertical-align: top;\n",
       "    }\n",
       "\n",
       "    .dataframe thead th {\n",
       "        text-align: right;\n",
       "    }\n",
       "</style>\n",
       "<table border=\"1\" class=\"dataframe\">\n",
       "  <thead>\n",
       "    <tr style=\"text-align: right;\">\n",
       "      <th></th>\n",
       "      <th>id</th>\n",
       "      <th>f0</th>\n",
       "      <th>f1</th>\n",
       "      <th>f2</th>\n",
       "      <th>product</th>\n",
       "    </tr>\n",
       "  </thead>\n",
       "  <tbody>\n",
       "    <tr>\n",
       "      <th>0</th>\n",
       "      <td>fwXo0</td>\n",
       "      <td>-1.146987</td>\n",
       "      <td>0.963328</td>\n",
       "      <td>-0.828965</td>\n",
       "      <td>27.758673</td>\n",
       "    </tr>\n",
       "    <tr>\n",
       "      <th>1</th>\n",
       "      <td>WJtFt</td>\n",
       "      <td>0.262778</td>\n",
       "      <td>0.269839</td>\n",
       "      <td>-2.530187</td>\n",
       "      <td>56.069697</td>\n",
       "    </tr>\n",
       "    <tr>\n",
       "      <th>2</th>\n",
       "      <td>ovLUW</td>\n",
       "      <td>0.194587</td>\n",
       "      <td>0.289035</td>\n",
       "      <td>-5.586433</td>\n",
       "      <td>62.871910</td>\n",
       "    </tr>\n",
       "    <tr>\n",
       "      <th>3</th>\n",
       "      <td>q6cA6</td>\n",
       "      <td>2.236060</td>\n",
       "      <td>-0.553760</td>\n",
       "      <td>0.930038</td>\n",
       "      <td>114.572842</td>\n",
       "    </tr>\n",
       "    <tr>\n",
       "      <th>4</th>\n",
       "      <td>WPMUX</td>\n",
       "      <td>-0.515993</td>\n",
       "      <td>1.716266</td>\n",
       "      <td>5.899011</td>\n",
       "      <td>149.600746</td>\n",
       "    </tr>\n",
       "  </tbody>\n",
       "</table>\n",
       "</div>"
      ],
      "text/plain": [
       "      id        f0        f1        f2     product\n",
       "0  fwXo0 -1.146987  0.963328 -0.828965   27.758673\n",
       "1  WJtFt  0.262778  0.269839 -2.530187   56.069697\n",
       "2  ovLUW  0.194587  0.289035 -5.586433   62.871910\n",
       "3  q6cA6  2.236060 -0.553760  0.930038  114.572842\n",
       "4  WPMUX -0.515993  1.716266  5.899011  149.600746"
      ]
     },
     "execution_count": 5,
     "metadata": {},
     "output_type": "execute_result"
    }
   ],
   "source": [
    "data_2.info()\n",
    "data_2.head()"
   ]
  },
  {
   "cell_type": "markdown",
   "id": "f82b7b18",
   "metadata": {},
   "source": [
    "Após examinar os conjuntos de dados, constatamos que não há valores ausentes, o que é bastante positivo. O objetivo será sempre a coluna `product`, enquanto as demais colunas serão consideradas como `características` (features)."
   ]
  },
  {
   "cell_type": "markdown",
   "id": "f799f0f4",
   "metadata": {},
   "source": [
    "### Separação de Dados e Treinamento de Modelos <a id=\"sdtm\"></a>"
   ]
  },
  {
   "cell_type": "markdown",
   "id": "a9bdbc44",
   "metadata": {},
   "source": [
    "Uma forma de começar é criando uma função que recebe quatro conjuntos de dados como parâmetros: as `características` e o `alvo de treinamento`, bem como as `características` e o `alvo de validação`. Essa função treinará um modelo de `Regressão Linear` utilizando os dados de treinamento e retornará o `erro quadrático médio` (RMSE) e as previsões geradas pelo modelo. Em seguida, para cada conjunto de dados, realizaremos a divisão dos dados de forma adequada e chamaremos a função definida anteriormente para treinar um modelo. Implementaremos a função:"
   ]
  },
  {
   "cell_type": "code",
   "execution_count": 6,
   "id": "cd8f9297",
   "metadata": {},
   "outputs": [],
   "source": [
    "def lr_model(f_train, f_valid, t_train, t_valid):\n",
    "    lr = LinearRegression().fit(f_train, t_train)\n",
    "    t_pred = lr.predict(f_valid)\n",
    "    rmse = (mean_squared_error(t_valid, t_pred)) ** 0.5\n",
    "    return rmse, t_pred"
   ]
  },
  {
   "cell_type": "markdown",
   "id": "8ac5e503",
   "metadata": {},
   "source": [
    "Agora podemos realizar a divisão dos dados (`75%` para treinamento e `25%` para validação). A coluna `id` em cada conjunto de dados é única para cada reserva, então ela não será útil no processo de aprendizado, e por isso iremos removê-la. Em seguida, treinaremos modelos para cada conjunto de dados, passando as quatro divisões como argumentos para a nossa função `lr_model`. Podemos obter o `erro quadrático médio` (RMSE) e a média das previsões. Para a `região 0`:"
   ]
  },
  {
   "cell_type": "code",
   "execution_count": 7,
   "id": "e146b0d2",
   "metadata": {},
   "outputs": [
    {
     "name": "stdout",
     "output_type": "stream",
     "text": [
      "RMSE: 37.5794217150813 ; Average predicted volume: 92.59256778438035\n"
     ]
    }
   ],
   "source": [
    "features0 = data_0.drop(['id', 'product'], axis=1)\n",
    "target0 = data_0['product']\n",
    "f_train0, f_valid0, t_train0, t_valid0 = train_test_split(features0, target0, test_size=0.25, \\\n",
    "                                                          random_state=12345)\n",
    "rmse0, pred0 = lr_model(f_train0, f_valid0, t_train0, t_valid0)\n",
    "print('RMSE:', rmse0, '; Average predicted volume:', pred0.mean())"
   ]
  },
  {
   "cell_type": "markdown",
   "id": "b183ec10",
   "metadata": {},
   "source": [
    "Para a `região 0`, o RMSE é de `37.58` e a média das previsões é `92,59`.\n",
    "\n",
    "Região 1:"
   ]
  },
  {
   "cell_type": "code",
   "execution_count": 8,
   "id": "a740501f",
   "metadata": {},
   "outputs": [
    {
     "name": "stdout",
     "output_type": "stream",
     "text": [
      "RMSE: 0.8930992867756168 ; Average predicted volume: 68.72854689544602\n"
     ]
    }
   ],
   "source": [
    "features1 = data_1.drop(['id', 'product'], axis=1)\n",
    "target1 = data_1['product']\n",
    "f_train1, f_valid1, t_train1, t_valid1 = train_test_split(features1, target1, test_size=0.25, \\\n",
    "                                                          random_state=12345)\n",
    "rmse1, pred1 = lr_model(f_train1, f_valid1, t_train1, t_valid1)\n",
    "print('RMSE:', rmse1, '; Average predicted volume:', pred1.mean())"
   ]
  },
  {
   "cell_type": "markdown",
   "id": "f2d99bd2",
   "metadata": {},
   "source": [
    "Para a `região 1`, o RMSE é de `0.89` e a média das previsões é `68,73`.\n",
    "\n",
    "Região 2:"
   ]
  },
  {
   "cell_type": "code",
   "execution_count": 9,
   "id": "5fd0ceb6",
   "metadata": {},
   "outputs": [
    {
     "name": "stdout",
     "output_type": "stream",
     "text": [
      "RMSE: 40.02970873393434 ; Average predicted volume: 94.96504596800489\n"
     ]
    }
   ],
   "source": [
    "features2 = data_2.drop(['id', 'product'], axis=1)\n",
    "target2 = data_2['product']\n",
    "f_train2, f_valid2, t_train2, t_valid2 = train_test_split(features2, target2, test_size=0.25, \\\n",
    "                                                          random_state=12345)\n",
    "rmse2, pred2 = lr_model(f_train2, f_valid2, t_train2, t_valid2)\n",
    "print('RMSE:', rmse2, '; Average predicted volume:', pred2.mean())"
   ]
  },
  {
   "cell_type": "markdown",
   "id": "e64df86a",
   "metadata": {},
   "source": [
    "Para a `região 0`, o RMSE é de `40,03` e a média das previsões é de `94,96`. Pelo RMSE, o modelo desta região foi o mais preciso, pois apresenta o menor valor de RMSE. No entanto, a região 3 teve a maior média das previsões."
   ]
  },
  {
   "cell_type": "markdown",
   "id": "ab1f3070",
   "metadata": {},
   "source": [
    "### Volume de Equilíbrio por Poço <a id=\"vepp\"></a>"
   ]
  },
  {
   "cell_type": "markdown",
   "id": "fc69af4d",
   "metadata": {},
   "source": [
    "Informações:\n",
    "\n",
    "- o orçamento para o desenvolvimento de `200` poços de petróleo é de `100 milhões` de dólares\n",
    "\n",
    "- ao explorar a região, é feito um estudo de `500` pontos com a escolha dos `200` melhores pontos para o cálculo do lucro\n",
    "\n",
    "- a receita de uma unidade de produto é de `4.500` dólares\n",
    "\n",
    "Armazenaremos essas informações em variáveis (elas também serão úteis durante o cálculo do lucro). Para determinar o volume necessário para viabilizar o desenvolvimento de um novo poço sem prejuízos, é necessário calcular o custo de desenvolvimento do poço e dividir esse valor pela receita obtida por volume."
   ]
  },
  {
   "cell_type": "code",
   "execution_count": 10,
   "id": "182a2dfb",
   "metadata": {},
   "outputs": [
    {
     "name": "stdout",
     "output_type": "stream",
     "text": [
      "111.11111111111111\n"
     ]
    }
   ],
   "source": [
    "points = 500\n",
    "points_needed = 200\n",
    "budget_200 = 100000000\n",
    "income_per_volume = 4500\n",
    "well_cost = budget_200/points_needed\n",
    "no_loss_volume = well_cost/income_per_volume\n",
    "print(no_loss_volume)"
   ]
  },
  {
   "cell_type": "markdown",
   "id": "ea611c2e",
   "metadata": {},
   "source": [
    "O resultado é 111,11 unidades de produto. Comparando o mesmo com as médias das 3 regiões:"
   ]
  },
  {
   "cell_type": "code",
   "execution_count": 11,
   "id": "f0bd7817",
   "metadata": {},
   "outputs": [
    {
     "name": "stdout",
     "output_type": "stream",
     "text": [
      "Produção média da região 0: 92.49999999999974\n",
      "Produção média da região 1: 68.82500000002561\n",
      "Produção média da região 2: 95.00000000000041\n"
     ]
    }
   ],
   "source": [
    "print('Produção média da região 0:', data_0['product'].mean())\n",
    "print('Produção média da região 1:', data_1['product'].mean())\n",
    "print('Produção média da região 2:', data_2['product'].mean())"
   ]
  },
  {
   "cell_type": "markdown",
   "id": "9e95e706",
   "metadata": {},
   "source": [
    "Todos esses volumes estão abaixo do ponto de equilíbrio, o que significa que, em média, todas as regiões estão tendo prejuízos."
   ]
  },
  {
   "cell_type": "markdown",
   "id": "2068d15c",
   "metadata": {},
   "source": [
    "### Lucro de Poços Selecionados e Previsões de Modelos <a id=\"lppm\"></a>"
   ]
  },
  {
   "cell_type": "markdown",
   "id": "20a58dbf",
   "metadata": {},
   "source": [
    "Informações:\n",
    "\n",
    "- Escolher os poços com os maiores valores de previsões\n",
    "\n",
    "- Resumir o volume alvo de reservas de acordo com essas previsões\n",
    "\n",
    "Escreveremos, portanto, a função que receberá o `alvo`, as `previsões` e o `número de poços` como argumentos para calcular o `lucro`:"
   ]
  },
  {
   "cell_type": "code",
   "execution_count": 12,
   "id": "1e3fdb14",
   "metadata": {},
   "outputs": [],
   "source": [
    "def revenue(target, predicted, n):\n",
    "    predicted = pd.Series(predicted)\n",
    "    target = target.reset_index(drop=True)\n",
    "    indices = predicted.sort_values(ascending=False).index \n",
    "    return (target.loc[indices][:n].sum() * income_per_volume) - (well_cost * n)"
   ]
  },
  {
   "cell_type": "markdown",
   "id": "aad69e38",
   "metadata": {},
   "source": [
    "### Risco e Lucro por Região <a id=\"rlr\"></a>"
   ]
  },
  {
   "cell_type": "markdown",
   "id": "292c27fe",
   "metadata": {},
   "source": [
    "Utilizaremos a técnica de bootstrap para criar amostras (1000 neste caso) do alvo e associá-las aos respectivos valores de previsão. A partir dessas amostras, calcularemos o lucro para os 200 poços com as previsões mais rentáveis em cada amostra, armazenando todos os valores de lucro em uma lista. É importante destacar que, durante a exploração da região, um estudo é realizado com 500 pontos, selecionando os 200 pontos de maior lucratividade para o cálculo do lucro."
   ]
  },
  {
   "cell_type": "code",
   "execution_count": 13,
   "id": "db2703c7",
   "metadata": {},
   "outputs": [
    {
     "data": {
      "image/png": "[encoded data removed]",
      "text/plain": [
       "<Figure size 640x480 with 1 Axes>"
      ]
     },
     "metadata": {},
     "output_type": "display_data"
    },
    {
     "data": {
      "image/png": "[encoded data removed]",
      "text/plain": [
       "<Figure size 640x480 with 1 Axes>"
      ]
     },
     "metadata": {},
     "output_type": "display_data"
    },
    {
     "data": {
      "image/png": "[encoded data removed]",
      "text/plain": [
       "<Figure size 640x480 with 1 Axes>"
      ]
     },
     "metadata": {},
     "output_type": "display_data"
    }
   ],
   "source": [
    "def rev_bootstr(target, predictions):\n",
    "    state = np.random.RandomState(12345)\n",
    "    values = []\n",
    "    target = target.reset_index(drop=True)\n",
    "    \n",
    "    for i in range(1000):\n",
    "        target_sample = target.sample(n=points, replace=True, random_state=state)\n",
    "        pred_sample = predictions[target_sample.index]\n",
    "        values.append(revenue(target_sample, pred_sample, points_needed))\n",
    "    return pd.Series(values)\n",
    "\n",
    "revenues0 = rev_bootstr(t_valid0, pred0)\n",
    "revenues1 = rev_bootstr(t_valid1, pred1)\n",
    "revenues2 = rev_bootstr(t_valid2, pred2)\n",
    "\n",
    "plots = [revenues0, revenues1, revenues2]\n",
    "titles = ['Region 0', 'Region 1', 'Region 2']\n",
    "\n",
    "for i in range(3):\n",
    "    plt.hist(plots[i], bins=20)\n",
    "    plt.title(titles[i])\n",
    "    plt.xlabel('Revenues')\n",
    "    plt.show()"
   ]
  },
  {
   "cell_type": "markdown",
   "id": "157e959d",
   "metadata": {},
   "source": [
    "Podemos observar que, de modo geral, todas as regiões são lucrativas, embora algumas perdas sejam observadas. Para cada região, é possível calcular o intervalo de confiança de `95%`, a média e o risco de perda em porcentagem. Desejamos que a região tenha um risco de perda inferior a `2,5%`. Primeiramente, a `região 0`:"
   ]
  },
  {
   "cell_type": "code",
   "execution_count": 14,
   "id": "e7e0ddb7",
   "metadata": {},
   "outputs": [
    {
     "name": "stdout",
     "output_type": "stream",
     "text": [
      "Região 0\n",
      "Lucro médio 3961649.84802371\n",
      "Intervalo de confiança de 95%: [-1112155.4589049604, 9097669.41553423]\n",
      "Risk of losses 0.069\n"
     ]
    }
   ],
   "source": [
    "conf_interval = [revenues0.quantile(0.025), revenues0.quantile(0.975)]\n",
    "loss_risk = len(revenues0[revenues0 < 0]) / len(revenues0)\n",
    "\n",
    "print('Região 0')\n",
    "print('Lucro médio', revenues0.mean()) \n",
    "print('Intervalo de confiança de 95%:', conf_interval)\n",
    "print('Risk of losses', loss_risk)"
   ]
  },
  {
   "cell_type": "markdown",
   "id": "6c70e87d",
   "metadata": {},
   "source": [
    "Para a `região 1`:"
   ]
  },
  {
   "cell_type": "code",
   "execution_count": 15,
   "id": "ebcbc937",
   "metadata": {},
   "outputs": [
    {
     "name": "stdout",
     "output_type": "stream",
     "text": [
      "Região 1\n",
      "Lucro médio 4560451.057866613\n",
      "Intervalo de confiança de 95%: [338205.0939898458, 8522894.538660347]\n",
      "Risco de perdas 0.015\n"
     ]
    }
   ],
   "source": [
    "conf_interval = [revenues1.quantile(0.025), revenues1.quantile(0.975)]\n",
    "loss_risk = len(revenues1[revenues1 < 0]) / len(revenues1)\n",
    "\n",
    "print('Região 1')\n",
    "print('Lucro médio', revenues1.mean()) \n",
    "print('Intervalo de confiança de 95%:', conf_interval)\n",
    "print('Risco de perdas', loss_risk)"
   ]
  },
  {
   "cell_type": "markdown",
   "id": "5ec14de8",
   "metadata": {},
   "source": [
    "Para a `região 2`:"
   ]
  },
  {
   "cell_type": "code",
   "execution_count": 16,
   "id": "694882c6",
   "metadata": {},
   "outputs": [
    {
     "name": "stdout",
     "output_type": "stream",
     "text": [
      "Região 2\n",
      "Lucro médio 4044038.665683569\n",
      "Intervalo de confiança de 95%: [-1633504.1339559986, 9503595.749237997]\n",
      "Risco de perdas 0.076\n"
     ]
    }
   ],
   "source": [
    "conf_interval = [revenues2.quantile(0.025), revenues2.quantile(0.975)]\n",
    "loss_risk = len(revenues2[revenues2 < 0]) / len(revenues2)\n",
    "\n",
    "print('Região 2')\n",
    "print('Lucro médio', revenues2.mean()) \n",
    "print('Intervalo de confiança de 95%:', conf_interval)\n",
    "print('Risco de perdas', loss_risk)"
   ]
  },
  {
   "cell_type": "markdown",
   "id": "215a5bad",
   "metadata": {},
   "source": [
    "Concluímos que a `Região 1` é a mais adequada para o desenvolvimento de petróleo, pois possui o menor risco de prejuízo (`1,5%`), os maiores limites de intervalo de confiança de 95% (Limite inferior: `4.431.472,49`; Limite superior: `4.689.429,63`) e o maior lucro médio de `4.560.451,06`."
   ]
  },
  {
   "cell_type": "markdown",
   "id": "678f698e",
   "metadata": {},
   "source": [
    "### Conclusão <a id=\"co\"></a>"
   ]
  },
  {
   "cell_type": "markdown",
   "id": "0999a1ba",
   "metadata": {},
   "source": [
    "Foi realizado um treinamento de modelos de `Regressão Linear` para os conjuntos de dados das três regiões. Durante o processo, estabelecemos que um volume de `111,11` unidades é necessário para evitar qualquer prejuízo em um poço.\n",
    "\n",
    "Em seguida, aplicamos a técnica de `bootstrap` para criar amostras com `500` valores do alvo, utilizando as respectivas previsões correspondentes para calcular os valores de lucro das `200` reservas mais rentáveis em cada amostra. Com base nessas amostras, calculamos intervalos de confiança de `95%`, `média de lucro` e `risco de perda`.\n",
    "\n",
    "Após a análise dos resultados, conclui-se que a `Região 1` é a mais adequada para o desenvolvimento de petróleo. Essa região apresenta o menor risco de perda, com apenas `1,5%` de probabilidade de prejuízo. Além disso, possui os maiores limites de intervalo de confiança (Limite inferior: `4.431.472,49`; Limite superior: `4.689.429,63`) e o maior lucro médio de aproximadamente `4.560.451,06`.\n",
    "\n",
    "Essas descobertas indicam que a `Região 1` oferece as melhores condições para o desenvolvimento de poços de petróleo com maior probabilidade de lucratividade e menor risco de prejuízo."
   ]
  }
 ],
 "metadata": {
  "kernelspec": {
   "display_name": "Python 3 (ipykernel)",
   "language": "python",
   "name": "python3"
  },
  "language_info": {
   "codemirror_mode": {
    "name": "ipython",
    "version": 3
   },
   "file_extension": ".py",
   "mimetype": "text/x-python",
   "name": "python",
   "nbconvert_exporter": "python",
   "pygments_lexer": "ipython3",
   "version": "3.9.13"
  },
  "toc": {
   "base_numbering": 1,
   "nav_menu": {},
   "number_sections": true,
   "sideBar": true,
   "skip_h1_title": true,
   "title_cell": "Table of Contents",
   "title_sidebar": "Contents",
   "toc_cell": false,
   "toc_position": {},
   "toc_section_display": true,
   "toc_window_display": false
  }
 },
 "nbformat": 4,
 "nbformat_minor": 5
}
