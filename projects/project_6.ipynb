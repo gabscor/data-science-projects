{
 "cells": [
  {
   "cell_type": "markdown",
   "id": "a7714efa",
   "metadata": {},
   "source": [
    "## Escolha do melhor plano para os usuários da Megaline"
   ]
  },
  {
   "cell_type": "markdown",
   "id": "f55e4aa0",
   "metadata": {},
   "source": [
    "Criaremos um modelo que utilize dados comportamentais de usuários que já mudaram para os novos planos (Smart ou Ultra) e, com base nesses dados, seja capaz de selecionar o plano mais adequado para outros usuários. O objetivo é desenvolver um modelo com uma precisão mínima de 75%. Para isso, testaremos três classificadores: Árvore de Decisão, Floresta Aleatória e Regressão Logística."
   ]
  },
  {
   "cell_type": "markdown",
   "id": "3350f397",
   "metadata": {},
   "source": [
    "## Sumário\n",
    "1. [Iniciação](#inic)\n",
    "\n",
    "2. [Separando os Grupos de Treinamento, Validação e Teste](#stvt)\n",
    "\n",
    "3. [Teste de Modelos](#tm)\n",
    "\n",
    "    A. [Árvore de Decisão](#ad)\n",
    "\n",
    "    B. [Floresta Aleatória](#fa)\n",
    "\n",
    "    C. [Regressão Logística](#rl)\n",
    "    \n",
    "4. [Verificação de Qualidade com o Conjunto de Teste](#vqct)\n",
    "\n",
    "5. [Verificação de Integridade](#vi)\n",
    "\n",
    "6. [Conclusão](#concl)"
   ]
  },
  {
   "cell_type": "markdown",
   "id": "b1cfc695",
   "metadata": {},
   "source": [
    "## Iniciação <a id=\"inic\"></a>"
   ]
  },
  {
   "cell_type": "code",
   "execution_count": 1,
   "id": "a8c8e4ce",
   "metadata": {},
   "outputs": [],
   "source": [
    "import pandas as pd\n",
    "from sklearn.tree import DecisionTreeClassifier\n",
    "from sklearn.ensemble import RandomForestClassifier\n",
    "from sklearn.linear_model import LogisticRegression\n",
    "from sklearn.model_selection import train_test_split\n",
    "from sklearn.metrics import accuracy_score"
   ]
  },
  {
   "cell_type": "code",
   "execution_count": 2,
   "id": "208aa148",
   "metadata": {},
   "outputs": [],
   "source": [
    "try:\n",
    "    df = pd.read_csv('users_behavior.csv')\n",
    "except:\n",
    "    df = pd.read_csv('/datasets/users_behavior.csv')"
   ]
  },
  {
   "cell_type": "code",
   "execution_count": 3,
   "id": "f8a4ab2a",
   "metadata": {},
   "outputs": [
    {
     "name": "stdout",
     "output_type": "stream",
     "text": [
      "<class 'pandas.core.frame.DataFrame'>\n",
      "RangeIndex: 3214 entries, 0 to 3213\n",
      "Data columns (total 5 columns):\n",
      " #   Column    Non-Null Count  Dtype  \n",
      "---  ------    --------------  -----  \n",
      " 0   calls     3214 non-null   float64\n",
      " 1   minutes   3214 non-null   float64\n",
      " 2   messages  3214 non-null   float64\n",
      " 3   mb_used   3214 non-null   float64\n",
      " 4   is_ultra  3214 non-null   int64  \n",
      "dtypes: float64(4), int64(1)\n",
      "memory usage: 125.7 KB\n"
     ]
    },
    {
     "data": {
      "text/html": [
       "<div>\n",
       "<style scoped>\n",
       "    .dataframe tbody tr th:only-of-type {\n",
       "        vertical-align: middle;\n",
       "    }\n",
       "\n",
       "    .dataframe tbody tr th {\n",
       "        vertical-align: top;\n",
       "    }\n",
       "\n",
       "    .dataframe thead th {\n",
       "        text-align: right;\n",
       "    }\n",
       "</style>\n",
       "<table border=\"1\" class=\"dataframe\">\n",
       "  <thead>\n",
       "    <tr style=\"text-align: right;\">\n",
       "      <th></th>\n",
       "      <th>calls</th>\n",
       "      <th>minutes</th>\n",
       "      <th>messages</th>\n",
       "      <th>mb_used</th>\n",
       "      <th>is_ultra</th>\n",
       "    </tr>\n",
       "  </thead>\n",
       "  <tbody>\n",
       "    <tr>\n",
       "      <th>0</th>\n",
       "      <td>40.0</td>\n",
       "      <td>311.90</td>\n",
       "      <td>83.0</td>\n",
       "      <td>19915.42</td>\n",
       "      <td>0</td>\n",
       "    </tr>\n",
       "    <tr>\n",
       "      <th>1</th>\n",
       "      <td>85.0</td>\n",
       "      <td>516.75</td>\n",
       "      <td>56.0</td>\n",
       "      <td>22696.96</td>\n",
       "      <td>0</td>\n",
       "    </tr>\n",
       "    <tr>\n",
       "      <th>2</th>\n",
       "      <td>77.0</td>\n",
       "      <td>467.66</td>\n",
       "      <td>86.0</td>\n",
       "      <td>21060.45</td>\n",
       "      <td>0</td>\n",
       "    </tr>\n",
       "    <tr>\n",
       "      <th>3</th>\n",
       "      <td>106.0</td>\n",
       "      <td>745.53</td>\n",
       "      <td>81.0</td>\n",
       "      <td>8437.39</td>\n",
       "      <td>1</td>\n",
       "    </tr>\n",
       "    <tr>\n",
       "      <th>4</th>\n",
       "      <td>66.0</td>\n",
       "      <td>418.74</td>\n",
       "      <td>1.0</td>\n",
       "      <td>14502.75</td>\n",
       "      <td>0</td>\n",
       "    </tr>\n",
       "  </tbody>\n",
       "</table>\n",
       "</div>"
      ],
      "text/plain": [
       "   calls  minutes  messages   mb_used  is_ultra\n",
       "0   40.0   311.90      83.0  19915.42         0\n",
       "1   85.0   516.75      56.0  22696.96         0\n",
       "2   77.0   467.66      86.0  21060.45         0\n",
       "3  106.0   745.53      81.0   8437.39         1\n",
       "4   66.0   418.74       1.0  14502.75         0"
      ]
     },
     "execution_count": 3,
     "metadata": {},
     "output_type": "execute_result"
    }
   ],
   "source": [
    "df.info()\n",
    "df.head()"
   ]
  },
  {
   "cell_type": "code",
   "execution_count": 4,
   "id": "0bbd301b",
   "metadata": {},
   "outputs": [
    {
     "data": {
      "text/html": [
       "<div>\n",
       "<style scoped>\n",
       "    .dataframe tbody tr th:only-of-type {\n",
       "        vertical-align: middle;\n",
       "    }\n",
       "\n",
       "    .dataframe tbody tr th {\n",
       "        vertical-align: top;\n",
       "    }\n",
       "\n",
       "    .dataframe thead th {\n",
       "        text-align: right;\n",
       "    }\n",
       "</style>\n",
       "<table border=\"1\" class=\"dataframe\">\n",
       "  <thead>\n",
       "    <tr style=\"text-align: right;\">\n",
       "      <th></th>\n",
       "      <th>calls</th>\n",
       "      <th>minutes</th>\n",
       "      <th>messages</th>\n",
       "      <th>mb_used</th>\n",
       "      <th>is_ultra</th>\n",
       "    </tr>\n",
       "  </thead>\n",
       "  <tbody>\n",
       "    <tr>\n",
       "      <th>count</th>\n",
       "      <td>3214.000000</td>\n",
       "      <td>3214.000000</td>\n",
       "      <td>3214.000000</td>\n",
       "      <td>3214.000000</td>\n",
       "      <td>3214.000000</td>\n",
       "    </tr>\n",
       "    <tr>\n",
       "      <th>mean</th>\n",
       "      <td>63.038892</td>\n",
       "      <td>438.208787</td>\n",
       "      <td>38.281269</td>\n",
       "      <td>17207.673836</td>\n",
       "      <td>0.306472</td>\n",
       "    </tr>\n",
       "    <tr>\n",
       "      <th>std</th>\n",
       "      <td>33.236368</td>\n",
       "      <td>234.569872</td>\n",
       "      <td>36.148326</td>\n",
       "      <td>7570.968246</td>\n",
       "      <td>0.461100</td>\n",
       "    </tr>\n",
       "    <tr>\n",
       "      <th>min</th>\n",
       "      <td>0.000000</td>\n",
       "      <td>0.000000</td>\n",
       "      <td>0.000000</td>\n",
       "      <td>0.000000</td>\n",
       "      <td>0.000000</td>\n",
       "    </tr>\n",
       "    <tr>\n",
       "      <th>25%</th>\n",
       "      <td>40.000000</td>\n",
       "      <td>274.575000</td>\n",
       "      <td>9.000000</td>\n",
       "      <td>12491.902500</td>\n",
       "      <td>0.000000</td>\n",
       "    </tr>\n",
       "    <tr>\n",
       "      <th>50%</th>\n",
       "      <td>62.000000</td>\n",
       "      <td>430.600000</td>\n",
       "      <td>30.000000</td>\n",
       "      <td>16943.235000</td>\n",
       "      <td>0.000000</td>\n",
       "    </tr>\n",
       "    <tr>\n",
       "      <th>75%</th>\n",
       "      <td>82.000000</td>\n",
       "      <td>571.927500</td>\n",
       "      <td>57.000000</td>\n",
       "      <td>21424.700000</td>\n",
       "      <td>1.000000</td>\n",
       "    </tr>\n",
       "    <tr>\n",
       "      <th>max</th>\n",
       "      <td>244.000000</td>\n",
       "      <td>1632.060000</td>\n",
       "      <td>224.000000</td>\n",
       "      <td>49745.730000</td>\n",
       "      <td>1.000000</td>\n",
       "    </tr>\n",
       "  </tbody>\n",
       "</table>\n",
       "</div>"
      ],
      "text/plain": [
       "             calls      minutes     messages       mb_used     is_ultra\n",
       "count  3214.000000  3214.000000  3214.000000   3214.000000  3214.000000\n",
       "mean     63.038892   438.208787    38.281269  17207.673836     0.306472\n",
       "std      33.236368   234.569872    36.148326   7570.968246     0.461100\n",
       "min       0.000000     0.000000     0.000000      0.000000     0.000000\n",
       "25%      40.000000   274.575000     9.000000  12491.902500     0.000000\n",
       "50%      62.000000   430.600000    30.000000  16943.235000     0.000000\n",
       "75%      82.000000   571.927500    57.000000  21424.700000     1.000000\n",
       "max     244.000000  1632.060000   224.000000  49745.730000     1.000000"
      ]
     },
     "execution_count": 4,
     "metadata": {},
     "output_type": "execute_result"
    }
   ],
   "source": [
    "df.describe()"
   ]
  },
  {
   "cell_type": "markdown",
   "id": "1c085b7d",
   "metadata": {},
   "source": [
    "Notamos que não há valores ausentes, porém o tipo de valores das colunas `calls` e `messages` estão incorretos visto que não é possível ter meia ligação ou mensagem."
   ]
  },
  {
   "cell_type": "code",
   "execution_count": 5,
   "id": "2e6c449f",
   "metadata": {},
   "outputs": [
    {
     "name": "stdout",
     "output_type": "stream",
     "text": [
      "<class 'pandas.core.frame.DataFrame'>\n",
      "RangeIndex: 3214 entries, 0 to 3213\n",
      "Data columns (total 5 columns):\n",
      " #   Column    Non-Null Count  Dtype  \n",
      "---  ------    --------------  -----  \n",
      " 0   calls     3214 non-null   int16  \n",
      " 1   minutes   3214 non-null   float64\n",
      " 2   messages  3214 non-null   int16  \n",
      " 3   mb_used   3214 non-null   float64\n",
      " 4   is_ultra  3214 non-null   int16  \n",
      "dtypes: float64(2), int16(3)\n",
      "memory usage: 69.2 KB\n"
     ]
    },
    {
     "data": {
      "text/html": [
       "<div>\n",
       "<style scoped>\n",
       "    .dataframe tbody tr th:only-of-type {\n",
       "        vertical-align: middle;\n",
       "    }\n",
       "\n",
       "    .dataframe tbody tr th {\n",
       "        vertical-align: top;\n",
       "    }\n",
       "\n",
       "    .dataframe thead th {\n",
       "        text-align: right;\n",
       "    }\n",
       "</style>\n",
       "<table border=\"1\" class=\"dataframe\">\n",
       "  <thead>\n",
       "    <tr style=\"text-align: right;\">\n",
       "      <th></th>\n",
       "      <th>calls</th>\n",
       "      <th>minutes</th>\n",
       "      <th>messages</th>\n",
       "      <th>mb_used</th>\n",
       "      <th>is_ultra</th>\n",
       "    </tr>\n",
       "  </thead>\n",
       "  <tbody>\n",
       "    <tr>\n",
       "      <th>0</th>\n",
       "      <td>40</td>\n",
       "      <td>311.90</td>\n",
       "      <td>83</td>\n",
       "      <td>19915.42</td>\n",
       "      <td>0</td>\n",
       "    </tr>\n",
       "    <tr>\n",
       "      <th>1</th>\n",
       "      <td>85</td>\n",
       "      <td>516.75</td>\n",
       "      <td>56</td>\n",
       "      <td>22696.96</td>\n",
       "      <td>0</td>\n",
       "    </tr>\n",
       "    <tr>\n",
       "      <th>2</th>\n",
       "      <td>77</td>\n",
       "      <td>467.66</td>\n",
       "      <td>86</td>\n",
       "      <td>21060.45</td>\n",
       "      <td>0</td>\n",
       "    </tr>\n",
       "    <tr>\n",
       "      <th>3</th>\n",
       "      <td>106</td>\n",
       "      <td>745.53</td>\n",
       "      <td>81</td>\n",
       "      <td>8437.39</td>\n",
       "      <td>1</td>\n",
       "    </tr>\n",
       "    <tr>\n",
       "      <th>4</th>\n",
       "      <td>66</td>\n",
       "      <td>418.74</td>\n",
       "      <td>1</td>\n",
       "      <td>14502.75</td>\n",
       "      <td>0</td>\n",
       "    </tr>\n",
       "  </tbody>\n",
       "</table>\n",
       "</div>"
      ],
      "text/plain": [
       "   calls  minutes  messages   mb_used  is_ultra\n",
       "0     40   311.90        83  19915.42         0\n",
       "1     85   516.75        56  22696.96         0\n",
       "2     77   467.66        86  21060.45         0\n",
       "3    106   745.53        81   8437.39         1\n",
       "4     66   418.74         1  14502.75         0"
      ]
     },
     "execution_count": 5,
     "metadata": {},
     "output_type": "execute_result"
    }
   ],
   "source": [
    "df['calls'] = df['calls'].astype('int16')\n",
    "df['messages'] = df['messages'].astype('int16')\n",
    "df['is_ultra'] = df['is_ultra'].astype('int16')\n",
    "#os valores são convertidos para int16 para diminuir o tamanho, visto que são valores pequenos\n",
    "\n",
    "df.info()\n",
    "df.head()"
   ]
  },
  {
   "cell_type": "markdown",
   "id": "e5bd6cfe",
   "metadata": {},
   "source": [
    "## Separando os Grupos de Treinamento, Validação e Teste <a id=\"stvt\"></a>"
   ]
  },
  {
   "cell_type": "markdown",
   "id": "38800cf1",
   "metadata": {},
   "source": [
    "Em seguida faremos uso da função `train_test_split()`. Essa função divide um conjunto de dados em duas partes distintas. Entretanto, como necessitamos de três conjuntos de dados distintos, executamos essa divisão duas vezes. Além disso, é importante destacar que as proporções das partes originais do conjunto de dados devem ser distribuídas como 60%, 20%, e 20%, garantindo assim a formação adequada dos conjuntos de treinamento, validação e teste."
   ]
  },
  {
   "cell_type": "code",
   "execution_count": 6,
   "id": "6815e19f",
   "metadata": {},
   "outputs": [],
   "source": [
    "df_train, df2 = train_test_split(df, test_size=0.4, random_state=12345)\n",
    "#divide o dataframe tendo o df_train(60%) e df2(40%)\n",
    "\n",
    "df_valid, df_test = train_test_split(df2, test_size=0.5, random_state=12345)\n",
    "#divide o dataframe 2 tendo df_valid(50% do df2, portanto 20% do df) e df_test(50% do df2, portanto 20% do df)"
   ]
  },
  {
   "cell_type": "code",
   "execution_count": 7,
   "id": "902f0748",
   "metadata": {},
   "outputs": [
    {
     "name": "stdout",
     "output_type": "stream",
     "text": [
      "<class 'pandas.core.frame.DataFrame'>\n",
      "Int64Index: 1928 entries, 3027 to 482\n",
      "Data columns (total 5 columns):\n",
      " #   Column    Non-Null Count  Dtype  \n",
      "---  ------    --------------  -----  \n",
      " 0   calls     1928 non-null   int16  \n",
      " 1   minutes   1928 non-null   float64\n",
      " 2   messages  1928 non-null   int16  \n",
      " 3   mb_used   1928 non-null   float64\n",
      " 4   is_ultra  1928 non-null   int16  \n",
      "dtypes: float64(2), int16(3)\n",
      "memory usage: 56.5 KB\n"
     ]
    }
   ],
   "source": [
    "df_train.info()"
   ]
  },
  {
   "cell_type": "code",
   "execution_count": 8,
   "id": "d23bda7b",
   "metadata": {},
   "outputs": [
    {
     "name": "stdout",
     "output_type": "stream",
     "text": [
      "<class 'pandas.core.frame.DataFrame'>\n",
      "Int64Index: 643 entries, 1386 to 3197\n",
      "Data columns (total 5 columns):\n",
      " #   Column    Non-Null Count  Dtype  \n",
      "---  ------    --------------  -----  \n",
      " 0   calls     643 non-null    int16  \n",
      " 1   minutes   643 non-null    float64\n",
      " 2   messages  643 non-null    int16  \n",
      " 3   mb_used   643 non-null    float64\n",
      " 4   is_ultra  643 non-null    int16  \n",
      "dtypes: float64(2), int16(3)\n",
      "memory usage: 18.8 KB\n"
     ]
    }
   ],
   "source": [
    "df_valid.info()"
   ]
  },
  {
   "cell_type": "code",
   "execution_count": 9,
   "id": "c43e9a37",
   "metadata": {},
   "outputs": [
    {
     "name": "stdout",
     "output_type": "stream",
     "text": [
      "<class 'pandas.core.frame.DataFrame'>\n",
      "Int64Index: 643 entries, 160 to 2313\n",
      "Data columns (total 5 columns):\n",
      " #   Column    Non-Null Count  Dtype  \n",
      "---  ------    --------------  -----  \n",
      " 0   calls     643 non-null    int16  \n",
      " 1   minutes   643 non-null    float64\n",
      " 2   messages  643 non-null    int16  \n",
      " 3   mb_used   643 non-null    float64\n",
      " 4   is_ultra  643 non-null    int16  \n",
      "dtypes: float64(2), int16(3)\n",
      "memory usage: 18.8 KB\n"
     ]
    }
   ],
   "source": [
    "df_test.info()"
   ]
  },
  {
   "cell_type": "markdown",
   "id": "111bd9e1",
   "metadata": {},
   "source": [
    "A divisão foi bem sucedida. Neste momento, é necessário estabelecer as características e o target para cada conjunto de dados. Para as características, utilizaremos todo o dataframe, porém excluiremos a coluna alvo. A mesma será composta pela coluna \"is_ultra\"."
   ]
  },
  {
   "cell_type": "code",
   "execution_count": 10,
   "id": "c1efce6d",
   "metadata": {},
   "outputs": [],
   "source": [
    "train_features = df_train.drop('is_ultra', axis=1)\n",
    "train_target = df_train['is_ultra']\n",
    "\n",
    "valid_features = df_valid.drop('is_ultra', axis=1)\n",
    "valid_target = df_valid['is_ultra']\n",
    "\n",
    "test_features = df_test.drop('is_ultra', axis=1)\n",
    "test_target = df_test['is_ultra']"
   ]
  },
  {
   "cell_type": "markdown",
   "id": "cfb83d27",
   "metadata": {},
   "source": [
    "Após definir os conjuntos de características(`features`) e alvo(`target`) testaremos os modelos."
   ]
  },
  {
   "cell_type": "markdown",
   "id": "c5f0f323",
   "metadata": {},
   "source": [
    "## Teste de Modelos <a id=\"tm\"></a>"
   ]
  },
  {
   "cell_type": "markdown",
   "id": "ab870ba0",
   "metadata": {},
   "source": [
    "Como mencionado anteriormente, avaliaremos a eficácia dos modelos de classificação Árvore de Decisão, Floresta Aleatória e Regressão Logística. Para isso, vamos treinar esses modelos utilizando o conjunto de treinamento e a função `fit()`, e testá-los utilizando o conjunto de validação. A avaliação dos modelos será realizada por meio da comparação entre as previsões realizadas utilizando as características do conjunto de validação, por meio do método `predict()`, e os resultados reais desse conjunto. Além disso, vamos realizar ajustes nos hiperparâmetros dos modelos para obter uma pontuação de acurácia mais alta. Esse resultado será utilizado para escolher o modelo mais eficaz."
   ]
  },
  {
   "cell_type": "markdown",
   "id": "800af180",
   "metadata": {},
   "source": [
    "### Árvore de Decisão <a id=\"ad\"></a>"
   ]
  },
  {
   "cell_type": "markdown",
   "id": "6e4d8cdf",
   "metadata": {},
   "source": [
    "Utilizaremos a função `DecisionTreeClassifier()`. Em seguida, definiremos dois hiperparâmetros: `random_state` e `max_depth`. O valor de `random_state` deve ser o mesmo todas as vezes, portanto, será atribuído um valor fixo de `12345`. O hiperparâmetro `max_depth` será o que iremos ajustar, e para isso, vamos realizar um loop em uma série de valores para `max_depth` (no intervalo de 1 a 10) e obter a pontuação de acurácia correspondente a cada valor."
   ]
  },
  {
   "cell_type": "code",
   "execution_count": 11,
   "id": "7d24e535",
   "metadata": {},
   "outputs": [
    {
     "name": "stdout",
     "output_type": "stream",
     "text": [
      "Melhor modelo possui max depth = 10 e accuracy = 0.7853810264385692\n"
     ]
    }
   ],
   "source": [
    "best_accuracy = 0\n",
    "best_depth = 0\n",
    "for depth in range(1, 11): \n",
    "    tree_model = DecisionTreeClassifier(random_state=12345, max_depth=depth)\n",
    "    tree_model.fit(train_features, train_target)\n",
    "    tree_valid_pred = tree_model.predict(valid_features)\n",
    "    accuracy = accuracy_score(valid_target, tree_valid_pred)\n",
    "    if accuracy > best_accuracy:\n",
    "        best_accuracy = accuracy\n",
    "        best_depth = depth\n",
    "print('Melhor modelo possui max depth =', depth, 'e accuracy =', best_accuracy)"
   ]
  },
  {
   "cell_type": "markdown",
   "id": "03eb3d26",
   "metadata": {},
   "source": [
    "Considerando os resultados obtidos, o modelo de Árvore de Decisão mais eficiente é aquele que possui `max_depth` igual a 10, pois apresenta a maior pontuação de acurácia, `78,53%`."
   ]
  },
  {
   "cell_type": "markdown",
   "id": "efc99f58",
   "metadata": {},
   "source": [
    "### Floresta Aleatória <a id=\"fa\"></a>"
   ]
  },
  {
   "cell_type": "markdown",
   "id": "74543735",
   "metadata": {},
   "source": [
    "Nesta secção utilizaremos a função `RandomForestClassifier()`. O hiperparâmetro `random_state` deve permanecer o mesmo que antes. Os hiperparâmetros que ajustaremos são `max_depth` e `n_estimators`. Para isso, criaremos inicialmente uma lista vazia. Em seguida, criaremos um loop que percorre os valores de `max_depth` e, dentro desse loop, percorre os valores de `n_estimators`. Utilizaremos esse loop para criar modelos com diferentes combinações de valores para `max_depth` e `n_estimators` que iremos armazenar na lista, a partir da qual escolheremos o modelo com a maior pontuação de acurácia."
   ]
  },
  {
   "cell_type": "code",
   "execution_count": 12,
   "id": "580f4e4c",
   "metadata": {
    "scrolled": false
   },
   "outputs": [
    {
     "name": "stdout",
     "output_type": "stream",
     "text": [
      "RandomForestClassifier(max_depth=8, n_estimators=40, random_state=12345)\n"
     ]
    }
   ],
   "source": [
    "rf = [] #rf de RandomForest -> Floresta Aleatória\n",
    "for depth in range(1, 11):\n",
    "    for estimators in range(10, 40, 90):\n",
    "        rf_model = RandomForestClassifier(random_state=12345, max_depth=depth, n_estimators=estimators)\n",
    "        rf_model.fit(train_features, train_target)\n",
    "        rf.append(rf_model)\n",
    "print(max(rf, key=lambda rf_model: accuracy_score(rf_model.predict(valid_features), valid_target)))"
   ]
  },
  {
   "cell_type": "markdown",
   "id": "83e5a966",
   "metadata": {},
   "source": [
    "De acordo com os resultados, o modelo mais eficiente de classificação floresta aleatória é aquele que possui `max_depth` igual a 8 e `n_estimators` igual a 40. Para esse modelo, utilizaremos o nome `best_rf`. Agora, iremos verificar a sua pontuação de acurácia."
   ]
  },
  {
   "cell_type": "code",
   "execution_count": 13,
   "id": "e3e7ffeb",
   "metadata": {},
   "outputs": [
    {
     "name": "stdout",
     "output_type": "stream",
     "text": [
      "0.8087091757387247\n"
     ]
    }
   ],
   "source": [
    "best_rf = RandomForestClassifier(random_state=12345, max_depth=8, n_estimators=40)\n",
    "best_rf.fit(train_features, train_target)\n",
    "best_rf_pred = best_rf.predict(valid_features)\n",
    "print(accuracy_score(valid_target, best_rf_pred))"
   ]
  },
  {
   "cell_type": "markdown",
   "id": "1c5e33b3",
   "metadata": {},
   "source": [
    "O melhor modelo obteve uma acuráica de quase `81%` com a classificação por floresta aleatória."
   ]
  },
  {
   "cell_type": "markdown",
   "id": "ad1eb278",
   "metadata": {},
   "source": [
    "### Regressão Logística <a id=\"rl\"></a>"
   ]
  },
  {
   "cell_type": "markdown",
   "id": "d2fc3614",
   "metadata": {},
   "source": [
    "Aplicaremos a função `LogisticRegression()`. É importante manter o mesmo valor para o hiperparâmetro `random_state`. No entanto, os hiperparâmetros `max_depth` e `n_estimators` não são relevantes neste caso. O que precisamos definir é o `solver`, que será `liblinear`."
   ]
  },
  {
   "cell_type": "code",
   "execution_count": 14,
   "id": "71b7a361",
   "metadata": {},
   "outputs": [
    {
     "name": "stdout",
     "output_type": "stream",
     "text": [
      "Acurácia da Regressão Logística = 0.7573872472783826\n"
     ]
    }
   ],
   "source": [
    "#lr de Logistic Regression -> Regressão Logística\n",
    "lr_model = LogisticRegression(random_state=12345, solver='liblinear')\n",
    "lr_model.fit(train_features, train_target)\n",
    "lr_valid_pred = lr_model.predict(valid_features)\n",
    "print('Acurácia da Regressão Logística =', accuracy_score(valid_target, lr_valid_pred))"
   ]
  },
  {
   "cell_type": "markdown",
   "id": "857a2a2f",
   "metadata": {},
   "source": [
    "A acurária do modelo de regressão logística tem aproximadamente `76%`"
   ]
  },
  {
   "cell_type": "markdown",
   "id": "3fd71afd",
   "metadata": {},
   "source": [
    "Concluímos, portanto, que o modelo mais eficiente é o `Random Forest` com `max_depth=8` e `n_estimators=40` (pontuação de acurácia de `81%`). Em segundo lugar, o modelo `Decision Tree` com `max_depth=3` (pontuação de acurácia de `78,5%`). Por último, o modelo `Logistic Regression` (pontuação de acurácia de `76%`)."
   ]
  },
  {
   "cell_type": "markdown",
   "id": "b5de1eda",
   "metadata": {},
   "source": [
    "## Verificação de Qualidade com o Conjunto de Teste <a id=\"vqct\"></a>"
   ]
  },
  {
   "cell_type": "markdown",
   "id": "311402f9",
   "metadata": {},
   "source": [
    "Para aplicar o melhor modelo no conjunto de teste, é necessário antes re-treiná-lo usando tanto o conjunto de treinamento quanto o conjunto de validação combinados. Para isso, podemos usar a função `pd.concat` que recebe uma lista dos conjuntos envolvidos como argumento e definir o parâmetro `axis=0` para empilhamento vertical."
   ]
  },
  {
   "cell_type": "code",
   "execution_count": 15,
   "id": "724d1d02",
   "metadata": {},
   "outputs": [
    {
     "name": "stdout",
     "output_type": "stream",
     "text": [
      "<class 'pandas.core.frame.DataFrame'>\n",
      "Int64Index: 2571 entries, 3027 to 3197\n",
      "Data columns (total 5 columns):\n",
      " #   Column    Non-Null Count  Dtype  \n",
      "---  ------    --------------  -----  \n",
      " 0   calls     2571 non-null   int16  \n",
      " 1   minutes   2571 non-null   float64\n",
      " 2   messages  2571 non-null   int16  \n",
      " 3   mb_used   2571 non-null   float64\n",
      " 4   is_ultra  2571 non-null   int16  \n",
      "dtypes: float64(2), int16(3)\n",
      "memory usage: 75.3 KB\n"
     ]
    }
   ],
   "source": [
    "train_final = pd.concat([df_train, df_valid], axis=0)\n",
    "train_final.info()"
   ]
  },
  {
   "cell_type": "markdown",
   "id": "ded0b9e9",
   "metadata": {},
   "source": [
    "Treinaremos usando as novas features e target, fazer previsões usando as features do conjunto de teste e obter uma pontuação de precisão. Para isso usaremos o melhor modelo, 'best_rf'."
   ]
  },
  {
   "cell_type": "code",
   "execution_count": 16,
   "id": "90f98de5",
   "metadata": {},
   "outputs": [
    {
     "name": "stdout",
     "output_type": "stream",
     "text": [
      "0.7993779160186625\n"
     ]
    }
   ],
   "source": [
    "train_final_features = train_final.drop('is_ultra', axis=1)\n",
    "train_final_target = train_final['is_ultra']\n",
    "\n",
    "best_rf.fit(train_final_features, train_final_target)\n",
    "best_rf_pred = best_rf.predict(test_features)\n",
    "print(accuracy_score(best_rf_pred, test_target))"
   ]
  },
  {
   "cell_type": "markdown",
   "id": "1b48a63e",
   "metadata": {},
   "source": [
    "Obtivemos uma pontuação de precisão de cerca de `80%`, que está acima do limite de `75%` para o projeto."
   ]
  },
  {
   "cell_type": "markdown",
   "id": "43d13537",
   "metadata": {},
   "source": [
    "## Verificação de Integridade <a id=\"vi\"></a>"
   ]
  },
  {
   "cell_type": "markdown",
   "id": "8c83c1a1",
   "metadata": {},
   "source": [
    "Para verificar se o modelo é coerente, é primordial compará-lo com um cenário aleatório. Podemos fazer isso obtendo a pontuação de precisão se nossas previsões fossem basicamente colocar um valor constante para o `target` durante toda a análise. Para isso, primeiro precisamos ver quantos clientes `Smart` e `Ultra` temos no conjunto de teste."
   ]
  },
  {
   "cell_type": "code",
   "execution_count": 17,
   "id": "e4ef92da",
   "metadata": {},
   "outputs": [
    {
     "name": "stdout",
     "output_type": "stream",
     "text": [
      "Número de clientes Smart: 440\n",
      "Número de clientes Ultra: 203\n"
     ]
    }
   ],
   "source": [
    "smart_target = (test_target == 0)\n",
    "ultra_target = (test_target == 1)\n",
    "\n",
    "print('Número de clientes Smart:', smart_target.sum())\n",
    "print('Número de clientes Ultra:', ultra_target.sum())"
   ]
  },
  {
   "cell_type": "markdown",
   "id": "d1aed3b2",
   "metadata": {},
   "source": [
    "Considerando que temos um número muito maior de clientes `Smart`, usaremos eles como exemplo. Para verificar a eficácia do modelo, realizaremos um teste de integridade comparando-o a uma escolha aleatória. Vamos supor que temos um classificador aleatório que fez previsões somente para a classe 0 (plano `Smart`) em todo o conjunto de teste. Qual seria a pontuação de precisão obtida por esse classificador aleatório?"
   ]
  },
  {
   "cell_type": "code",
   "execution_count": 18,
   "id": "6e23020f",
   "metadata": {},
   "outputs": [
    {
     "name": "stdout",
     "output_type": "stream",
     "text": [
      "Acurácia do classificador aleatório Smart: 0.6842923794712286\n"
     ]
    }
   ],
   "source": [
    "smart_chance = smart_target.sum() / len(test_target)\n",
    "print('Acurácia do classificador aleatório Smart:', smart_chance)"
   ]
  },
  {
   "cell_type": "markdown",
   "id": "9ac71981",
   "metadata": {},
   "source": [
    "O classificador aleatório teria uma pontuação de precisão de `68,4%`, que é inferior aos `80%` que o classificador de floresta aleatória obteve. Então nosso modelo passa na verificação de integridade."
   ]
  },
  {
   "cell_type": "markdown",
   "id": "45e6f709",
   "metadata": {},
   "source": [
    "## Conclusão <a id=\"concl\"></a>"
   ]
  },
  {
   "cell_type": "markdown",
   "id": "ccf0263b",
   "metadata": {},
   "source": [
    "Dividimos os dados em conjuntos de treinamento, validação e teste. Testamos vários modelos e constatamos que o `RandomForestClassifier` foi o melhor, obtendo uma precisão de `80%` no conjunto de validação e `79%` no conjunto de teste, além de ter passado no teste de verificação."
   ]
  }
 ],
 "metadata": {
  "kernelspec": {
   "display_name": "Python 3 (ipykernel)",
   "language": "python",
   "name": "python3"
  },
  "language_info": {
   "codemirror_mode": {
    "name": "ipython",
    "version": 3
   },
   "file_extension": ".py",
   "mimetype": "text/x-python",
   "name": "python",
   "nbconvert_exporter": "python",
   "pygments_lexer": "ipython3",
   "version": "3.9.13"
  },
  "toc": {
   "base_numbering": 1,
   "nav_menu": {},
   "number_sections": true,
   "sideBar": true,
   "skip_h1_title": true,
   "title_cell": "Table of Contents",
   "title_sidebar": "Contents",
   "toc_cell": false,
   "toc_position": {},
   "toc_section_display": true,
   "toc_window_display": false
  }
 },
 "nbformat": 4,
 "nbformat_minor": 5
}
