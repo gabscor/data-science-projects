{
 "cells": [
  {
   "cell_type": "markdown",
   "id": "cdc4b888",
   "metadata": {},
   "source": [
    "# Prevendo a Rotatividade de Clientes em Telecomunicações"
   ]
  },
  {
   "cell_type": "markdown",
   "id": "659365dd",
   "metadata": {},
   "source": [
    "A operadora de comunicações Interconnect gostaria de ser capaz de predizer a rotatividade de seus clientes. Se for descoberto que um usuário está planejando trocar de operadora, a empresa oferecerá-lhe códigos promocionais e opções de plano especiais. A equipe de marketing da Interconnect coletou alguns dados pessoais da sua clientela, incluindo a informação sobre seus planos e contratos."
   ]
  },
  {
   "cell_type": "markdown",
   "id": "20faaa12",
   "metadata": {},
   "source": [
    "# Sumário\n",
    "1. [Iniciação](#1)\n",
    "2. [Pré-processamento de Dados](#2)\n",
    "3. [Análise Exploratória de Dados](#3)\n",
    "4. [Treinamento dos Modelos](#4)\n",
    "5. [Conclusão](#5)"
   ]
  },
  {
   "cell_type": "markdown",
   "id": "9e0a84d5",
   "metadata": {},
   "source": [
    "## Iniciação <a name='1'></a>"
   ]
  },
  {
   "cell_type": "code",
   "execution_count": 1,
   "id": "826804fb",
   "metadata": {},
   "outputs": [],
   "source": [
    "import pandas as pd\n",
    "import matplotlib.pyplot as plt\n",
    "import numpy as np\n",
    "\n",
    "from sklearn.preprocessing import StandardScaler, OneHotEncoder\n",
    "from sklearn.pipeline import Pipeline\n",
    "from sklearn.metrics import roc_auc_score, accuracy_score, recall_score\n",
    "from sklearn.model_selection import train_test_split, cross_val_score\n",
    "from sklearn.linear_model import LogisticRegression\n",
    "from sklearn.ensemble import RandomForestClassifier\n",
    "from sklearn.model_selection import StratifiedKFold\n",
    "from sklearn.compose import ColumnTransformer\n",
    "from lightgbm import LGBMClassifier\n",
    "from catboost import CatBoostClassifier"
   ]
  },
  {
   "cell_type": "code",
   "execution_count": 2,
   "id": "09ed2d2c",
   "metadata": {},
   "outputs": [],
   "source": [
    "try:\n",
    "    contract = pd.read_csv('contract.csv')\n",
    "    internet = pd.read_csv('internet.csv')\n",
    "    personal = pd.read_csv('personal.csv')\n",
    "    phone = pd.read_csv('phone.csv')\n",
    "except:\n",
    "    contract = pd.read_csv('/datasets/final_provider/contract.csv')\n",
    "    internet = pd.read_csv('/datasets/final_provider/internet.csv')\n",
    "    personal = pd.read_csv('/datasets/final_provider/personal.csv')\n",
    "    phone = pd.read_csv('/datasets/final_provider/phone.csv')"
   ]
  },
  {
   "cell_type": "markdown",
   "id": "edf5eb4d",
   "metadata": {},
   "source": [
    "Iniciarei observando os dados nos datasets e ponderando as melhores opções a serem feitas em cada um"
   ]
  },
  {
   "cell_type": "code",
   "execution_count": 3,
   "id": "859154d6",
   "metadata": {
    "scrolled": false
   },
   "outputs": [
    {
     "name": "stdout",
     "output_type": "stream",
     "text": [
      "<class 'pandas.core.frame.DataFrame'>\n",
      "RangeIndex: 7043 entries, 0 to 7042\n",
      "Data columns (total 8 columns):\n",
      " #   Column            Non-Null Count  Dtype  \n",
      "---  ------            --------------  -----  \n",
      " 0   customerID        7043 non-null   object \n",
      " 1   BeginDate         7043 non-null   object \n",
      " 2   EndDate           7043 non-null   object \n",
      " 3   Type              7043 non-null   object \n",
      " 4   PaperlessBilling  7043 non-null   object \n",
      " 5   PaymentMethod     7043 non-null   object \n",
      " 6   MonthlyCharges    7043 non-null   float64\n",
      " 7   TotalCharges      7043 non-null   object \n",
      "dtypes: float64(1), object(7)\n",
      "memory usage: 440.3+ KB\n"
     ]
    },
    {
     "data": {
      "text/html": [
       "<div>\n",
       "<style scoped>\n",
       "    .dataframe tbody tr th:only-of-type {\n",
       "        vertical-align: middle;\n",
       "    }\n",
       "\n",
       "    .dataframe tbody tr th {\n",
       "        vertical-align: top;\n",
       "    }\n",
       "\n",
       "    .dataframe thead th {\n",
       "        text-align: right;\n",
       "    }\n",
       "</style>\n",
       "<table border=\"1\" class=\"dataframe\">\n",
       "  <thead>\n",
       "    <tr style=\"text-align: right;\">\n",
       "      <th></th>\n",
       "      <th>customerID</th>\n",
       "      <th>BeginDate</th>\n",
       "      <th>EndDate</th>\n",
       "      <th>Type</th>\n",
       "      <th>PaperlessBilling</th>\n",
       "      <th>PaymentMethod</th>\n",
       "      <th>MonthlyCharges</th>\n",
       "      <th>TotalCharges</th>\n",
       "    </tr>\n",
       "  </thead>\n",
       "  <tbody>\n",
       "    <tr>\n",
       "      <th>0</th>\n",
       "      <td>7590-VHVEG</td>\n",
       "      <td>2020-01-01</td>\n",
       "      <td>No</td>\n",
       "      <td>Month-to-month</td>\n",
       "      <td>Yes</td>\n",
       "      <td>Electronic check</td>\n",
       "      <td>29.85</td>\n",
       "      <td>29.85</td>\n",
       "    </tr>\n",
       "    <tr>\n",
       "      <th>1</th>\n",
       "      <td>5575-GNVDE</td>\n",
       "      <td>2017-04-01</td>\n",
       "      <td>No</td>\n",
       "      <td>One year</td>\n",
       "      <td>No</td>\n",
       "      <td>Mailed check</td>\n",
       "      <td>56.95</td>\n",
       "      <td>1889.5</td>\n",
       "    </tr>\n",
       "    <tr>\n",
       "      <th>2</th>\n",
       "      <td>3668-QPYBK</td>\n",
       "      <td>2019-10-01</td>\n",
       "      <td>2019-12-01 00:00:00</td>\n",
       "      <td>Month-to-month</td>\n",
       "      <td>Yes</td>\n",
       "      <td>Mailed check</td>\n",
       "      <td>53.85</td>\n",
       "      <td>108.15</td>\n",
       "    </tr>\n",
       "    <tr>\n",
       "      <th>3</th>\n",
       "      <td>7795-CFOCW</td>\n",
       "      <td>2016-05-01</td>\n",
       "      <td>No</td>\n",
       "      <td>One year</td>\n",
       "      <td>No</td>\n",
       "      <td>Bank transfer (automatic)</td>\n",
       "      <td>42.30</td>\n",
       "      <td>1840.75</td>\n",
       "    </tr>\n",
       "    <tr>\n",
       "      <th>4</th>\n",
       "      <td>9237-HQITU</td>\n",
       "      <td>2019-09-01</td>\n",
       "      <td>2019-11-01 00:00:00</td>\n",
       "      <td>Month-to-month</td>\n",
       "      <td>Yes</td>\n",
       "      <td>Electronic check</td>\n",
       "      <td>70.70</td>\n",
       "      <td>151.65</td>\n",
       "    </tr>\n",
       "  </tbody>\n",
       "</table>\n",
       "</div>"
      ],
      "text/plain": [
       "   customerID   BeginDate              EndDate            Type  \\\n",
       "0  7590-VHVEG  2020-01-01                   No  Month-to-month   \n",
       "1  5575-GNVDE  2017-04-01                   No        One year   \n",
       "2  3668-QPYBK  2019-10-01  2019-12-01 00:00:00  Month-to-month   \n",
       "3  7795-CFOCW  2016-05-01                   No        One year   \n",
       "4  9237-HQITU  2019-09-01  2019-11-01 00:00:00  Month-to-month   \n",
       "\n",
       "  PaperlessBilling              PaymentMethod  MonthlyCharges TotalCharges  \n",
       "0              Yes           Electronic check           29.85        29.85  \n",
       "1               No               Mailed check           56.95       1889.5  \n",
       "2              Yes               Mailed check           53.85       108.15  \n",
       "3               No  Bank transfer (automatic)           42.30      1840.75  \n",
       "4              Yes           Electronic check           70.70       151.65  "
      ]
     },
     "execution_count": 3,
     "metadata": {},
     "output_type": "execute_result"
    }
   ],
   "source": [
    "contract.info()\n",
    "contract.head()"
   ]
  },
  {
   "cell_type": "markdown",
   "id": "cf5abbb8",
   "metadata": {},
   "source": [
    "O tipo das colunas `BeginDate` e `EndDate` serão transformados em datetime, `PaperlessBilling` e `PaymentMethod` em colunas do tipo categórica e `TotalCharges` para float"
   ]
  },
  {
   "cell_type": "code",
   "execution_count": 4,
   "id": "8dcb73d5",
   "metadata": {
    "scrolled": false
   },
   "outputs": [
    {
     "name": "stdout",
     "output_type": "stream",
     "text": [
      "<class 'pandas.core.frame.DataFrame'>\n",
      "RangeIndex: 5517 entries, 0 to 5516\n",
      "Data columns (total 8 columns):\n",
      " #   Column            Non-Null Count  Dtype \n",
      "---  ------            --------------  ----- \n",
      " 0   customerID        5517 non-null   object\n",
      " 1   InternetService   5517 non-null   object\n",
      " 2   OnlineSecurity    5517 non-null   object\n",
      " 3   OnlineBackup      5517 non-null   object\n",
      " 4   DeviceProtection  5517 non-null   object\n",
      " 5   TechSupport       5517 non-null   object\n",
      " 6   StreamingTV       5517 non-null   object\n",
      " 7   StreamingMovies   5517 non-null   object\n",
      "dtypes: object(8)\n",
      "memory usage: 344.9+ KB\n"
     ]
    },
    {
     "data": {
      "text/html": [
       "<div>\n",
       "<style scoped>\n",
       "    .dataframe tbody tr th:only-of-type {\n",
       "        vertical-align: middle;\n",
       "    }\n",
       "\n",
       "    .dataframe tbody tr th {\n",
       "        vertical-align: top;\n",
       "    }\n",
       "\n",
       "    .dataframe thead th {\n",
       "        text-align: right;\n",
       "    }\n",
       "</style>\n",
       "<table border=\"1\" class=\"dataframe\">\n",
       "  <thead>\n",
       "    <tr style=\"text-align: right;\">\n",
       "      <th></th>\n",
       "      <th>customerID</th>\n",
       "      <th>InternetService</th>\n",
       "      <th>OnlineSecurity</th>\n",
       "      <th>OnlineBackup</th>\n",
       "      <th>DeviceProtection</th>\n",
       "      <th>TechSupport</th>\n",
       "      <th>StreamingTV</th>\n",
       "      <th>StreamingMovies</th>\n",
       "    </tr>\n",
       "  </thead>\n",
       "  <tbody>\n",
       "    <tr>\n",
       "      <th>0</th>\n",
       "      <td>7590-VHVEG</td>\n",
       "      <td>DSL</td>\n",
       "      <td>No</td>\n",
       "      <td>Yes</td>\n",
       "      <td>No</td>\n",
       "      <td>No</td>\n",
       "      <td>No</td>\n",
       "      <td>No</td>\n",
       "    </tr>\n",
       "    <tr>\n",
       "      <th>1</th>\n",
       "      <td>5575-GNVDE</td>\n",
       "      <td>DSL</td>\n",
       "      <td>Yes</td>\n",
       "      <td>No</td>\n",
       "      <td>Yes</td>\n",
       "      <td>No</td>\n",
       "      <td>No</td>\n",
       "      <td>No</td>\n",
       "    </tr>\n",
       "    <tr>\n",
       "      <th>2</th>\n",
       "      <td>3668-QPYBK</td>\n",
       "      <td>DSL</td>\n",
       "      <td>Yes</td>\n",
       "      <td>Yes</td>\n",
       "      <td>No</td>\n",
       "      <td>No</td>\n",
       "      <td>No</td>\n",
       "      <td>No</td>\n",
       "    </tr>\n",
       "    <tr>\n",
       "      <th>3</th>\n",
       "      <td>7795-CFOCW</td>\n",
       "      <td>DSL</td>\n",
       "      <td>Yes</td>\n",
       "      <td>No</td>\n",
       "      <td>Yes</td>\n",
       "      <td>Yes</td>\n",
       "      <td>No</td>\n",
       "      <td>No</td>\n",
       "    </tr>\n",
       "    <tr>\n",
       "      <th>4</th>\n",
       "      <td>9237-HQITU</td>\n",
       "      <td>Fiber optic</td>\n",
       "      <td>No</td>\n",
       "      <td>No</td>\n",
       "      <td>No</td>\n",
       "      <td>No</td>\n",
       "      <td>No</td>\n",
       "      <td>No</td>\n",
       "    </tr>\n",
       "  </tbody>\n",
       "</table>\n",
       "</div>"
      ],
      "text/plain": [
       "   customerID InternetService OnlineSecurity OnlineBackup DeviceProtection  \\\n",
       "0  7590-VHVEG             DSL             No          Yes               No   \n",
       "1  5575-GNVDE             DSL            Yes           No              Yes   \n",
       "2  3668-QPYBK             DSL            Yes          Yes               No   \n",
       "3  7795-CFOCW             DSL            Yes           No              Yes   \n",
       "4  9237-HQITU     Fiber optic             No           No               No   \n",
       "\n",
       "  TechSupport StreamingTV StreamingMovies  \n",
       "0          No          No              No  \n",
       "1          No          No              No  \n",
       "2          No          No              No  \n",
       "3         Yes          No              No  \n",
       "4          No          No              No  "
      ]
     },
     "execution_count": 4,
     "metadata": {},
     "output_type": "execute_result"
    }
   ],
   "source": [
    "internet.info()\n",
    "internet.head()"
   ]
  },
  {
   "cell_type": "markdown",
   "id": "56ec3d2f",
   "metadata": {},
   "source": [
    "Todas as colunas, exceto por `CustomerID`, serão mudadas para o tipo categórico"
   ]
  },
  {
   "cell_type": "code",
   "execution_count": 5,
   "id": "c15ecd0c",
   "metadata": {
    "scrolled": true
   },
   "outputs": [
    {
     "name": "stdout",
     "output_type": "stream",
     "text": [
      "<class 'pandas.core.frame.DataFrame'>\n",
      "RangeIndex: 7043 entries, 0 to 7042\n",
      "Data columns (total 5 columns):\n",
      " #   Column         Non-Null Count  Dtype \n",
      "---  ------         --------------  ----- \n",
      " 0   customerID     7043 non-null   object\n",
      " 1   gender         7043 non-null   object\n",
      " 2   SeniorCitizen  7043 non-null   int64 \n",
      " 3   Partner        7043 non-null   object\n",
      " 4   Dependents     7043 non-null   object\n",
      "dtypes: int64(1), object(4)\n",
      "memory usage: 275.2+ KB\n"
     ]
    },
    {
     "data": {
      "text/html": [
       "<div>\n",
       "<style scoped>\n",
       "    .dataframe tbody tr th:only-of-type {\n",
       "        vertical-align: middle;\n",
       "    }\n",
       "\n",
       "    .dataframe tbody tr th {\n",
       "        vertical-align: top;\n",
       "    }\n",
       "\n",
       "    .dataframe thead th {\n",
       "        text-align: right;\n",
       "    }\n",
       "</style>\n",
       "<table border=\"1\" class=\"dataframe\">\n",
       "  <thead>\n",
       "    <tr style=\"text-align: right;\">\n",
       "      <th></th>\n",
       "      <th>customerID</th>\n",
       "      <th>gender</th>\n",
       "      <th>SeniorCitizen</th>\n",
       "      <th>Partner</th>\n",
       "      <th>Dependents</th>\n",
       "    </tr>\n",
       "  </thead>\n",
       "  <tbody>\n",
       "    <tr>\n",
       "      <th>0</th>\n",
       "      <td>7590-VHVEG</td>\n",
       "      <td>Female</td>\n",
       "      <td>0</td>\n",
       "      <td>Yes</td>\n",
       "      <td>No</td>\n",
       "    </tr>\n",
       "    <tr>\n",
       "      <th>1</th>\n",
       "      <td>5575-GNVDE</td>\n",
       "      <td>Male</td>\n",
       "      <td>0</td>\n",
       "      <td>No</td>\n",
       "      <td>No</td>\n",
       "    </tr>\n",
       "    <tr>\n",
       "      <th>2</th>\n",
       "      <td>3668-QPYBK</td>\n",
       "      <td>Male</td>\n",
       "      <td>0</td>\n",
       "      <td>No</td>\n",
       "      <td>No</td>\n",
       "    </tr>\n",
       "    <tr>\n",
       "      <th>3</th>\n",
       "      <td>7795-CFOCW</td>\n",
       "      <td>Male</td>\n",
       "      <td>0</td>\n",
       "      <td>No</td>\n",
       "      <td>No</td>\n",
       "    </tr>\n",
       "    <tr>\n",
       "      <th>4</th>\n",
       "      <td>9237-HQITU</td>\n",
       "      <td>Female</td>\n",
       "      <td>0</td>\n",
       "      <td>No</td>\n",
       "      <td>No</td>\n",
       "    </tr>\n",
       "  </tbody>\n",
       "</table>\n",
       "</div>"
      ],
      "text/plain": [
       "   customerID  gender  SeniorCitizen Partner Dependents\n",
       "0  7590-VHVEG  Female              0     Yes         No\n",
       "1  5575-GNVDE    Male              0      No         No\n",
       "2  3668-QPYBK    Male              0      No         No\n",
       "3  7795-CFOCW    Male              0      No         No\n",
       "4  9237-HQITU  Female              0      No         No"
      ]
     },
     "execution_count": 5,
     "metadata": {},
     "output_type": "execute_result"
    }
   ],
   "source": [
    "personal.info()\n",
    "personal.head()"
   ]
  },
  {
   "cell_type": "markdown",
   "id": "71dbc02d",
   "metadata": {},
   "source": [
    "Novamente, todas mudarão para o tipo categórico exceto por `CustomerID`"
   ]
  },
  {
   "cell_type": "code",
   "execution_count": 6,
   "id": "793f3461",
   "metadata": {},
   "outputs": [
    {
     "name": "stdout",
     "output_type": "stream",
     "text": [
      "<class 'pandas.core.frame.DataFrame'>\n",
      "RangeIndex: 6361 entries, 0 to 6360\n",
      "Data columns (total 2 columns):\n",
      " #   Column         Non-Null Count  Dtype \n",
      "---  ------         --------------  ----- \n",
      " 0   customerID     6361 non-null   object\n",
      " 1   MultipleLines  6361 non-null   object\n",
      "dtypes: object(2)\n",
      "memory usage: 99.5+ KB\n"
     ]
    },
    {
     "data": {
      "text/html": [
       "<div>\n",
       "<style scoped>\n",
       "    .dataframe tbody tr th:only-of-type {\n",
       "        vertical-align: middle;\n",
       "    }\n",
       "\n",
       "    .dataframe tbody tr th {\n",
       "        vertical-align: top;\n",
       "    }\n",
       "\n",
       "    .dataframe thead th {\n",
       "        text-align: right;\n",
       "    }\n",
       "</style>\n",
       "<table border=\"1\" class=\"dataframe\">\n",
       "  <thead>\n",
       "    <tr style=\"text-align: right;\">\n",
       "      <th></th>\n",
       "      <th>customerID</th>\n",
       "      <th>MultipleLines</th>\n",
       "    </tr>\n",
       "  </thead>\n",
       "  <tbody>\n",
       "    <tr>\n",
       "      <th>0</th>\n",
       "      <td>5575-GNVDE</td>\n",
       "      <td>No</td>\n",
       "    </tr>\n",
       "    <tr>\n",
       "      <th>1</th>\n",
       "      <td>3668-QPYBK</td>\n",
       "      <td>No</td>\n",
       "    </tr>\n",
       "    <tr>\n",
       "      <th>2</th>\n",
       "      <td>9237-HQITU</td>\n",
       "      <td>No</td>\n",
       "    </tr>\n",
       "    <tr>\n",
       "      <th>3</th>\n",
       "      <td>9305-CDSKC</td>\n",
       "      <td>Yes</td>\n",
       "    </tr>\n",
       "    <tr>\n",
       "      <th>4</th>\n",
       "      <td>1452-KIOVK</td>\n",
       "      <td>Yes</td>\n",
       "    </tr>\n",
       "  </tbody>\n",
       "</table>\n",
       "</div>"
      ],
      "text/plain": [
       "   customerID MultipleLines\n",
       "0  5575-GNVDE            No\n",
       "1  3668-QPYBK            No\n",
       "2  9237-HQITU            No\n",
       "3  9305-CDSKC           Yes\n",
       "4  1452-KIOVK           Yes"
      ]
     },
     "execution_count": 6,
     "metadata": {},
     "output_type": "execute_result"
    }
   ],
   "source": [
    "phone.info()\n",
    "phone.head()"
   ]
  },
  {
   "cell_type": "markdown",
   "id": "c3187e2b",
   "metadata": {},
   "source": [
    "A coluna `MultipleLines` mudará para categórica"
   ]
  },
  {
   "cell_type": "markdown",
   "id": "e2d792c0",
   "metadata": {},
   "source": [
    "Observado as tabelas, notamos a necessidade de processamento dos dados para uma análise mais detalhada. Como todas as tabelas possuem `customerID`, faremos um `merge` que resultará em valores ausentes devido à diferença de linhas. Após o tratamento dos mesmos, iniciaremos a análise exploratória com a verificação do desbalanceamento de classe e uma análise da correlação para tirar melhores conclusões."
   ]
  },
  {
   "cell_type": "markdown",
   "id": "2c5ec3c8",
   "metadata": {},
   "source": [
    "## Pré-processamento de Dados <a name='2'></a>"
   ]
  },
  {
   "cell_type": "markdown",
   "id": "04a9d614",
   "metadata": {},
   "source": [
    "### Contract"
   ]
  },
  {
   "cell_type": "markdown",
   "id": "9e31553c",
   "metadata": {},
   "source": [
    "Iniciarei com os dados de `contract` mudando os pontos citados anteriormente e extrairei da coluna `EndDate` a informação de churn, sendo 0 como um cliente que permanace com o serviço e 1 como não. Essa coluna será usada para treinar o modelo, ou seja, será o target."
   ]
  },
  {
   "cell_type": "code",
   "execution_count": 7,
   "id": "39d9c8b7",
   "metadata": {},
   "outputs": [],
   "source": [
    "contract['PaperlessBilling'] = contract['PaperlessBilling'].astype('category')\n",
    "contract['PaymentMethod'] = contract['PaymentMethod'].astype('category')\n",
    "contract['Type'] = contract['Type'].astype('category')\n",
    "contract['TotalCharges'] = pd.to_numeric(contract['TotalCharges'], errors='coerce')\n",
    "contract['Churn'] = (contract['EndDate'] != 'No').astype('int')"
   ]
  },
  {
   "cell_type": "markdown",
   "id": "400f9dc5",
   "metadata": {},
   "source": [
    "Agora iremos substituir `No` da coluna `EndDate` com a data atual que é 21 de fevereiro de 2020 e mudar o formato de data das duas colunas."
   ]
  },
  {
   "cell_type": "code",
   "execution_count": 8,
   "id": "3394c662",
   "metadata": {
    "scrolled": false
   },
   "outputs": [
    {
     "name": "stdout",
     "output_type": "stream",
     "text": [
      "<class 'pandas.core.frame.DataFrame'>\n",
      "RangeIndex: 7043 entries, 0 to 7042\n",
      "Data columns (total 9 columns):\n",
      " #   Column            Non-Null Count  Dtype         \n",
      "---  ------            --------------  -----         \n",
      " 0   customerID        7043 non-null   object        \n",
      " 1   BeginDate         7043 non-null   datetime64[ns]\n",
      " 2   EndDate           7043 non-null   datetime64[ns]\n",
      " 3   Type              7043 non-null   category      \n",
      " 4   PaperlessBilling  7043 non-null   category      \n",
      " 5   PaymentMethod     7043 non-null   category      \n",
      " 6   MonthlyCharges    7043 non-null   float64       \n",
      " 7   TotalCharges      7032 non-null   float64       \n",
      " 8   Churn             7043 non-null   int32         \n",
      "dtypes: category(3), datetime64[ns](2), float64(2), int32(1), object(1)\n",
      "memory usage: 323.8+ KB\n"
     ]
    },
    {
     "data": {
      "text/html": [
       "<div>\n",
       "<style scoped>\n",
       "    .dataframe tbody tr th:only-of-type {\n",
       "        vertical-align: middle;\n",
       "    }\n",
       "\n",
       "    .dataframe tbody tr th {\n",
       "        vertical-align: top;\n",
       "    }\n",
       "\n",
       "    .dataframe thead th {\n",
       "        text-align: right;\n",
       "    }\n",
       "</style>\n",
       "<table border=\"1\" class=\"dataframe\">\n",
       "  <thead>\n",
       "    <tr style=\"text-align: right;\">\n",
       "      <th></th>\n",
       "      <th>customerID</th>\n",
       "      <th>BeginDate</th>\n",
       "      <th>EndDate</th>\n",
       "      <th>Type</th>\n",
       "      <th>PaperlessBilling</th>\n",
       "      <th>PaymentMethod</th>\n",
       "      <th>MonthlyCharges</th>\n",
       "      <th>TotalCharges</th>\n",
       "      <th>Churn</th>\n",
       "    </tr>\n",
       "  </thead>\n",
       "  <tbody>\n",
       "    <tr>\n",
       "      <th>0</th>\n",
       "      <td>7590-VHVEG</td>\n",
       "      <td>2020-01-01</td>\n",
       "      <td>2020-02-21</td>\n",
       "      <td>Month-to-month</td>\n",
       "      <td>Yes</td>\n",
       "      <td>Electronic check</td>\n",
       "      <td>29.85</td>\n",
       "      <td>29.85</td>\n",
       "      <td>0</td>\n",
       "    </tr>\n",
       "    <tr>\n",
       "      <th>1</th>\n",
       "      <td>5575-GNVDE</td>\n",
       "      <td>2017-04-01</td>\n",
       "      <td>2020-02-21</td>\n",
       "      <td>One year</td>\n",
       "      <td>No</td>\n",
       "      <td>Mailed check</td>\n",
       "      <td>56.95</td>\n",
       "      <td>1889.50</td>\n",
       "      <td>0</td>\n",
       "    </tr>\n",
       "    <tr>\n",
       "      <th>2</th>\n",
       "      <td>3668-QPYBK</td>\n",
       "      <td>2019-10-01</td>\n",
       "      <td>2019-12-01</td>\n",
       "      <td>Month-to-month</td>\n",
       "      <td>Yes</td>\n",
       "      <td>Mailed check</td>\n",
       "      <td>53.85</td>\n",
       "      <td>108.15</td>\n",
       "      <td>1</td>\n",
       "    </tr>\n",
       "    <tr>\n",
       "      <th>3</th>\n",
       "      <td>7795-CFOCW</td>\n",
       "      <td>2016-05-01</td>\n",
       "      <td>2020-02-21</td>\n",
       "      <td>One year</td>\n",
       "      <td>No</td>\n",
       "      <td>Bank transfer (automatic)</td>\n",
       "      <td>42.30</td>\n",
       "      <td>1840.75</td>\n",
       "      <td>0</td>\n",
       "    </tr>\n",
       "    <tr>\n",
       "      <th>4</th>\n",
       "      <td>9237-HQITU</td>\n",
       "      <td>2019-09-01</td>\n",
       "      <td>2019-11-01</td>\n",
       "      <td>Month-to-month</td>\n",
       "      <td>Yes</td>\n",
       "      <td>Electronic check</td>\n",
       "      <td>70.70</td>\n",
       "      <td>151.65</td>\n",
       "      <td>1</td>\n",
       "    </tr>\n",
       "  </tbody>\n",
       "</table>\n",
       "</div>"
      ],
      "text/plain": [
       "   customerID  BeginDate    EndDate            Type PaperlessBilling  \\\n",
       "0  7590-VHVEG 2020-01-01 2020-02-21  Month-to-month              Yes   \n",
       "1  5575-GNVDE 2017-04-01 2020-02-21        One year               No   \n",
       "2  3668-QPYBK 2019-10-01 2019-12-01  Month-to-month              Yes   \n",
       "3  7795-CFOCW 2016-05-01 2020-02-21        One year               No   \n",
       "4  9237-HQITU 2019-09-01 2019-11-01  Month-to-month              Yes   \n",
       "\n",
       "               PaymentMethod  MonthlyCharges  TotalCharges  Churn  \n",
       "0           Electronic check           29.85         29.85      0  \n",
       "1               Mailed check           56.95       1889.50      0  \n",
       "2               Mailed check           53.85        108.15      1  \n",
       "3  Bank transfer (automatic)           42.30       1840.75      0  \n",
       "4           Electronic check           70.70        151.65      1  "
      ]
     },
     "execution_count": 8,
     "metadata": {},
     "output_type": "execute_result"
    }
   ],
   "source": [
    "contract['BeginDate'] = pd.to_datetime(contract['BeginDate'], format='%Y-%m-%d')\n",
    "contract['EndDate'] = contract['EndDate'].replace('No', '2020-02-21 00:00:00')\n",
    "contract['EndDate'] = pd.to_datetime(contract['EndDate'], format='%Y-%m-%d %H:%M:%S', errors='raise')\n",
    "contract.info()\n",
    "contract.head()"
   ]
  },
  {
   "cell_type": "code",
   "execution_count": 9,
   "id": "be1cdcad",
   "metadata": {},
   "outputs": [
    {
     "data": {
      "text/plain": [
       "0"
      ]
     },
     "execution_count": 9,
     "metadata": {},
     "output_type": "execute_result"
    }
   ],
   "source": [
    "contract[contract['EndDate'] == 'No']['EndDate'].count()"
   ]
  },
  {
   "cell_type": "markdown",
   "id": "8741ef19",
   "metadata": {},
   "source": [
    "Confirmamos que a substituição foi feita corretamente"
   ]
  },
  {
   "cell_type": "markdown",
   "id": "44fa8899",
   "metadata": {},
   "source": [
    "Para obter insights melhores sobre o comportamento dos clientes, será criada uma coluna com os dias ativos de contrato do cliente. A coluna `Day` será o resultado da diferença da data atual e do início do contrato."
   ]
  },
  {
   "cell_type": "code",
   "execution_count": 10,
   "id": "6d07dd9b",
   "metadata": {
    "scrolled": true
   },
   "outputs": [],
   "source": [
    "contract['Days'] = (contract['EndDate'] - contract['BeginDate']).dt.days"
   ]
  },
  {
   "cell_type": "markdown",
   "id": "a6ee5794",
   "metadata": {},
   "source": [
    "Com as informações necessárias para análise, podemos excluir as colunas com as datas do contrato."
   ]
  },
  {
   "cell_type": "code",
   "execution_count": 11,
   "id": "8e7e9c8c",
   "metadata": {},
   "outputs": [
    {
     "name": "stdout",
     "output_type": "stream",
     "text": [
      "<class 'pandas.core.frame.DataFrame'>\n",
      "RangeIndex: 7043 entries, 0 to 7042\n",
      "Data columns (total 10 columns):\n",
      " #   Column            Non-Null Count  Dtype         \n",
      "---  ------            --------------  -----         \n",
      " 0   customerID        7043 non-null   object        \n",
      " 1   BeginDate         7043 non-null   datetime64[ns]\n",
      " 2   EndDate           7043 non-null   datetime64[ns]\n",
      " 3   Type              7043 non-null   category      \n",
      " 4   PaperlessBilling  7043 non-null   category      \n",
      " 5   PaymentMethod     7043 non-null   category      \n",
      " 6   MonthlyCharges    7043 non-null   float64       \n",
      " 7   TotalCharges      7032 non-null   float64       \n",
      " 8   Churn             7043 non-null   int32         \n",
      " 9   Days              7043 non-null   int64         \n",
      "dtypes: category(3), datetime64[ns](2), float64(2), int32(1), int64(1), object(1)\n",
      "memory usage: 378.9+ KB\n"
     ]
    }
   ],
   "source": [
    "contract_final = contract.drop(['BeginDate', 'EndDate'], axis=1)\n",
    "contract.info()"
   ]
  },
  {
   "cell_type": "markdown",
   "id": "1e6ec062",
   "metadata": {},
   "source": [
    "Agora só resta excluir os valores ausentes causados pela conversão."
   ]
  },
  {
   "cell_type": "code",
   "execution_count": 12,
   "id": "90f102fe",
   "metadata": {},
   "outputs": [
    {
     "name": "stdout",
     "output_type": "stream",
     "text": [
      "<class 'pandas.core.frame.DataFrame'>\n",
      "Int64Index: 7032 entries, 0 to 7042\n",
      "Data columns (total 8 columns):\n",
      " #   Column            Non-Null Count  Dtype   \n",
      "---  ------            --------------  -----   \n",
      " 0   customerID        7032 non-null   object  \n",
      " 1   Type              7032 non-null   category\n",
      " 2   PaperlessBilling  7032 non-null   category\n",
      " 3   PaymentMethod     7032 non-null   category\n",
      " 4   MonthlyCharges    7032 non-null   float64 \n",
      " 5   TotalCharges      7032 non-null   float64 \n",
      " 6   Churn             7032 non-null   int32   \n",
      " 7   Days              7032 non-null   int64   \n",
      "dtypes: category(3), float64(2), int32(1), int64(1), object(1)\n",
      "memory usage: 323.2+ KB\n"
     ]
    }
   ],
   "source": [
    "contract_final.dropna(inplace=True)\n",
    "contract_final.info()"
   ]
  },
  {
   "cell_type": "markdown",
   "id": "5d73210f",
   "metadata": {},
   "source": [
    "### Personal"
   ]
  },
  {
   "cell_type": "markdown",
   "id": "201e89bd",
   "metadata": {},
   "source": [
    "Novamente o mesmo processo"
   ]
  },
  {
   "cell_type": "code",
   "execution_count": 13,
   "id": "e1393863",
   "metadata": {
    "scrolled": true
   },
   "outputs": [
    {
     "name": "stdout",
     "output_type": "stream",
     "text": [
      "<class 'pandas.core.frame.DataFrame'>\n",
      "RangeIndex: 7043 entries, 0 to 7042\n",
      "Data columns (total 5 columns):\n",
      " #   Column         Non-Null Count  Dtype   \n",
      "---  ------         --------------  -----   \n",
      " 0   customerID     7043 non-null   object  \n",
      " 1   gender         7043 non-null   category\n",
      " 2   SeniorCitizen  7043 non-null   category\n",
      " 3   Partner        7043 non-null   category\n",
      " 4   Dependents     7043 non-null   category\n",
      "dtypes: category(4), object(1)\n",
      "memory usage: 83.1+ KB\n"
     ]
    }
   ],
   "source": [
    "personal['gender'] = personal['gender'].astype('category')\n",
    "personal['SeniorCitizen'] = personal['SeniorCitizen'].astype('category')  \n",
    "personal['Partner'] = personal['Partner'].astype('category')\n",
    "personal['Dependents'] = personal['Dependents'].astype('category')\n",
    "personal.info()"
   ]
  },
  {
   "cell_type": "markdown",
   "id": "0907b76e",
   "metadata": {},
   "source": [
    "## Mesclando Tabelas"
   ]
  },
  {
   "cell_type": "code",
   "execution_count": 14,
   "id": "3f2f5875",
   "metadata": {
    "scrolled": true
   },
   "outputs": [
    {
     "name": "stdout",
     "output_type": "stream",
     "text": [
      "<class 'pandas.core.frame.DataFrame'>\n",
      "Int64Index: 7043 entries, 0 to 7042\n",
      "Data columns (total 12 columns):\n",
      " #   Column            Non-Null Count  Dtype   \n",
      "---  ------            --------------  -----   \n",
      " 0   customerID        7043 non-null   object  \n",
      " 1   gender            7043 non-null   category\n",
      " 2   SeniorCitizen     7043 non-null   category\n",
      " 3   Partner           7043 non-null   category\n",
      " 4   Dependents        7043 non-null   category\n",
      " 5   Type              7032 non-null   category\n",
      " 6   PaperlessBilling  7032 non-null   category\n",
      " 7   PaymentMethod     7032 non-null   category\n",
      " 8   MonthlyCharges    7032 non-null   float64 \n",
      " 9   TotalCharges      7032 non-null   float64 \n",
      " 10  Churn             7032 non-null   float64 \n",
      " 11  Days              7032 non-null   float64 \n",
      "dtypes: category(7), float64(4), object(1)\n",
      "memory usage: 379.2+ KB\n"
     ]
    }
   ],
   "source": [
    "merge_1 = pd.merge(personal, contract_final, how='left', on='customerID')\n",
    "merge_1.info()"
   ]
  },
  {
   "cell_type": "markdown",
   "id": "ddacec4b",
   "metadata": {},
   "source": [
    "Tratando os valores ausentes causados pela diferença de linhas nos dataframes"
   ]
  },
  {
   "cell_type": "code",
   "execution_count": 15,
   "id": "1e8c8adb",
   "metadata": {},
   "outputs": [
    {
     "name": "stdout",
     "output_type": "stream",
     "text": [
      "<class 'pandas.core.frame.DataFrame'>\n",
      "Int64Index: 7032 entries, 0 to 7042\n",
      "Data columns (total 12 columns):\n",
      " #   Column            Non-Null Count  Dtype   \n",
      "---  ------            --------------  -----   \n",
      " 0   customerID        7032 non-null   object  \n",
      " 1   gender            7032 non-null   category\n",
      " 2   SeniorCitizen     7032 non-null   category\n",
      " 3   Partner           7032 non-null   category\n",
      " 4   Dependents        7032 non-null   category\n",
      " 5   Type              7032 non-null   category\n",
      " 6   PaperlessBilling  7032 non-null   category\n",
      " 7   PaymentMethod     7032 non-null   category\n",
      " 8   MonthlyCharges    7032 non-null   float64 \n",
      " 9   TotalCharges      7032 non-null   float64 \n",
      " 10  Churn             7032 non-null   float64 \n",
      " 11  Days              7032 non-null   float64 \n",
      "dtypes: category(7), float64(4), object(1)\n",
      "memory usage: 378.6+ KB\n"
     ]
    }
   ],
   "source": [
    "merge_1.dropna(inplace=True)\n",
    "merge_1.info()"
   ]
  },
  {
   "cell_type": "code",
   "execution_count": 16,
   "id": "1d9e7fe3",
   "metadata": {},
   "outputs": [
    {
     "name": "stdout",
     "output_type": "stream",
     "text": [
      "<class 'pandas.core.frame.DataFrame'>\n",
      "Int64Index: 7032 entries, 0 to 7031\n",
      "Data columns (total 13 columns):\n",
      " #   Column            Non-Null Count  Dtype   \n",
      "---  ------            --------------  -----   \n",
      " 0   customerID        7032 non-null   object  \n",
      " 1   gender            7032 non-null   category\n",
      " 2   SeniorCitizen     7032 non-null   category\n",
      " 3   Partner           7032 non-null   category\n",
      " 4   Dependents        7032 non-null   category\n",
      " 5   Type              7032 non-null   category\n",
      " 6   PaperlessBilling  7032 non-null   category\n",
      " 7   PaymentMethod     7032 non-null   category\n",
      " 8   MonthlyCharges    7032 non-null   float64 \n",
      " 9   TotalCharges      7032 non-null   float64 \n",
      " 10  Churn             7032 non-null   float64 \n",
      " 11  Days              7032 non-null   float64 \n",
      " 12  MultipleLines     6352 non-null   object  \n",
      "dtypes: category(7), float64(4), object(2)\n",
      "memory usage: 433.6+ KB\n"
     ]
    }
   ],
   "source": [
    "merge_2 = pd.merge(merge_1, phone, how='left', on='customerID')\n",
    "merge_2.info()"
   ]
  },
  {
   "cell_type": "code",
   "execution_count": 17,
   "id": "bd3b7081",
   "metadata": {
    "scrolled": false
   },
   "outputs": [
    {
     "name": "stdout",
     "output_type": "stream",
     "text": [
      "<class 'pandas.core.frame.DataFrame'>\n",
      "Int64Index: 7032 entries, 0 to 7031\n",
      "Data columns (total 20 columns):\n",
      " #   Column            Non-Null Count  Dtype   \n",
      "---  ------            --------------  -----   \n",
      " 0   customerID        7032 non-null   object  \n",
      " 1   gender            7032 non-null   category\n",
      " 2   SeniorCitizen     7032 non-null   category\n",
      " 3   Partner           7032 non-null   category\n",
      " 4   Dependents        7032 non-null   category\n",
      " 5   Type              7032 non-null   category\n",
      " 6   PaperlessBilling  7032 non-null   category\n",
      " 7   PaymentMethod     7032 non-null   category\n",
      " 8   MonthlyCharges    7032 non-null   float64 \n",
      " 9   TotalCharges      7032 non-null   float64 \n",
      " 10  Churn             7032 non-null   float64 \n",
      " 11  Days              7032 non-null   float64 \n",
      " 12  MultipleLines     6352 non-null   object  \n",
      " 13  InternetService   5512 non-null   object  \n",
      " 14  OnlineSecurity    5512 non-null   object  \n",
      " 15  OnlineBackup      5512 non-null   object  \n",
      " 16  DeviceProtection  5512 non-null   object  \n",
      " 17  TechSupport       5512 non-null   object  \n",
      " 18  StreamingTV       5512 non-null   object  \n",
      " 19  StreamingMovies   5512 non-null   object  \n",
      "dtypes: category(7), float64(4), object(9)\n",
      "memory usage: 818.1+ KB\n"
     ]
    }
   ],
   "source": [
    "data_final = pd.merge(merge_2, internet, how='left', on='customerID')\n",
    "data_final.info()"
   ]
  },
  {
   "cell_type": "code",
   "execution_count": 18,
   "id": "78cfd4ce",
   "metadata": {},
   "outputs": [],
   "source": [
    "data_final['Churn'] = data_final['Churn'].astype('int')"
   ]
  },
  {
   "cell_type": "markdown",
   "id": "e8c1c84b",
   "metadata": {},
   "source": [
    "Podemos agora proceder à substituição desses valores ausentes. Visto que os usuários que possuem lacunas em suas linhas não são assinantes dos serviços relacionados a essas colunas, é possível substituir os valores ausentes por `No`."
   ]
  },
  {
   "cell_type": "code",
   "execution_count": 19,
   "id": "0b514679",
   "metadata": {
    "scrolled": false
   },
   "outputs": [
    {
     "name": "stdout",
     "output_type": "stream",
     "text": [
      "<class 'pandas.core.frame.DataFrame'>\n",
      "Int64Index: 7032 entries, 0 to 7031\n",
      "Data columns (total 20 columns):\n",
      " #   Column            Non-Null Count  Dtype   \n",
      "---  ------            --------------  -----   \n",
      " 0   customerID        7032 non-null   object  \n",
      " 1   gender            7032 non-null   category\n",
      " 2   SeniorCitizen     7032 non-null   category\n",
      " 3   Partner           7032 non-null   category\n",
      " 4   Dependents        7032 non-null   category\n",
      " 5   Type              7032 non-null   category\n",
      " 6   PaperlessBilling  7032 non-null   category\n",
      " 7   PaymentMethod     7032 non-null   category\n",
      " 8   MonthlyCharges    7032 non-null   float64 \n",
      " 9   TotalCharges      7032 non-null   float64 \n",
      " 10  Churn             7032 non-null   int32   \n",
      " 11  Days              7032 non-null   float64 \n",
      " 12  MultipleLines     7032 non-null   object  \n",
      " 13  InternetService   7032 non-null   object  \n",
      " 14  OnlineSecurity    7032 non-null   object  \n",
      " 15  OnlineBackup      7032 non-null   object  \n",
      " 16  DeviceProtection  7032 non-null   object  \n",
      " 17  TechSupport       7032 non-null   object  \n",
      " 18  StreamingTV       7032 non-null   object  \n",
      " 19  StreamingMovies   7032 non-null   object  \n",
      "dtypes: category(7), float64(3), int32(1), object(9)\n",
      "memory usage: 790.7+ KB\n"
     ]
    }
   ],
   "source": [
    "na_cols = data_final.columns[data_final.dtypes == 'object']\n",
    "data_final[na_cols] = data_final[na_cols].fillna('No')\n",
    "\n",
    "data_final.info()"
   ]
  },
  {
   "cell_type": "markdown",
   "id": "4eda879c",
   "metadata": {},
   "source": [
    "Convertendo as colunas no tipo categórico"
   ]
  },
  {
   "cell_type": "code",
   "execution_count": 20,
   "id": "e3206eb0",
   "metadata": {},
   "outputs": [
    {
     "name": "stdout",
     "output_type": "stream",
     "text": [
      "<class 'pandas.core.frame.DataFrame'>\n",
      "Int64Index: 7032 entries, 0 to 7031\n",
      "Data columns (total 20 columns):\n",
      " #   Column            Non-Null Count  Dtype   \n",
      "---  ------            --------------  -----   \n",
      " 0   customerID        7032 non-null   object  \n",
      " 1   gender            7032 non-null   category\n",
      " 2   SeniorCitizen     7032 non-null   category\n",
      " 3   Partner           7032 non-null   category\n",
      " 4   Dependents        7032 non-null   category\n",
      " 5   Type              7032 non-null   category\n",
      " 6   PaperlessBilling  7032 non-null   category\n",
      " 7   PaymentMethod     7032 non-null   category\n",
      " 8   MonthlyCharges    7032 non-null   float64 \n",
      " 9   TotalCharges      7032 non-null   float64 \n",
      " 10  Churn             7032 non-null   int32   \n",
      " 11  Days              7032 non-null   float64 \n",
      " 12  MultipleLines     7032 non-null   category\n",
      " 13  InternetService   7032 non-null   category\n",
      " 14  OnlineSecurity    7032 non-null   category\n",
      " 15  OnlineBackup      7032 non-null   category\n",
      " 16  DeviceProtection  7032 non-null   category\n",
      " 17  TechSupport       7032 non-null   category\n",
      " 18  StreamingTV       7032 non-null   category\n",
      " 19  StreamingMovies   7032 non-null   category\n",
      "dtypes: category(15), float64(3), int32(1), object(1)\n",
      "memory usage: 407.1+ KB\n"
     ]
    },
    {
     "data": {
      "text/html": [
       "<div>\n",
       "<style scoped>\n",
       "    .dataframe tbody tr th:only-of-type {\n",
       "        vertical-align: middle;\n",
       "    }\n",
       "\n",
       "    .dataframe tbody tr th {\n",
       "        vertical-align: top;\n",
       "    }\n",
       "\n",
       "    .dataframe thead th {\n",
       "        text-align: right;\n",
       "    }\n",
       "</style>\n",
       "<table border=\"1\" class=\"dataframe\">\n",
       "  <thead>\n",
       "    <tr style=\"text-align: right;\">\n",
       "      <th></th>\n",
       "      <th>customerID</th>\n",
       "      <th>gender</th>\n",
       "      <th>SeniorCitizen</th>\n",
       "      <th>Partner</th>\n",
       "      <th>Dependents</th>\n",
       "      <th>Type</th>\n",
       "      <th>PaperlessBilling</th>\n",
       "      <th>PaymentMethod</th>\n",
       "      <th>MonthlyCharges</th>\n",
       "      <th>TotalCharges</th>\n",
       "      <th>Churn</th>\n",
       "      <th>Days</th>\n",
       "      <th>MultipleLines</th>\n",
       "      <th>InternetService</th>\n",
       "      <th>OnlineSecurity</th>\n",
       "      <th>OnlineBackup</th>\n",
       "      <th>DeviceProtection</th>\n",
       "      <th>TechSupport</th>\n",
       "      <th>StreamingTV</th>\n",
       "      <th>StreamingMovies</th>\n",
       "    </tr>\n",
       "  </thead>\n",
       "  <tbody>\n",
       "    <tr>\n",
       "      <th>0</th>\n",
       "      <td>7590-VHVEG</td>\n",
       "      <td>Female</td>\n",
       "      <td>0</td>\n",
       "      <td>Yes</td>\n",
       "      <td>No</td>\n",
       "      <td>Month-to-month</td>\n",
       "      <td>Yes</td>\n",
       "      <td>Electronic check</td>\n",
       "      <td>29.85</td>\n",
       "      <td>29.85</td>\n",
       "      <td>0</td>\n",
       "      <td>51.0</td>\n",
       "      <td>No</td>\n",
       "      <td>DSL</td>\n",
       "      <td>No</td>\n",
       "      <td>Yes</td>\n",
       "      <td>No</td>\n",
       "      <td>No</td>\n",
       "      <td>No</td>\n",
       "      <td>No</td>\n",
       "    </tr>\n",
       "    <tr>\n",
       "      <th>1</th>\n",
       "      <td>5575-GNVDE</td>\n",
       "      <td>Male</td>\n",
       "      <td>0</td>\n",
       "      <td>No</td>\n",
       "      <td>No</td>\n",
       "      <td>One year</td>\n",
       "      <td>No</td>\n",
       "      <td>Mailed check</td>\n",
       "      <td>56.95</td>\n",
       "      <td>1889.50</td>\n",
       "      <td>0</td>\n",
       "      <td>1056.0</td>\n",
       "      <td>No</td>\n",
       "      <td>DSL</td>\n",
       "      <td>Yes</td>\n",
       "      <td>No</td>\n",
       "      <td>Yes</td>\n",
       "      <td>No</td>\n",
       "      <td>No</td>\n",
       "      <td>No</td>\n",
       "    </tr>\n",
       "    <tr>\n",
       "      <th>2</th>\n",
       "      <td>3668-QPYBK</td>\n",
       "      <td>Male</td>\n",
       "      <td>0</td>\n",
       "      <td>No</td>\n",
       "      <td>No</td>\n",
       "      <td>Month-to-month</td>\n",
       "      <td>Yes</td>\n",
       "      <td>Mailed check</td>\n",
       "      <td>53.85</td>\n",
       "      <td>108.15</td>\n",
       "      <td>1</td>\n",
       "      <td>61.0</td>\n",
       "      <td>No</td>\n",
       "      <td>DSL</td>\n",
       "      <td>Yes</td>\n",
       "      <td>Yes</td>\n",
       "      <td>No</td>\n",
       "      <td>No</td>\n",
       "      <td>No</td>\n",
       "      <td>No</td>\n",
       "    </tr>\n",
       "    <tr>\n",
       "      <th>3</th>\n",
       "      <td>7795-CFOCW</td>\n",
       "      <td>Male</td>\n",
       "      <td>0</td>\n",
       "      <td>No</td>\n",
       "      <td>No</td>\n",
       "      <td>One year</td>\n",
       "      <td>No</td>\n",
       "      <td>Bank transfer (automatic)</td>\n",
       "      <td>42.30</td>\n",
       "      <td>1840.75</td>\n",
       "      <td>0</td>\n",
       "      <td>1391.0</td>\n",
       "      <td>No</td>\n",
       "      <td>DSL</td>\n",
       "      <td>Yes</td>\n",
       "      <td>No</td>\n",
       "      <td>Yes</td>\n",
       "      <td>Yes</td>\n",
       "      <td>No</td>\n",
       "      <td>No</td>\n",
       "    </tr>\n",
       "    <tr>\n",
       "      <th>4</th>\n",
       "      <td>9237-HQITU</td>\n",
       "      <td>Female</td>\n",
       "      <td>0</td>\n",
       "      <td>No</td>\n",
       "      <td>No</td>\n",
       "      <td>Month-to-month</td>\n",
       "      <td>Yes</td>\n",
       "      <td>Electronic check</td>\n",
       "      <td>70.70</td>\n",
       "      <td>151.65</td>\n",
       "      <td>1</td>\n",
       "      <td>61.0</td>\n",
       "      <td>No</td>\n",
       "      <td>Fiber optic</td>\n",
       "      <td>No</td>\n",
       "      <td>No</td>\n",
       "      <td>No</td>\n",
       "      <td>No</td>\n",
       "      <td>No</td>\n",
       "      <td>No</td>\n",
       "    </tr>\n",
       "  </tbody>\n",
       "</table>\n",
       "</div>"
      ],
      "text/plain": [
       "   customerID  gender SeniorCitizen Partner Dependents            Type  \\\n",
       "0  7590-VHVEG  Female             0     Yes         No  Month-to-month   \n",
       "1  5575-GNVDE    Male             0      No         No        One year   \n",
       "2  3668-QPYBK    Male             0      No         No  Month-to-month   \n",
       "3  7795-CFOCW    Male             0      No         No        One year   \n",
       "4  9237-HQITU  Female             0      No         No  Month-to-month   \n",
       "\n",
       "  PaperlessBilling              PaymentMethod  MonthlyCharges  TotalCharges  \\\n",
       "0              Yes           Electronic check           29.85         29.85   \n",
       "1               No               Mailed check           56.95       1889.50   \n",
       "2              Yes               Mailed check           53.85        108.15   \n",
       "3               No  Bank transfer (automatic)           42.30       1840.75   \n",
       "4              Yes           Electronic check           70.70        151.65   \n",
       "\n",
       "   Churn    Days MultipleLines InternetService OnlineSecurity OnlineBackup  \\\n",
       "0      0    51.0            No             DSL             No          Yes   \n",
       "1      0  1056.0            No             DSL            Yes           No   \n",
       "2      1    61.0            No             DSL            Yes          Yes   \n",
       "3      0  1391.0            No             DSL            Yes           No   \n",
       "4      1    61.0            No     Fiber optic             No           No   \n",
       "\n",
       "  DeviceProtection TechSupport StreamingTV StreamingMovies  \n",
       "0               No          No          No              No  \n",
       "1              Yes          No          No              No  \n",
       "2               No          No          No              No  \n",
       "3              Yes         Yes          No              No  \n",
       "4               No          No          No              No  "
      ]
     },
     "execution_count": 20,
     "metadata": {},
     "output_type": "execute_result"
    }
   ],
   "source": [
    "data_final['InternetService'] = data_final['InternetService'].astype('category')\n",
    "data_final['OnlineSecurity'] = data_final['OnlineSecurity'].astype('category')\n",
    "data_final['OnlineBackup'] = data_final['OnlineBackup'].astype('category')\n",
    "data_final['DeviceProtection'] = data_final['DeviceProtection'].astype('category')\n",
    "data_final['TechSupport'] = data_final['TechSupport'].astype('category')\n",
    "data_final['StreamingTV'] = data_final['StreamingTV'].astype('category')\n",
    "data_final['StreamingMovies'] = data_final['StreamingMovies'].astype('category')\n",
    "data_final['MultipleLines'] = data_final['MultipleLines'].astype('category')\n",
    "\n",
    "data_final.info()\n",
    "data_final.head()"
   ]
  },
  {
   "cell_type": "markdown",
   "id": "eaf0d3f9",
   "metadata": {},
   "source": [
    "Com as informações processadas podemos seguir para a análise exploratória de dados"
   ]
  },
  {
   "cell_type": "markdown",
   "id": "986d1ed7",
   "metadata": {},
   "source": [
    "## Análise Exploratória de Dados <a name='3'></a>"
   ]
  },
  {
   "cell_type": "markdown",
   "id": "a91e5921",
   "metadata": {},
   "source": [
    "### Desbalancemanto de Classes"
   ]
  },
  {
   "cell_type": "markdown",
   "id": "12448cae",
   "metadata": {},
   "source": [
    "Começaremos analisando o desequilibrio das classes"
   ]
  },
  {
   "cell_type": "code",
   "execution_count": 21,
   "id": "3a3ceb9f",
   "metadata": {},
   "outputs": [
    {
     "data": {
      "text/plain": [
       "<AxesSubplot:>"
      ]
     },
     "execution_count": 21,
     "metadata": {},
     "output_type": "execute_result"
    },
    {
     "data": {
      "image/png": "[encoded data removed]",
      "text/plain": [
       "<Figure size 640x480 with 1 Axes>"
      ]
     },
     "metadata": {},
     "output_type": "display_data"
    }
   ],
   "source": [
    "data_final['Churn'].hist()"
   ]
  },
  {
   "cell_type": "markdown",
   "id": "798f8dbc",
   "metadata": {},
   "source": [
    "Observamos que um pouco mais de 5000 clientes ficaram e menos de 2000 saíram. Essa desproporcionalidade nos dados deverá ser tratada posteriormente para criar um modelo sem uma alta variância, overfitting."
   ]
  },
  {
   "cell_type": "markdown",
   "id": "34879901",
   "metadata": {},
   "source": [
    "### Relação Característica Churn"
   ]
  },
  {
   "cell_type": "markdown",
   "id": "9fa71cd0",
   "metadata": {},
   "source": [
    "Serão realizadas plotagens de gráficos para entender a relação das características sobre o churn"
   ]
  },
  {
   "cell_type": "code",
   "execution_count": 22,
   "id": "69ff4499",
   "metadata": {
    "scrolled": false
   },
   "outputs": [
    {
     "data": {
      "image/png": "[encoded data removed]",
      "text/plain": [
       "<Figure size 2000x2000 with 20 Axes>"
      ]
     },
     "metadata": {},
     "output_type": "display_data"
    }
   ],
   "source": [
    "fig, axs = plt.subplots(4, len(data_final.columns) // 4, figsize=(20,20))\n",
    "#cria uma imagem com 4 linhas de grade e colunas que são calculadas dividindo o número de colunas no \n",
    "#DataFrame pelo número desejado de subplots por linha, neste caso 4, com um tamanho de 20 por 20\n",
    "axs = axs.flatten() #transforma a matriz multidimensional em unidimensional para iterar mais facilmente\n",
    "\n",
    "cols = list(set(data_final.columns) - set(['customerID'])) \n",
    "#cria uma lista que contém todas as colunas exceto customerID\n",
    "\n",
    "for col, ax in zip(cols, axs):\n",
    "    if data_final[col].dtype=='float64':\n",
    "        data_final.boxplot(column=col, by='Churn', ax=ax)\n",
    "        plt.suptitle('')\n",
    "    else:\n",
    "        df = data_final.groupby([col, 'Churn'])['Churn'].count().unstack()\n",
    "        df.plot(kind='bar', stacked=False, ax=ax)\n",
    "        ax.legend(loc='upper right')\n",
    "\n",
    "plt.tight_layout()\n",
    "plt.show()"
   ]
  },
  {
   "cell_type": "markdown",
   "id": "8c742671",
   "metadata": {},
   "source": [
    "Pelos gráficos podemos tirar os seguintes insights sobre as pessoas que saíram:\n",
    "- Não tinham faturamento por papel e usavam como método de pagamento o cheque eletrônico\n",
    "- Eram associados mensais\n",
    "- Não eram cidadãos seniores\n",
    "- Não tinham multiplos serviços de assinatura de internet"
   ]
  },
  {
   "cell_type": "markdown",
   "id": "d6e9e4b1",
   "metadata": {},
   "source": [
    "As cargas mensais são em média 80 dólares com poucos dias de contrato baseado no boxplot `Days`, portanto, pode-se concluir que são usuários novos. Ao observar o gráfico `TotalCharges` vemos também que estes usuários faziam menos recargas no total, porém constatamos mais outliers comparado a `Days`"
   ]
  },
  {
   "cell_type": "markdown",
   "id": "1e677f34",
   "metadata": {},
   "source": [
    "### Matrix de Correlação"
   ]
  },
  {
   "cell_type": "code",
   "execution_count": 23,
   "id": "c74f9b72",
   "metadata": {
    "scrolled": true
   },
   "outputs": [
    {
     "data": {
      "text/html": [
       "<div>\n",
       "<style scoped>\n",
       "    .dataframe tbody tr th:only-of-type {\n",
       "        vertical-align: middle;\n",
       "    }\n",
       "\n",
       "    .dataframe tbody tr th {\n",
       "        vertical-align: top;\n",
       "    }\n",
       "\n",
       "    .dataframe thead th {\n",
       "        text-align: right;\n",
       "    }\n",
       "</style>\n",
       "<table border=\"1\" class=\"dataframe\">\n",
       "  <thead>\n",
       "    <tr style=\"text-align: right;\">\n",
       "      <th></th>\n",
       "      <th>MonthlyCharges</th>\n",
       "      <th>TotalCharges</th>\n",
       "      <th>Churn</th>\n",
       "      <th>Days</th>\n",
       "    </tr>\n",
       "  </thead>\n",
       "  <tbody>\n",
       "    <tr>\n",
       "      <th>MonthlyCharges</th>\n",
       "      <td>1.000000</td>\n",
       "      <td>0.651065</td>\n",
       "      <td>0.192858</td>\n",
       "      <td>0.243399</td>\n",
       "    </tr>\n",
       "    <tr>\n",
       "      <th>TotalCharges</th>\n",
       "      <td>0.651065</td>\n",
       "      <td>1.000000</td>\n",
       "      <td>-0.199484</td>\n",
       "      <td>0.824663</td>\n",
       "    </tr>\n",
       "    <tr>\n",
       "      <th>Churn</th>\n",
       "      <td>0.192858</td>\n",
       "      <td>-0.199484</td>\n",
       "      <td>1.000000</td>\n",
       "      <td>-0.364770</td>\n",
       "    </tr>\n",
       "    <tr>\n",
       "      <th>Days</th>\n",
       "      <td>0.243399</td>\n",
       "      <td>0.824663</td>\n",
       "      <td>-0.364770</td>\n",
       "      <td>1.000000</td>\n",
       "    </tr>\n",
       "  </tbody>\n",
       "</table>\n",
       "</div>"
      ],
      "text/plain": [
       "                MonthlyCharges  TotalCharges     Churn      Days\n",
       "MonthlyCharges        1.000000      0.651065  0.192858  0.243399\n",
       "TotalCharges          0.651065      1.000000 -0.199484  0.824663\n",
       "Churn                 0.192858     -0.199484  1.000000 -0.364770\n",
       "Days                  0.243399      0.824663 -0.364770  1.000000"
      ]
     },
     "execution_count": 23,
     "metadata": {},
     "output_type": "execute_result"
    }
   ],
   "source": [
    "data_final.corr()"
   ]
  },
  {
   "cell_type": "markdown",
   "id": "20d027e0",
   "metadata": {},
   "source": [
    "Observa-se que não existe uma correlação significativa com o churn em nenhuma das características numéricas. Porém há uma forte entre os dias e o total de cargas"
   ]
  },
  {
   "cell_type": "markdown",
   "id": "c2977bbc",
   "metadata": {},
   "source": [
    "Veremos agora as mensalidades dos assinantes dos serviços de telefone e internet e, para cada serviço, compararemos sua distribuição entre quem saiu e quem não saiu"
   ]
  },
  {
   "cell_type": "markdown",
   "id": "67027fda",
   "metadata": {},
   "source": [
    "### Cobrança Mensal dos Clientes do Serviço Telefônico"
   ]
  },
  {
   "cell_type": "code",
   "execution_count": 24,
   "id": "407ec0b6",
   "metadata": {},
   "outputs": [
    {
     "name": "stdout",
     "output_type": "stream",
     "text": [
      "<class 'pandas.core.frame.DataFrame'>\n",
      "Int64Index: 6352 entries, 1 to 7031\n",
      "Data columns (total 20 columns):\n",
      " #   Column            Non-Null Count  Dtype   \n",
      "---  ------            --------------  -----   \n",
      " 0   customerID        6352 non-null   object  \n",
      " 1   gender            6352 non-null   category\n",
      " 2   SeniorCitizen     6352 non-null   category\n",
      " 3   Partner           6352 non-null   category\n",
      " 4   Dependents        6352 non-null   category\n",
      " 5   Type              6352 non-null   category\n",
      " 6   PaperlessBilling  6352 non-null   category\n",
      " 7   PaymentMethod     6352 non-null   category\n",
      " 8   MonthlyCharges    6352 non-null   float64 \n",
      " 9   TotalCharges      6352 non-null   float64 \n",
      " 10  Churn             6352 non-null   int32   \n",
      " 11  Days              6352 non-null   float64 \n",
      " 12  MultipleLines     6352 non-null   category\n",
      " 13  InternetService   6352 non-null   category\n",
      " 14  OnlineSecurity    6352 non-null   category\n",
      " 15  OnlineBackup      6352 non-null   category\n",
      " 16  DeviceProtection  6352 non-null   category\n",
      " 17  TechSupport       6352 non-null   category\n",
      " 18  StreamingTV       6352 non-null   category\n",
      " 19  StreamingMovies   6352 non-null   category\n",
      "dtypes: category(15), float64(3), int32(1), object(1)\n",
      "memory usage: 367.9+ KB\n"
     ]
    }
   ],
   "source": [
    "phone_users = data_final[data_final['customerID'].isin(phone['customerID'])]\n",
    "phone_users.info()"
   ]
  },
  {
   "cell_type": "markdown",
   "id": "befb3887",
   "metadata": {},
   "source": [
    "Distribuição das cobranças mensais sobre os clientes de telefone"
   ]
  },
  {
   "cell_type": "code",
   "execution_count": 25,
   "id": "f661a180",
   "metadata": {
    "scrolled": false
   },
   "outputs": [
    {
     "data": {
      "image/png": "[encoded data removed]",
      "text/plain": [
       "<Figure size 640x480 with 1 Axes>"
      ]
     },
     "metadata": {},
     "output_type": "display_data"
    }
   ],
   "source": [
    "phone_users['MonthlyCharges'].hist(bins=20)\n",
    "plt.xlabel('Monthly Charges')\n",
    "plt.ylabel('Frequency')\n",
    "plt.title('Cobranças Mensais entre Clientes de Telefone')\n",
    "plt.show()"
   ]
  },
  {
   "cell_type": "code",
   "execution_count": 26,
   "id": "96b38d2a",
   "metadata": {},
   "outputs": [
    {
     "data": {
      "image/png": "[encoded data removed]",
      "text/plain": [
       "<Figure size 640x480 with 1 Axes>"
      ]
     },
     "metadata": {},
     "output_type": "display_data"
    }
   ],
   "source": [
    "phone_users.boxplot(column='MonthlyCharges')\n",
    "plt.title('Monthly charges among phone users')\n",
    "plt.show()"
   ]
  },
  {
   "cell_type": "code",
   "execution_count": 27,
   "id": "1ca6f8b1",
   "metadata": {},
   "outputs": [
    {
     "data": {
      "text/plain": [
       "count    6352.000000\n",
       "mean       67.239625\n",
       "std        30.438439\n",
       "min        18.250000\n",
       "25%        44.787500\n",
       "50%        74.700000\n",
       "75%        91.250000\n",
       "max       118.750000\n",
       "Name: MonthlyCharges, dtype: float64"
      ]
     },
     "execution_count": 27,
     "metadata": {},
     "output_type": "execute_result"
    }
   ],
   "source": [
    "phone_users['MonthlyCharges'].describe()"
   ]
  },
  {
   "cell_type": "markdown",
   "id": "f38c6a2c",
   "metadata": {},
   "source": [
    "Um usuário característico de telefone é normalmente cobrado entre cerca de 45 e cerca de 91. Todavia, segundo o histograma, há por volta de 1500 pessoas que pagam entre 20 e 30 cargas mensais."
   ]
  },
  {
   "cell_type": "markdown",
   "id": "08bd5b37",
   "metadata": {},
   "source": [
    " Distribuição de quem saiu e quem ficou"
   ]
  },
  {
   "cell_type": "code",
   "execution_count": 28,
   "id": "5d6f8b6b",
   "metadata": {},
   "outputs": [
    {
     "data": {
      "image/png": "[encoded data removed]",
      "text/plain": [
       "<Figure size 640x480 with 1 Axes>"
      ]
     },
     "metadata": {},
     "output_type": "display_data"
    }
   ],
   "source": [
    "phone_users[phone_users['Churn']==1]['MonthlyCharges'].hist(bins=20, alpha=0.5, label='churn=1')\n",
    "phone_users[phone_users['Churn']==0]['MonthlyCharges'].hist(bins=20, alpha=0.5, label='churn=0')\n",
    "plt.legend(loc='upper right')\n",
    "plt.xlabel('Monthly Charges')\n",
    "plt.title('Histograna de cargas mensais por churn (Phone users)')\n",
    "plt.show()"
   ]
  },
  {
   "cell_type": "markdown",
   "id": "c3fd6509",
   "metadata": {},
   "source": [
    "As distribuições são bastante semelhantes, embora para quem saiu seja muito menor"
   ]
  },
  {
   "cell_type": "code",
   "execution_count": 29,
   "id": "efda41c1",
   "metadata": {},
   "outputs": [
    {
     "data": {
      "image/png": "[encoded data removed]",
      "text/plain": [
       "<Figure size 640x480 with 1 Axes>"
      ]
     },
     "metadata": {},
     "output_type": "display_data"
    }
   ],
   "source": [
    "phone_users.boxplot(column='MonthlyCharges', by='Churn')\n",
    "plt.suptitle('')\n",
    "plt.show()"
   ]
  },
  {
   "cell_type": "markdown",
   "id": "3b27abbc",
   "metadata": {},
   "source": [
    "Constatamos que os que saíram normalmente pagaram mensalidades mais altas do que aqueles que permaneceram"
   ]
  },
  {
   "cell_type": "code",
   "execution_count": 30,
   "id": "15c253af",
   "metadata": {},
   "outputs": [
    {
     "name": "stdout",
     "output_type": "stream",
     "text": [
      "Distribuição de Cargas Mensais para Desistentes count    1699.000000\n",
      "mean       78.134255\n",
      "std        22.567643\n",
      "min        18.850000\n",
      "25%        69.975000\n",
      "50%        80.950000\n",
      "75%        94.850000\n",
      "max       118.350000\n",
      "Name: MonthlyCharges, dtype: float64\n",
      "\n",
      "Distribuição de Cargas Mensais para os que ficaram count    4653.000000\n",
      "mean       63.261552\n",
      "std        31.934310\n",
      "min        18.250000\n",
      "25%        24.500000\n",
      "50%        69.900000\n",
      "75%        90.050000\n",
      "max       118.750000\n",
      "Name: MonthlyCharges, dtype: float64\n"
     ]
    }
   ],
   "source": [
    "print('Distribuição de Cargas Mensais para Desistentes',\n",
    "      phone_users[phone_users['Churn']==1]['MonthlyCharges'].describe())\n",
    "print('')\n",
    "print('Distribuição de Cargas Mensais para os que ficaram',\n",
    "      phone_users[phone_users['Churn']==0]['MonthlyCharges'].describe())"
   ]
  },
  {
   "cell_type": "markdown",
   "id": "a1c2df95",
   "metadata": {},
   "source": [
    "Aqueles que saíram normalmente pagaram entre aproximadamente 70 e 95. Enquanto aqueles que permaneceram normalmente pagavam entre aproximadamente 24 e 90"
   ]
  },
  {
   "cell_type": "markdown",
   "id": "e913c03a",
   "metadata": {},
   "source": [
    "### Cobrança Mensal dos Cliente do Serviço de Internet"
   ]
  },
  {
   "cell_type": "markdown",
   "id": "e5839b1c",
   "metadata": {},
   "source": [
    "O mesmo processo feito para o serviço telefônico será repetido para o serviço de internet"
   ]
  },
  {
   "cell_type": "code",
   "execution_count": 31,
   "id": "bbf1ea06",
   "metadata": {},
   "outputs": [
    {
     "name": "stdout",
     "output_type": "stream",
     "text": [
      "<class 'pandas.core.frame.DataFrame'>\n",
      "Int64Index: 5512 entries, 0 to 7031\n",
      "Data columns (total 20 columns):\n",
      " #   Column            Non-Null Count  Dtype   \n",
      "---  ------            --------------  -----   \n",
      " 0   customerID        5512 non-null   object  \n",
      " 1   gender            5512 non-null   category\n",
      " 2   SeniorCitizen     5512 non-null   category\n",
      " 3   Partner           5512 non-null   category\n",
      " 4   Dependents        5512 non-null   category\n",
      " 5   Type              5512 non-null   category\n",
      " 6   PaperlessBilling  5512 non-null   category\n",
      " 7   PaymentMethod     5512 non-null   category\n",
      " 8   MonthlyCharges    5512 non-null   float64 \n",
      " 9   TotalCharges      5512 non-null   float64 \n",
      " 10  Churn             5512 non-null   int32   \n",
      " 11  Days              5512 non-null   float64 \n",
      " 12  MultipleLines     5512 non-null   category\n",
      " 13  InternetService   5512 non-null   category\n",
      " 14  OnlineSecurity    5512 non-null   category\n",
      " 15  OnlineBackup      5512 non-null   category\n",
      " 16  DeviceProtection  5512 non-null   category\n",
      " 17  TechSupport       5512 non-null   category\n",
      " 18  StreamingTV       5512 non-null   category\n",
      " 19  StreamingMovies   5512 non-null   category\n",
      "dtypes: category(15), float64(3), int32(1), object(1)\n",
      "memory usage: 319.5+ KB\n"
     ]
    }
   ],
   "source": [
    "internet_users = data_final[data_final['customerID'].isin(internet['customerID'])]\n",
    "internet_users.info()"
   ]
  },
  {
   "cell_type": "markdown",
   "id": "4cec0394",
   "metadata": {},
   "source": [
    "Distribuição de cargas mensais para os clientes do serviço de internet"
   ]
  },
  {
   "cell_type": "code",
   "execution_count": 32,
   "id": "9bc2045c",
   "metadata": {},
   "outputs": [
    {
     "data": {
      "image/png": "[encoded data removed]",
      "text/plain": [
       "<Figure size 640x480 with 1 Axes>"
      ]
     },
     "metadata": {},
     "output_type": "display_data"
    }
   ],
   "source": [
    "internet_users['MonthlyCharges'].hist(bins=20)\n",
    "plt.xlabel('Monthly Charges')\n",
    "plt.ylabel('Frequency')\n",
    "plt.title('Cargas mensasis dos clientes de Internet')\n",
    "plt.show()"
   ]
  },
  {
   "cell_type": "markdown",
   "id": "6813024e",
   "metadata": {},
   "source": [
    "Notamos 2 picos que estão localizados em torno de 50 e o outro em torno de 80. A distribuição está inclinada para a direita"
   ]
  },
  {
   "cell_type": "code",
   "execution_count": 33,
   "id": "043b2ff1",
   "metadata": {},
   "outputs": [
    {
     "data": {
      "image/png": "[encoded data removed]",
      "text/plain": [
       "<Figure size 640x480 with 1 Axes>"
      ]
     },
     "metadata": {},
     "output_type": "display_data"
    }
   ],
   "source": [
    "internet_users.boxplot(column='MonthlyCharges')\n",
    "plt.show()"
   ]
  },
  {
   "cell_type": "code",
   "execution_count": 34,
   "id": "645e4c47",
   "metadata": {},
   "outputs": [
    {
     "data": {
      "text/plain": [
       "count    5512.000000\n",
       "mean       76.855053\n",
       "std        21.929331\n",
       "min        23.450000\n",
       "25%        59.950000\n",
       "50%        79.500000\n",
       "75%        94.450000\n",
       "max       118.750000\n",
       "Name: MonthlyCharges, dtype: float64"
      ]
     },
     "execution_count": 34,
     "metadata": {},
     "output_type": "execute_result"
    }
   ],
   "source": [
    "internet_users['MonthlyCharges'].describe()"
   ]
  },
  {
   "cell_type": "markdown",
   "id": "2962b02e",
   "metadata": {},
   "source": [
    "Os usuários de Internet normalmente são cobrados entre cerca de 60 e 95 mensalmente. Agora dividiremos a distribuição por churn"
   ]
  },
  {
   "cell_type": "code",
   "execution_count": 35,
   "id": "5c8f35bd",
   "metadata": {},
   "outputs": [
    {
     "data": {
      "image/png": "[encoded data removed]",
      "text/plain": [
       "<Figure size 640x480 with 1 Axes>"
      ]
     },
     "metadata": {},
     "output_type": "display_data"
    }
   ],
   "source": [
    "internet_users[internet_users['Churn']==1]['MonthlyCharges'].hist(bins=20, alpha=0.5, label='churn=1')\n",
    "internet_users[internet_users['Churn']==0]['MonthlyCharges'].hist(bins=20, alpha=0.5, label='churn=0')\n",
    "plt.legend(loc='upper right')\n",
    "plt.xlabel('Monthly Charges')\n",
    "plt.title('Histograma de cargas mensais por churn (Internet users)')\n",
    "plt.show()"
   ]
  },
  {
   "cell_type": "markdown",
   "id": "8e164b3b",
   "metadata": {},
   "source": [
    "Novamente notamos distribuições semelhantes, embora as frequências variem a maioria das pessoas permaneceram"
   ]
  },
  {
   "cell_type": "code",
   "execution_count": 36,
   "id": "b8a15b13",
   "metadata": {
    "scrolled": false
   },
   "outputs": [
    {
     "data": {
      "image/png": "[encoded data removed]",
      "text/plain": [
       "<Figure size 640x480 with 1 Axes>"
      ]
     },
     "metadata": {},
     "output_type": "display_data"
    }
   ],
   "source": [
    "internet_users.boxplot(column='MonthlyCharges', by='Churn')\n",
    "plt.suptitle('')\n",
    "plt.show()"
   ]
  },
  {
   "cell_type": "code",
   "execution_count": 37,
   "id": "5859022b",
   "metadata": {},
   "outputs": [
    {
     "name": "stdout",
     "output_type": "stream",
     "text": [
      "Distribuição de Cargas Mensais para Desistentes count    1756.000000\n",
      "mean       77.920985\n",
      "std        21.144147\n",
      "min        23.450000\n",
      "25%        69.350000\n",
      "50%        80.450000\n",
      "75%        94.650000\n",
      "max       118.350000\n",
      "Name: MonthlyCharges, dtype: float64\n",
      "\n",
      "Distribuição de Cargas Mensais para os que ficaram count    3756.000000\n",
      "mean       76.356709\n",
      "std        22.272199\n",
      "min        24.150000\n",
      "25%        59.137500\n",
      "50%        78.725000\n",
      "75%        94.312500\n",
      "max       118.750000\n",
      "Name: MonthlyCharges, dtype: float64\n"
     ]
    }
   ],
   "source": [
    "print('Distribuição de Cargas Mensais para Desistentes',\n",
    "      internet_users[internet_users['Churn']==1]['MonthlyCharges'].describe())\n",
    "print('')\n",
    "print('Distribuição de Cargas Mensais para os que ficaram',\n",
    "      internet_users[internet_users['Churn']==0]['MonthlyCharges'].describe())"
   ]
  },
  {
   "cell_type": "markdown",
   "id": "06204796",
   "metadata": {},
   "source": [
    "Diferente da outra distribuição, notamos um equilíbrio maior na carga entre os que saíram e ficaram. Aqueles que saíram normalmente pagaram entre aproximadamente 69 e 95. Embora aqueles que permaneceram normalmente pagassem entre cerca 59 e 94"
   ]
  },
  {
   "cell_type": "markdown",
   "id": "dc20d798",
   "metadata": {},
   "source": [
    "Em resumo, tanto os utilizadores de internet como os de telefone, em geral, pagavam mensalidades mais elevadas quando cancelavam o serviço"
   ]
  },
  {
   "cell_type": "markdown",
   "id": "415ccf6a",
   "metadata": {},
   "source": [
    "- Conclusão"
   ]
  },
  {
   "cell_type": "markdown",
   "id": "a570a1f4",
   "metadata": {},
   "source": [
    "### Plano Geral de Resolução\n",
    "\n",
    "Passo 1: Importação e Análise Inicial dos Dados\n",
    "- Importe os dados para o notebook;\n",
    "- Realize uma análise inicial sobre os tipos de dados presentes em cada tabela para compreender melhor o conjunto de dados.\n",
    "\n",
    "Passo 2: Pré-processamento dos Dados\n",
    "- Faça os ajustes nos tipos de dados identificados na análise anterior;\n",
    "- Crie novas colunas extraindo informações de outras;\n",
    "- Execute as transformações apenas nas tabelas `contract` e `personal` devido à criação de valores ausentes após a mesclagem das tabelas, tornando o preenchimento mais eficiente;\n",
    "- Após a mesclagem, verifique se todos os dados foram transformados adequadamente e finalize esta etapa.\n",
    "\n",
    "Passo 3: Análise Exploratória de Dados\n",
    "- Inicie a análise exploratória verificando o balanceamento da classe alvo;\n",
    "- Plote gráficos relacionando cada característica com o churn para uma compreensão mais detalhada do dataframe;\n",
    "- Tire conclusões com base nos gráficos e nas observações feitas;\n",
    "- Analise a matriz de correlação;\n",
    "- Investigue as cargas mensais dos contratantes do serviço telefônico e de internet para fazer uma conclusão geral sobre os dados."
   ]
  },
  {
   "cell_type": "markdown",
   "id": "1731a0c8",
   "metadata": {},
   "source": [
    "### Perguntas de Esclarecimento\n",
    "\n",
    "_**Quais são os tipos de informações específicas extraídas das tabelas `contract` e `personal` para a criação das colunas adicionais durante o pré-processamento?**_\n",
    "- Foi extraída a informação sobre os dias de contrato do cliente (Days) e se o cliente cancelou ou não o contrato (churn).\n",
    "\n",
    "_**Quais são os principais insights ou conclusões derivados da análise exploratória de dados, especialmente em relação à relação entre as mensalidades mais altas e o cancelamento do serviço?**_\n",
    "- Isso sugere que os clientes que pagam mais podem estar mais propensos a cancelar o serviço. Como a maioria dos clientes que saíram pagam eletronicamente este pode ser a causa do problema, portanto, é recomendável analisar o funcionamento deste método.\n",
    "\n",
    "_**Pode ser fornecida uma explicação adicional sobre como a forte correlação entre os dias e o total de cargas foi investigada e como isso influenciou as descobertas na análise?**_\n",
    "- Isso significa que clientes que usam o serviço por mais dias tendem a realizar mais cargas. Essa descoberta pode ter implicações importantes, pois indica que a frequência de uso pode estar relacionada ao volume de cargas, o que pode influenciar diretamente nos resultados financeiros da empresa. Portanto, é importante investigar estratégias para incentivar a utilização mais frequente do serviço a fim de aumentar o volume de cargas e, assim, melhorar o desempenho financeiro da empresa."
   ]
  },
  {
   "cell_type": "markdown",
   "id": "eb871851",
   "metadata": {},
   "source": [
    "# Treinamento dos Modelos <a name='4'></a>"
   ]
  },
  {
   "cell_type": "markdown",
   "id": "3ddd1fce",
   "metadata": {},
   "source": [
    "Começaremos processando o dataset excluindo a coluna `customerID` já que não será mais utilizada e `Days` porque deve ser uma informação desconhecida na hora da predição."
   ]
  },
  {
   "cell_type": "code",
   "execution_count": 38,
   "id": "4272fd52",
   "metadata": {},
   "outputs": [],
   "source": [
    "data_final = data_final.drop(['customerID', 'Days'], axis=1)"
   ]
  },
  {
   "cell_type": "markdown",
   "id": "89c86069",
   "metadata": {},
   "source": [
    "Separando as características do target"
   ]
  },
  {
   "cell_type": "code",
   "execution_count": 39,
   "id": "cf7f85d9",
   "metadata": {},
   "outputs": [],
   "source": [
    "X = data_final.drop('Churn', axis=1)\n",
    "y = data_final['Churn']"
   ]
  },
  {
   "cell_type": "markdown",
   "id": "7fe1593d",
   "metadata": {},
   "source": [
    "Selecionando os dados categóricos e numéricos"
   ]
  },
  {
   "cell_type": "code",
   "execution_count": 40,
   "id": "52290e6b",
   "metadata": {
    "scrolled": false
   },
   "outputs": [
    {
     "name": "stdout",
     "output_type": "stream",
     "text": [
      "Index(['gender', 'SeniorCitizen', 'Partner', 'Dependents', 'Type',\n",
      "       'PaperlessBilling', 'PaymentMethod', 'MultipleLines', 'InternetService',\n",
      "       'OnlineSecurity', 'OnlineBackup', 'DeviceProtection', 'TechSupport',\n",
      "       'StreamingTV', 'StreamingMovies'],\n",
      "      dtype='object')\n",
      "Index(['MonthlyCharges', 'TotalCharges'], dtype='object')\n"
     ]
    }
   ],
   "source": [
    "categorical_columns = X.columns[X.dtypes == 'category']\n",
    "numeric_columns = X.columns[X.dtypes != 'category']\n",
    "\n",
    "print(categorical_columns)\n",
    "print(numeric_columns)"
   ]
  },
  {
   "cell_type": "markdown",
   "id": "da666681",
   "metadata": {},
   "source": [
    "## Modelos"
   ]
  },
  {
   "cell_type": "markdown",
   "id": "35a48dab",
   "metadata": {},
   "source": [
    "### Logistic Regression"
   ]
  },
  {
   "cell_type": "markdown",
   "id": "53cbe10f",
   "metadata": {},
   "source": [
    "Criando as etapas de pré-processamento para a validação"
   ]
  },
  {
   "cell_type": "code",
   "execution_count": 41,
   "id": "8e639eaf",
   "metadata": {},
   "outputs": [],
   "source": [
    "categorical_transformer = Pipeline(steps=[\n",
    "    ('onehot', OneHotEncoder())\n",
    "])\n",
    "\n",
    "numeric_transformer = Pipeline(steps=[\n",
    "    ('scaler', StandardScaler())\n",
    "])\n",
    "\n",
    "preprocessor = ColumnTransformer(\n",
    "    transformers=[\n",
    "        ('cat', categorical_transformer, categorical_columns),\n",
    "        ('num', numeric_transformer, numeric_columns)\n",
    "    ])"
   ]
  },
  {
   "cell_type": "markdown",
   "id": "7654aa7b",
   "metadata": {},
   "source": [
    "Criando o modelo e usando a validação cruzada estratificada para manter a proporção das classes"
   ]
  },
  {
   "cell_type": "code",
   "execution_count": 42,
   "id": "b42e0c70",
   "metadata": {},
   "outputs": [],
   "source": [
    "model = LogisticRegression(class_weight='balanced')\n",
    "\n",
    "cv = StratifiedKFold(n_splits=5, shuffle=True, random_state=42)\n",
    "auc_scores = []"
   ]
  },
  {
   "cell_type": "markdown",
   "id": "f44497d0",
   "metadata": {},
   "source": [
    "Para evitar o vazamento de dados ao realizar encoding no dataset antes de usá-lo, vamos garantir que o encoding seja aplicado separadamente a cada fold durante o processo de validação cruzada."
   ]
  },
  {
   "cell_type": "code",
   "execution_count": 43,
   "id": "d0151f05",
   "metadata": {
    "scrolled": true
   },
   "outputs": [
    {
     "name": "stdout",
     "output_type": "stream",
     "text": [
      "AUC-ROC médio: 0.7590\n"
     ]
    }
   ],
   "source": [
    "for train_idx, test_idx in cv.split(X, y):\n",
    "    X_train, y_train = X.iloc[train_idx], y.iloc[train_idx]\n",
    "    X_test, y_test = X.iloc[test_idx], y.iloc[test_idx]\n",
    "\n",
    "    clf = Pipeline(steps=[('preprocessor', preprocessor),\n",
    "                          ('classifier', model)])\n",
    "\n",
    "    # Treinando o modelo no conjunto de treinamento do fold atual\n",
    "    clf.fit(X_train, y_train)\n",
    "\n",
    "    # Previsões no conjunto de teste do fold atual\n",
    "    y_pred = clf.predict(X_test)\n",
    "\n",
    "    # AUC-ROC do fold atual\n",
    "    auc = roc_auc_score(y_test, y_pred)\n",
    "    auc_scores.append(auc)\n",
    "\n",
    "# AUC-ROC médio dos folds\n",
    "print(f\"AUC-ROC médio: {np.mean(auc_scores):.4f}\")"
   ]
  },
  {
   "cell_type": "markdown",
   "id": "c185f9bb",
   "metadata": {},
   "source": [
    "### Random Forest"
   ]
  },
  {
   "cell_type": "code",
   "execution_count": 44,
   "id": "093c20d2",
   "metadata": {
    "scrolled": true
   },
   "outputs": [
    {
     "name": "stdout",
     "output_type": "stream",
     "text": [
      "Melhor max_depth: 7\n",
      "AUC-ROC médio correspondente: 0.7664\n"
     ]
    }
   ],
   "source": [
    "max_depth_list = [2, 3, 4, 5, 6, 7, 8, 9, 10]\n",
    "\n",
    "auc_scores = []\n",
    "\n",
    "for max_depth in max_depth_list:\n",
    "    fold_aucs = []\n",
    "\n",
    "    for train_idx, test_idx in cv.split(X, y):\n",
    "        X_train, y_train = X.iloc[train_idx], y.iloc[train_idx]\n",
    "        X_test, y_test = X.iloc[test_idx], y.iloc[test_idx]\n",
    "\n",
    "        model = RandomForestClassifier(n_estimators=40, max_depth=max_depth, random_state=42, class_weight='balanced')\n",
    "\n",
    "        clf = Pipeline(steps=[('preprocessor', preprocessor),\n",
    "                              ('classifier', model)])\n",
    "\n",
    "        clf.fit(X_train, y_train)\n",
    "        \n",
    "        y_pred = clf.predict(X_test)\n",
    "\n",
    "        auc = roc_auc_score(y_test, y_pred)\n",
    "        fold_aucs.append(auc)\n",
    "\n",
    "    # Média das AUCs dos folds para o valor de max_depth atual\n",
    "    mean_auc = np.mean(fold_aucs)\n",
    "    auc_scores.append((max_depth, mean_auc))\n",
    "\n",
    "# max_depth com melhor média de AUC-ROC\n",
    "best_max_depth, best_auc = max(auc_scores, key=lambda x: x[1])\n",
    "\n",
    "print(f\"Melhor max_depth: {best_max_depth}\")\n",
    "print(f\"AUC-ROC médio correspondente: {best_auc:.4f}\")"
   ]
  },
  {
   "cell_type": "markdown",
   "id": "9692c5b8",
   "metadata": {},
   "source": [
    "### Catboost"
   ]
  },
  {
   "cell_type": "code",
   "execution_count": 45,
   "id": "2a878aec",
   "metadata": {},
   "outputs": [
    {
     "data": {
      "text/plain": [
       "0    5163\n",
       "1    1869\n",
       "Name: Churn, dtype: int64"
      ]
     },
     "execution_count": 45,
     "metadata": {},
     "output_type": "execute_result"
    }
   ],
   "source": [
    "data_final['Churn'].value_counts()"
   ]
  },
  {
   "cell_type": "code",
   "execution_count": 46,
   "id": "45f51b29",
   "metadata": {},
   "outputs": [
    {
     "name": "stdout",
     "output_type": "stream",
     "text": [
      "AUC-ROC médio: 0.7543\n",
      "Recall médio: 0.7539\n"
     ]
    }
   ],
   "source": [
    "model = CatBoostClassifier(verbose=False, random_state=42, scale_pos_weight=3)\n",
    "auc_scores = []\n",
    "recall_scores = []\n",
    "\n",
    "for train_idx, test_idx in cv.split(X, y):\n",
    "    X_train, y_train = X.iloc[train_idx], y.iloc[train_idx]\n",
    "    X_test, y_test = X.iloc[test_idx], y.iloc[test_idx]\n",
    "    \n",
    "    clf = Pipeline(steps=[('preprocessor', preprocessor),\n",
    "                          ('classifier', model)])\n",
    "\n",
    "    clf.fit(X_train, y_train)\n",
    "\n",
    "    y_pred = clf.predict(X_test)\n",
    "\n",
    "    auc = roc_auc_score(y_test, y_pred)\n",
    "    rec = recall_score(y_test, y_pred)\n",
    "    auc_scores.append(auc)\n",
    "    recall_scores.append(rec)\n",
    "\n",
    "print(f\"AUC-ROC médio: {np.mean(auc_scores):.4f}\")\n",
    "print(f\"Recall médio: {np.mean(recall_scores):.4f}\")"
   ]
  },
  {
   "cell_type": "markdown",
   "id": "c5694dc3",
   "metadata": {},
   "source": [
    "### LightGBM"
   ]
  },
  {
   "cell_type": "code",
   "execution_count": 47,
   "id": "033fcca5",
   "metadata": {},
   "outputs": [
    {
     "name": "stdout",
     "output_type": "stream",
     "text": [
      "AUC-ROC médio: 0.7506\n",
      "Recall médio: 0.7550\n"
     ]
    }
   ],
   "source": [
    "model = LGBMClassifier(random_state=42, scale_pos_weight=3)\n",
    "auc_scores = []\n",
    "recall_scores = []\n",
    "\n",
    "for train_idx, test_idx in cv.split(X, y):\n",
    "    X_train, y_train = X.iloc[train_idx], y.iloc[train_idx]\n",
    "    X_test, y_test = X.iloc[test_idx], y.iloc[test_idx]\n",
    "\n",
    "    clf = Pipeline(steps=[('preprocessor', preprocessor),\n",
    "                          ('classifier', model)])\n",
    "\n",
    "    clf.fit(X_train, y_train)\n",
    "    \n",
    "    y_pred = clf.predict(X_test)\n",
    "\n",
    "    auc = roc_auc_score(y_test, y_pred)\n",
    "    rec = recall_score(y_test, y_pred)\n",
    "    auc_scores.append(auc)\n",
    "    recall_scores.append(rec)\n",
    "\n",
    "print(f\"AUC-ROC médio: {np.mean(auc_scores):.4f}\")\n",
    "print(f\"Recall médio: {np.mean(recall_scores):.4f}\")"
   ]
  },
  {
   "cell_type": "markdown",
   "id": "b26c1821",
   "metadata": {},
   "source": [
    "## Teste Final"
   ]
  },
  {
   "cell_type": "markdown",
   "id": "6e9dad64",
   "metadata": {},
   "source": [
    "O modelo que se destacou na validação cruzada foi o Random Forest, com uma pontuação AUC-ROC de `0,7664`. Procederemos a avaliação do desempenho deste modelo no conjunto de testes utilizando o hiperparâmetro em que o max_depth é definido como 7."
   ]
  },
  {
   "cell_type": "code",
   "execution_count": 48,
   "id": "d5dbea8f",
   "metadata": {},
   "outputs": [],
   "source": [
    "X_train, X_test, y_train, y_test = train_test_split(X, y, random_state=42)"
   ]
  },
  {
   "cell_type": "code",
   "execution_count": 49,
   "id": "215f4ae3",
   "metadata": {},
   "outputs": [],
   "source": [
    "model = RandomForestClassifier(n_estimators=40, max_depth=7, random_state=42, class_weight='balanced')"
   ]
  },
  {
   "cell_type": "code",
   "execution_count": 50,
   "id": "46b1b3c8",
   "metadata": {},
   "outputs": [],
   "source": [
    "clf = Pipeline(steps=[('preprocessor', preprocessor),\n",
    "                      ('classifier', model)])"
   ]
  },
  {
   "cell_type": "code",
   "execution_count": 52,
   "id": "e44b59ce",
   "metadata": {},
   "outputs": [
    {
     "name": "stdout",
     "output_type": "stream",
     "text": [
      "AUC-ROC = 0.8295851528384279\n",
      "Accuracy = 0.7417519908987485\n",
      "Recall = 0.759825327510917\n"
     ]
    }
   ],
   "source": [
    "clf.fit(X_train, y_train)\n",
    "pred = clf.predict(X_test)\n",
    "probab = clf.predict_proba(X_test)\n",
    "auc = roc_auc_score(y_test, probab[:,1])\n",
    "acc = accuracy_score(y_test, pred)\n",
    "rec = recall_score(y_test, pred)\n",
    "\n",
    "print('AUC-ROC =', auc)\n",
    "print('Accuracy =', acc)\n",
    "print('Recall =', rec)"
   ]
  },
  {
   "cell_type": "markdown",
   "id": "a516ceab",
   "metadata": {},
   "source": [
    "# Conclusão <a name='5'></a>"
   ]
  },
  {
   "cell_type": "markdown",
   "id": "200a3507",
   "metadata": {},
   "source": [
    "Examinamos os dados e identificamos que os clientes que optaram por encerrar seus contratos geralmente estavam pagando mensalidades mais elevadas. A maioria dos clientes que cancelou o serviço fazia seus pagamentos eletronicamente, o que sugere a necessidade de investigar esse sistema em particular. Além disso, realizamos treinamento com diversos modelos, incluindo Logistic Regression, Random Forest, CatBoost e LightGBM. Após aplicar uma pipeline para pré-processar os dados dentro da validação cruzada, observamos que o modelo Random Forest obteve a melhor pontuação `0,7664` no conjunto de treinamento. Ao avaliá-lo no conjunto de teste, alcançamos uma  pontuação AUC-ROC de ~`0,82959` e uma taxa de precisão de ~`74,18%`."
   ]
  }
 ],
 "metadata": {
  "kernelspec": {
   "display_name": "Python 3 (ipykernel)",
   "language": "python",
   "name": "python3"
  },
  "language_info": {
   "codemirror_mode": {
    "name": "ipython",
    "version": 3
   },
   "file_extension": ".py",
   "mimetype": "text/x-python",
   "name": "python",
   "nbconvert_exporter": "python",
   "pygments_lexer": "ipython3",
   "version": "3.9.13"
  },
  "toc": {
   "base_numbering": 1,
   "nav_menu": {},
   "number_sections": true,
   "sideBar": true,
   "skip_h1_title": true,
   "title_cell": "Table of Contents",
   "title_sidebar": "Contents",
   "toc_cell": false,
   "toc_position": {},
   "toc_section_display": true,
   "toc_window_display": false
  }
 },
 "nbformat": 4,
 "nbformat_minor": 5
}
