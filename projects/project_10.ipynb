{
 "cells": [
  {
   "cell_type": "markdown",
   "metadata": {},
   "source": [
    "# Protegendo os Dados do Cliente com um Algoritmo de Transformação\n",
    "\n",
    "A empresa de seguros Proteja Seu Amanhã busca proteger os dados de seus clientes desenvolvendo um algoritmo de transformação que dificulte a recuperação de informações pessoais. O desafio é garantir a segurança dos dados sem comprometer a qualidade dos modelos de aprendizado de máquina. O objetivo é criar um algoritmo eficaz e demonstrar sua efetividade por meio de uma prova matemática. Dessa forma, a Proteja Seu Amanhã poderá preservar a privacidade dos clientes, mantendo a precisão e confiabilidade das análises de dados."
   ]
  },
  {
   "cell_type": "markdown",
   "metadata": {},
   "source": [
    "# Sumário\n",
    "1. [Iniciação](#in)\n",
    "2. [Multiplicação de Matrizes](#mm)\n",
    "3. [Algoritmo de Transformação](#atr)\n",
    "4. [Algoritmo de Teste](#ate)\n",
    "5. [Conclusão](#cc)"
   ]
  },
  {
   "cell_type": "markdown",
   "metadata": {},
   "source": [
    "## Iniciação <a name=\"step1\"></a>"
   ]
  },
  {
   "cell_type": "code",
   "execution_count": 1,
   "metadata": {},
   "outputs": [],
   "source": [
    "import pandas as pd\n",
    "import numpy as np\n",
    "from sklearn.linear_model import LinearRegression\n",
    "from sklearn.model_selection import train_test_split\n",
    "from sklearn.metrics import r2_score, mean_squared_error"
   ]
  },
  {
   "cell_type": "code",
   "execution_count": 2,
   "metadata": {},
   "outputs": [],
   "source": [
    "try:\n",
    "    data = pd.read_csv('insurance_us.csv')\n",
    "except:\n",
    "    data = pd.read_csv('/datasets/insurance_us.csv')"
   ]
  },
  {
   "cell_type": "code",
   "execution_count": 3,
   "metadata": {},
   "outputs": [
    {
     "name": "stdout",
     "output_type": "stream",
     "text": [
      "<class 'pandas.core.frame.DataFrame'>\n",
      "RangeIndex: 5000 entries, 0 to 4999\n",
      "Data columns (total 5 columns):\n",
      " #   Column              Non-Null Count  Dtype  \n",
      "---  ------              --------------  -----  \n",
      " 0   Gender              5000 non-null   int64  \n",
      " 1   Age                 5000 non-null   float64\n",
      " 2   Salary              5000 non-null   float64\n",
      " 3   Family members      5000 non-null   int64  \n",
      " 4   Insurance benefits  5000 non-null   int64  \n",
      "dtypes: float64(2), int64(3)\n",
      "memory usage: 195.4 KB\n"
     ]
    },
    {
     "data": {
      "text/html": [
       "<div>\n",
       "<style scoped>\n",
       "    .dataframe tbody tr th:only-of-type {\n",
       "        vertical-align: middle;\n",
       "    }\n",
       "\n",
       "    .dataframe tbody tr th {\n",
       "        vertical-align: top;\n",
       "    }\n",
       "\n",
       "    .dataframe thead th {\n",
       "        text-align: right;\n",
       "    }\n",
       "</style>\n",
       "<table border=\"1\" class=\"dataframe\">\n",
       "  <thead>\n",
       "    <tr style=\"text-align: right;\">\n",
       "      <th></th>\n",
       "      <th>Gender</th>\n",
       "      <th>Age</th>\n",
       "      <th>Salary</th>\n",
       "      <th>Family members</th>\n",
       "      <th>Insurance benefits</th>\n",
       "    </tr>\n",
       "  </thead>\n",
       "  <tbody>\n",
       "    <tr>\n",
       "      <th>0</th>\n",
       "      <td>1</td>\n",
       "      <td>41.0</td>\n",
       "      <td>49600.0</td>\n",
       "      <td>1</td>\n",
       "      <td>0</td>\n",
       "    </tr>\n",
       "    <tr>\n",
       "      <th>1</th>\n",
       "      <td>0</td>\n",
       "      <td>46.0</td>\n",
       "      <td>38000.0</td>\n",
       "      <td>1</td>\n",
       "      <td>1</td>\n",
       "    </tr>\n",
       "    <tr>\n",
       "      <th>2</th>\n",
       "      <td>0</td>\n",
       "      <td>29.0</td>\n",
       "      <td>21000.0</td>\n",
       "      <td>0</td>\n",
       "      <td>0</td>\n",
       "    </tr>\n",
       "    <tr>\n",
       "      <th>3</th>\n",
       "      <td>0</td>\n",
       "      <td>21.0</td>\n",
       "      <td>41700.0</td>\n",
       "      <td>2</td>\n",
       "      <td>0</td>\n",
       "    </tr>\n",
       "    <tr>\n",
       "      <th>4</th>\n",
       "      <td>1</td>\n",
       "      <td>28.0</td>\n",
       "      <td>26100.0</td>\n",
       "      <td>0</td>\n",
       "      <td>0</td>\n",
       "    </tr>\n",
       "  </tbody>\n",
       "</table>\n",
       "</div>"
      ],
      "text/plain": [
       "   Gender   Age   Salary  Family members  Insurance benefits\n",
       "0       1  41.0  49600.0               1                   0\n",
       "1       0  46.0  38000.0               1                   1\n",
       "2       0  29.0  21000.0               0                   0\n",
       "3       0  21.0  41700.0               2                   0\n",
       "4       1  28.0  26100.0               0                   0"
      ]
     },
     "execution_count": 3,
     "metadata": {},
     "output_type": "execute_result"
    }
   ],
   "source": [
    "data.info()\n",
    "data.head()"
   ]
  },
  {
   "cell_type": "markdown",
   "metadata": {},
   "source": [
    "Não há valores ausentes. Agora verificaremos se existem linhas duplicadas."
   ]
  },
  {
   "cell_type": "code",
   "execution_count": 4,
   "metadata": {},
   "outputs": [
    {
     "data": {
      "text/plain": [
       "153"
      ]
     },
     "execution_count": 4,
     "metadata": {},
     "output_type": "execute_result"
    }
   ],
   "source": [
    "data.duplicated().sum()"
   ]
  },
  {
   "cell_type": "markdown",
   "metadata": {},
   "source": [
    "Existem 153 linhas duplicadas. Não é necessariamente preciso removê-las, dado que o objetivo é verificar se uma transformação de matriz altera ou não a qualidade do aprendizado de máquina."
   ]
  },
  {
   "cell_type": "markdown",
   "metadata": {},
   "source": [
    "## Multiplicação de Matrizes <a name=\"mm\"></a>"
   ]
  },
  {
   "cell_type": "markdown",
   "metadata": {},
   "source": [
    "- $X$ — matriz de características (a coluna zero consiste de unidades)\n",
    "\n",
    "- $y$ — vetor alvo\n",
    "\n",
    "- $P$ — matriz pela qual as características são multiplicadas\n",
    "\n",
    "- $w$ — vetor de pesos da regressão linear (o elemento zero é igual ao deslocamento)"
   ]
  },
  {
   "cell_type": "markdown",
   "metadata": {},
   "source": [
    "Predições:\n",
    "\n",
    "$$\n",
    "a = Xw\n",
    "$$\n",
    "\n",
    "Objetivo de treinamento:\n",
    "\n",
    "$$\n",
    "\\min_w d_2(Xw, y)\n",
    "$$\n",
    "\n",
    "Fórmula de treinamento:\n",
    "\n",
    "$$\n",
    "w = (X^T X)^{-1} X^T y\n",
    "$$"
   ]
  },
  {
   "cell_type": "markdown",
   "metadata": {},
   "source": [
    "__Solução__:\n",
    "\n",
    "Na fórmula de treinamento, podemos multiplicar a matriz de características pela matriz P para criar um algoritmo que torne mais difícil recuperar informações pessoais a partir dos dados transformados. Tentaremos criar uma prova matemática para demonstrar isso.\n",
    "\n",
    "$$ X'=XP $$\n",
    "\n",
    "Denominaremos as novas previsões como a'. A equação de previsão é então modificada da seguinte forma: $$ a'=X'w'=XPw' $$\n",
    "\n",
    "O novo peso do vetor w' será: $$ w'=(X'^T X')^{-1}X'^Ty=(X^TP^TXP)^{-1}X^TP^Ty $$\n",
    "\n",
    "\n",
    "__Justificação:__\n",
    "\n",
    "Substituindo o valor de w' em a': $$ a'=XP(X^TP^TXP)^{-1}X^TP^Ty $$\n",
    "\n",
    "Rearranjando os termos: $$ a'=X(PP^{-1})(X^TX)^{-1}(P^T)^{-1}P^TX^Ty $$\n",
    "\n",
    "Qualquer matriz multiplicada por sua inversa resulta na matriz identidade, deste modo, simplificamos: \n",
    "$$ a'=X(X^TX)^{-1}X^Ty=Xw=a $$\n",
    "\n",
    "Isso comprova que as previsões não serão alteradas e a qualidade do modelo de aprendizado de máquina não será prejudicada.\n",
    "\n",
    "A relação entre w' e w:\n",
    "$$ w'=(X^TP^TXP)^{-1}X^TP^Ty=(P^TP)^{-1}P^T(X^TX)^{-1}X^Ty=P^{-1}w $$"
   ]
  },
  {
   "cell_type": "markdown",
   "metadata": {},
   "source": [
    "## Algoritmo de Transformação <a name=\"atr\"></a>"
   ]
  },
  {
   "cell_type": "markdown",
   "metadata": {},
   "source": [
    "__Algoritmo__\n",
    "1. Criar uma matriz de transformação aleatória. Ela deve ser uma matriz quadrada, com sua forma sendo o número de colunas de características. Por exemplo: `t_matrix=np.random.normal(size=(features_columns, features_columns))`\n",
    "\n",
    "2. Verificar se a matriz aleatória é invertível usando: `np.linalg.inv(t_matrix)`. Se recebermos um erro desta operação, significa que a matriz não é invertível, mas esse caso é bastante raro.\n",
    "\n",
    "3. Multiplicar a matriz de características pela matriz aleatória invertível.\n",
    "\n",
    "4. Obter os `r2_scores` para os modelos antes e depois da transformação."
   ]
  },
  {
   "cell_type": "markdown",
   "metadata": {},
   "source": [
    "__Justificação__\n",
    "\n",
    "A prova de que a ofuscação dos dados não afetará a qualidade do modelo será demonstrada se as pontuações de R2 para os modelos antes e depois da transformação forem idênticos (ou apresentarem uma diferença insignificante)."
   ]
  },
  {
   "cell_type": "markdown",
   "metadata": {},
   "source": [
    "## Algoritmo de Teste <a name=\"ate\"></a>"
   ]
  },
  {
   "cell_type": "markdown",
   "metadata": {},
   "source": [
    "Antes de tudo, dividiremos os dados."
   ]
  },
  {
   "cell_type": "code",
   "execution_count": 5,
   "metadata": {},
   "outputs": [],
   "source": [
    "features = data.drop('Insurance benefits', axis=1) \n",
    "target = data['Insurance benefits']\n",
    "\n",
    "x_train, x_test, y_train, y_test = train_test_split(features, target, test_size=0.2, random_state=12345)"
   ]
  },
  {
   "cell_type": "markdown",
   "metadata": {},
   "source": [
    "Podemos criar a matriz de transformação, na qual o número de linhas e o número de colunas são iguais ao número de características."
   ]
  },
  {
   "cell_type": "code",
   "execution_count": 6,
   "metadata": {},
   "outputs": [
    {
     "data": {
      "text/plain": [
       "array([[-0.22364295, -0.51529631, -1.63478913,  0.27938864],\n",
       "       [ 0.19333591, -1.11601689,  0.02239367,  1.75963434],\n",
       "       [-1.38215663, -0.88800522,  0.55072179,  1.74660307],\n",
       "       [-0.90813379, -0.27757844,  0.19676916,  0.47206562]])"
      ]
     },
     "execution_count": 6,
     "metadata": {},
     "output_type": "execute_result"
    }
   ],
   "source": [
    "t_matrix = np.random.normal(size=(x_train.shape[1], x_train.shape[1]))\n",
    "t_matrix"
   ]
  },
  {
   "cell_type": "markdown",
   "metadata": {},
   "source": [
    "Verificaremos se a matriz de transformação aleatória é invertível calculando sua inversa."
   ]
  },
  {
   "cell_type": "code",
   "execution_count": 7,
   "metadata": {},
   "outputs": [
    {
     "data": {
      "text/plain": [
       "array([[ -0.13382751,   0.36116432,  -0.12660126,  -0.79862859],\n",
       "       [  0.91201973,  -4.02666994,   7.14049376, -11.9495031 ],\n",
       "       [ -0.77780655,   0.87181353,  -1.45390289,   2.58995467],\n",
       "       [  0.60303496,  -2.03632126,   4.56114448,  -7.52397361]])"
      ]
     },
     "execution_count": 7,
     "metadata": {},
     "output_type": "execute_result"
    }
   ],
   "source": [
    "np.linalg.inv(t_matrix)"
   ]
  },
  {
   "cell_type": "markdown",
   "metadata": {},
   "source": [
    "A matriz é invertível, então podemos prosseguir e transformar os dados realizando uma multiplicação de matriz das características pela matriz de transformação."
   ]
  },
  {
   "cell_type": "code",
   "execution_count": 8,
   "metadata": {},
   "outputs": [],
   "source": [
    "x_train_trans = x_train@t_matrix\n",
    "x_test_trans = x_test@t_matrix"
   ]
  },
  {
   "cell_type": "markdown",
   "metadata": {},
   "source": [
    "Agora podemos treinar o modelo de regressão linear e comparar o `r2_score` para os modelos de antes e depois da transformação."
   ]
  },
  {
   "cell_type": "code",
   "execution_count": 9,
   "metadata": {
    "scrolled": true
   },
   "outputs": [
    {
     "name": "stdout",
     "output_type": "stream",
     "text": [
      "-----ANTES DA TRANSFORMAÇÃO-----\n",
      "R2 score: 0.41, RMSE: 0.33\n",
      "-----DEPOIS DA TRANSFORMAÇÃO-----\n",
      "R2 score: 0.41, RMSE: 0.33\n"
     ]
    }
   ],
   "source": [
    "model = LinearRegression()\n",
    "\n",
    "#Antes\n",
    "model.fit(x_train, y_train)\n",
    "pred1 = model.predict(x_test)\n",
    "r2_before = r2_score(y_test, pred1)\n",
    "rmse_before = (mean_squared_error(y_test, pred1))**0.5\n",
    "\n",
    "#Depois\n",
    "model.fit(x_train_trans, y_train)\n",
    "pred2 = model.predict(x_test_trans)\n",
    "r2_after = r2_score(y_test, pred2)\n",
    "rmse_after = (mean_squared_error(y_test, pred2))**0.5\n",
    "\n",
    "print('-----ANTES DA TRANSFORMAÇÃO-----')\n",
    "print('R2 score: {:.2f}, RMSE: {:.2f}'.format(r2_before, rmse_before))\n",
    "print('-----DEPOIS DA TRANSFORMAÇÃO-----')\n",
    "print('R2 score: {:.2f}, RMSE: {:.2f}'.format(r2_after, rmse_after))"
   ]
  },
  {
   "cell_type": "markdown",
   "metadata": {},
   "source": [
    "As diferenças entre as pontuação R2 e RMSE são muito insignificantes. Portanto, a ofuscação não afetou o modelo."
   ]
  },
  {
   "cell_type": "markdown",
   "metadata": {},
   "source": [
    "## Conclusão <a name=\"cc\"></a>\n",
    "1. Provamos teoricamente que a transformação não afeta a fórmula de previsão.\n",
    "2. Treinamos modelos de regressão linear para o cenário sem transformação e com transformação.\n",
    "3. Obtivemos as pontuações de R2 e RMSE para ambos os cenários e observamos que as diferenças entre eles são insignificantes, provando que a transformação não afeta a qualidade do modelo."
   ]
  }
 ],
 "metadata": {
  "kernelspec": {
   "display_name": "Python 3 (ipykernel)",
   "language": "python",
   "name": "python3"
  },
  "language_info": {
   "codemirror_mode": {
    "name": "ipython",
    "version": 3
   },
   "file_extension": ".py",
   "mimetype": "text/x-python",
   "name": "python",
   "nbconvert_exporter": "python",
   "pygments_lexer": "ipython3",
   "version": "3.9.13"
  },
  "toc": {
   "base_numbering": 1,
   "nav_menu": {},
   "number_sections": true,
   "sideBar": true,
   "skip_h1_title": true,
   "title_cell": "Table of Contents",
   "title_sidebar": "Contents",
   "toc_cell": false,
   "toc_position": {},
   "toc_section_display": true,
   "toc_window_display": false
  }
 },
 "nbformat": 4,
 "nbformat_minor": 2
}
